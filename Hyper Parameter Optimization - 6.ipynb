{
 "cells": [
  {
   "cell_type": "markdown",
   "metadata": {
    "colab_type": "text",
    "id": "bnie1MCWRnI-"
   },
   "source": [
    "# All Techniques Of Hyper Parameter Optimization\n",
    "\n",
    "1. RandomizedSearchCV\n",
    "2. GridSearchCV\n",
    "3. Bayesian Optimization - Automate Hyperparameter Tuning (Hyperopt)\n",
    "4. Genetic Algorithms (TPOT Classifier)\n",
    "5. Optuna - Automate Hyperparameter Tuning\n",
    "\n"
   ]
  },
  {
   "cell_type": "code",
   "execution_count": 9,
   "metadata": {
    "colab": {},
    "colab_type": "code",
    "id": "EhNjcNwERnJF"
   },
   "outputs": [],
   "source": [
    "import warnings\n",
    "warnings.filterwarnings('ignore')"
   ]
  },
  {
   "cell_type": "code",
   "execution_count": 10,
   "metadata": {
    "colab": {
     "base_uri": "https://localhost:8080/",
     "height": 204
    },
    "colab_type": "code",
    "id": "Ve157gNdRnJd",
    "outputId": "a9b57db4-1b84-4df0-8fc7-fc74602f6bfc"
   },
   "outputs": [
    {
     "data": {
      "text/html": [
       "<div>\n",
       "<style scoped>\n",
       "    .dataframe tbody tr th:only-of-type {\n",
       "        vertical-align: middle;\n",
       "    }\n",
       "\n",
       "    .dataframe tbody tr th {\n",
       "        vertical-align: top;\n",
       "    }\n",
       "\n",
       "    .dataframe thead th {\n",
       "        text-align: right;\n",
       "    }\n",
       "</style>\n",
       "<table border=\"1\" class=\"dataframe\">\n",
       "  <thead>\n",
       "    <tr style=\"text-align: right;\">\n",
       "      <th></th>\n",
       "      <th>Pregnancies</th>\n",
       "      <th>Glucose</th>\n",
       "      <th>BloodPressure</th>\n",
       "      <th>SkinThickness</th>\n",
       "      <th>Insulin</th>\n",
       "      <th>BMI</th>\n",
       "      <th>DiabetesPedigreeFunction</th>\n",
       "      <th>Age</th>\n",
       "      <th>Outcome</th>\n",
       "    </tr>\n",
       "  </thead>\n",
       "  <tbody>\n",
       "    <tr>\n",
       "      <th>0</th>\n",
       "      <td>6</td>\n",
       "      <td>148</td>\n",
       "      <td>72</td>\n",
       "      <td>35</td>\n",
       "      <td>0</td>\n",
       "      <td>33.6</td>\n",
       "      <td>0.627</td>\n",
       "      <td>50</td>\n",
       "      <td>1</td>\n",
       "    </tr>\n",
       "    <tr>\n",
       "      <th>1</th>\n",
       "      <td>1</td>\n",
       "      <td>85</td>\n",
       "      <td>66</td>\n",
       "      <td>29</td>\n",
       "      <td>0</td>\n",
       "      <td>26.6</td>\n",
       "      <td>0.351</td>\n",
       "      <td>31</td>\n",
       "      <td>0</td>\n",
       "    </tr>\n",
       "    <tr>\n",
       "      <th>2</th>\n",
       "      <td>8</td>\n",
       "      <td>183</td>\n",
       "      <td>64</td>\n",
       "      <td>0</td>\n",
       "      <td>0</td>\n",
       "      <td>23.3</td>\n",
       "      <td>0.672</td>\n",
       "      <td>32</td>\n",
       "      <td>1</td>\n",
       "    </tr>\n",
       "    <tr>\n",
       "      <th>3</th>\n",
       "      <td>1</td>\n",
       "      <td>89</td>\n",
       "      <td>66</td>\n",
       "      <td>23</td>\n",
       "      <td>94</td>\n",
       "      <td>28.1</td>\n",
       "      <td>0.167</td>\n",
       "      <td>21</td>\n",
       "      <td>0</td>\n",
       "    </tr>\n",
       "    <tr>\n",
       "      <th>4</th>\n",
       "      <td>0</td>\n",
       "      <td>137</td>\n",
       "      <td>40</td>\n",
       "      <td>35</td>\n",
       "      <td>168</td>\n",
       "      <td>43.1</td>\n",
       "      <td>2.288</td>\n",
       "      <td>33</td>\n",
       "      <td>1</td>\n",
       "    </tr>\n",
       "  </tbody>\n",
       "</table>\n",
       "</div>"
      ],
      "text/plain": [
       "   Pregnancies  Glucose  BloodPressure  ...  DiabetesPedigreeFunction  Age  Outcome\n",
       "0            6      148             72  ...                     0.627   50        1\n",
       "1            1       85             66  ...                     0.351   31        0\n",
       "2            8      183             64  ...                     0.672   32        1\n",
       "3            1       89             66  ...                     0.167   21        0\n",
       "4            0      137             40  ...                     2.288   33        1\n",
       "\n",
       "[5 rows x 9 columns]"
      ]
     },
     "execution_count": 10,
     "metadata": {
      "tags": []
     },
     "output_type": "execute_result"
    }
   ],
   "source": [
    "import pandas as pd\n",
    "df=pd.read_csv('diabetes.csv')\n",
    "df.head()"
   ]
  },
  {
   "cell_type": "code",
   "execution_count": 11,
   "metadata": {
    "colab": {
     "base_uri": "https://localhost:8080/",
     "height": 204
    },
    "colab_type": "code",
    "id": "gE_I4zFZRnJ1",
    "outputId": "eda84720-24a6-4135-bfd1-8fe2de7759c2"
   },
   "outputs": [
    {
     "data": {
      "text/html": [
       "<div>\n",
       "<style scoped>\n",
       "    .dataframe tbody tr th:only-of-type {\n",
       "        vertical-align: middle;\n",
       "    }\n",
       "\n",
       "    .dataframe tbody tr th {\n",
       "        vertical-align: top;\n",
       "    }\n",
       "\n",
       "    .dataframe thead th {\n",
       "        text-align: right;\n",
       "    }\n",
       "</style>\n",
       "<table border=\"1\" class=\"dataframe\">\n",
       "  <thead>\n",
       "    <tr style=\"text-align: right;\">\n",
       "      <th></th>\n",
       "      <th>Pregnancies</th>\n",
       "      <th>Glucose</th>\n",
       "      <th>BloodPressure</th>\n",
       "      <th>SkinThickness</th>\n",
       "      <th>Insulin</th>\n",
       "      <th>BMI</th>\n",
       "      <th>DiabetesPedigreeFunction</th>\n",
       "      <th>Age</th>\n",
       "      <th>Outcome</th>\n",
       "    </tr>\n",
       "  </thead>\n",
       "  <tbody>\n",
       "    <tr>\n",
       "      <th>0</th>\n",
       "      <td>6</td>\n",
       "      <td>148.0</td>\n",
       "      <td>72</td>\n",
       "      <td>35</td>\n",
       "      <td>0</td>\n",
       "      <td>33.6</td>\n",
       "      <td>0.627</td>\n",
       "      <td>50</td>\n",
       "      <td>1</td>\n",
       "    </tr>\n",
       "    <tr>\n",
       "      <th>1</th>\n",
       "      <td>1</td>\n",
       "      <td>85.0</td>\n",
       "      <td>66</td>\n",
       "      <td>29</td>\n",
       "      <td>0</td>\n",
       "      <td>26.6</td>\n",
       "      <td>0.351</td>\n",
       "      <td>31</td>\n",
       "      <td>0</td>\n",
       "    </tr>\n",
       "    <tr>\n",
       "      <th>2</th>\n",
       "      <td>8</td>\n",
       "      <td>183.0</td>\n",
       "      <td>64</td>\n",
       "      <td>0</td>\n",
       "      <td>0</td>\n",
       "      <td>23.3</td>\n",
       "      <td>0.672</td>\n",
       "      <td>32</td>\n",
       "      <td>1</td>\n",
       "    </tr>\n",
       "    <tr>\n",
       "      <th>3</th>\n",
       "      <td>1</td>\n",
       "      <td>89.0</td>\n",
       "      <td>66</td>\n",
       "      <td>23</td>\n",
       "      <td>94</td>\n",
       "      <td>28.1</td>\n",
       "      <td>0.167</td>\n",
       "      <td>21</td>\n",
       "      <td>0</td>\n",
       "    </tr>\n",
       "    <tr>\n",
       "      <th>4</th>\n",
       "      <td>0</td>\n",
       "      <td>137.0</td>\n",
       "      <td>40</td>\n",
       "      <td>35</td>\n",
       "      <td>168</td>\n",
       "      <td>43.1</td>\n",
       "      <td>2.288</td>\n",
       "      <td>33</td>\n",
       "      <td>1</td>\n",
       "    </tr>\n",
       "  </tbody>\n",
       "</table>\n",
       "</div>"
      ],
      "text/plain": [
       "   Pregnancies  Glucose  BloodPressure  ...  DiabetesPedigreeFunction  Age  Outcome\n",
       "0            6    148.0             72  ...                     0.627   50        1\n",
       "1            1     85.0             66  ...                     0.351   31        0\n",
       "2            8    183.0             64  ...                     0.672   32        1\n",
       "3            1     89.0             66  ...                     0.167   21        0\n",
       "4            0    137.0             40  ...                     2.288   33        1\n",
       "\n",
       "[5 rows x 9 columns]"
      ]
     },
     "execution_count": 11,
     "metadata": {
      "tags": []
     },
     "output_type": "execute_result"
    }
   ],
   "source": [
    "import numpy as np\n",
    "df['Glucose']=np.where(df['Glucose']==0,df['Glucose'].median(),df['Glucose'])\n",
    "df.head()"
   ]
  },
  {
   "cell_type": "code",
   "execution_count": 12,
   "metadata": {
    "colab": {},
    "colab_type": "code",
    "id": "DeZBbAJQRnKG"
   },
   "outputs": [],
   "source": [
    "#### Independent And Dependent features\n",
    "X=df.drop('Outcome',axis=1)\n",
    "y=df['Outcome']"
   ]
  },
  {
   "cell_type": "code",
   "execution_count": 5,
   "metadata": {
    "colab": {
     "base_uri": "https://localhost:8080/",
     "height": 419
    },
    "colab_type": "code",
    "id": "HcgM4_0eRnKY",
    "outputId": "2703b72e-6190-4e44-e2d8-6a416bdf7328"
   },
   "outputs": [
    {
     "data": {
      "text/html": [
       "<div>\n",
       "<style scoped>\n",
       "    .dataframe tbody tr th:only-of-type {\n",
       "        vertical-align: middle;\n",
       "    }\n",
       "\n",
       "    .dataframe tbody tr th {\n",
       "        vertical-align: top;\n",
       "    }\n",
       "\n",
       "    .dataframe thead th {\n",
       "        text-align: right;\n",
       "    }\n",
       "</style>\n",
       "<table border=\"1\" class=\"dataframe\">\n",
       "  <thead>\n",
       "    <tr style=\"text-align: right;\">\n",
       "      <th></th>\n",
       "      <th>Pregnancies</th>\n",
       "      <th>Glucose</th>\n",
       "      <th>BloodPressure</th>\n",
       "      <th>SkinThickness</th>\n",
       "      <th>Insulin</th>\n",
       "      <th>BMI</th>\n",
       "      <th>DiabetesPedigreeFunction</th>\n",
       "      <th>Age</th>\n",
       "    </tr>\n",
       "  </thead>\n",
       "  <tbody>\n",
       "    <tr>\n",
       "      <th>0</th>\n",
       "      <td>6</td>\n",
       "      <td>148.0</td>\n",
       "      <td>72</td>\n",
       "      <td>35</td>\n",
       "      <td>0</td>\n",
       "      <td>33.6</td>\n",
       "      <td>0.627</td>\n",
       "      <td>50</td>\n",
       "    </tr>\n",
       "    <tr>\n",
       "      <th>1</th>\n",
       "      <td>1</td>\n",
       "      <td>85.0</td>\n",
       "      <td>66</td>\n",
       "      <td>29</td>\n",
       "      <td>0</td>\n",
       "      <td>26.6</td>\n",
       "      <td>0.351</td>\n",
       "      <td>31</td>\n",
       "    </tr>\n",
       "    <tr>\n",
       "      <th>2</th>\n",
       "      <td>8</td>\n",
       "      <td>183.0</td>\n",
       "      <td>64</td>\n",
       "      <td>0</td>\n",
       "      <td>0</td>\n",
       "      <td>23.3</td>\n",
       "      <td>0.672</td>\n",
       "      <td>32</td>\n",
       "    </tr>\n",
       "    <tr>\n",
       "      <th>3</th>\n",
       "      <td>1</td>\n",
       "      <td>89.0</td>\n",
       "      <td>66</td>\n",
       "      <td>23</td>\n",
       "      <td>94</td>\n",
       "      <td>28.1</td>\n",
       "      <td>0.167</td>\n",
       "      <td>21</td>\n",
       "    </tr>\n",
       "    <tr>\n",
       "      <th>4</th>\n",
       "      <td>0</td>\n",
       "      <td>137.0</td>\n",
       "      <td>40</td>\n",
       "      <td>35</td>\n",
       "      <td>168</td>\n",
       "      <td>43.1</td>\n",
       "      <td>2.288</td>\n",
       "      <td>33</td>\n",
       "    </tr>\n",
       "    <tr>\n",
       "      <th>...</th>\n",
       "      <td>...</td>\n",
       "      <td>...</td>\n",
       "      <td>...</td>\n",
       "      <td>...</td>\n",
       "      <td>...</td>\n",
       "      <td>...</td>\n",
       "      <td>...</td>\n",
       "      <td>...</td>\n",
       "    </tr>\n",
       "    <tr>\n",
       "      <th>763</th>\n",
       "      <td>10</td>\n",
       "      <td>101.0</td>\n",
       "      <td>76</td>\n",
       "      <td>48</td>\n",
       "      <td>180</td>\n",
       "      <td>32.9</td>\n",
       "      <td>0.171</td>\n",
       "      <td>63</td>\n",
       "    </tr>\n",
       "    <tr>\n",
       "      <th>764</th>\n",
       "      <td>2</td>\n",
       "      <td>122.0</td>\n",
       "      <td>70</td>\n",
       "      <td>27</td>\n",
       "      <td>0</td>\n",
       "      <td>36.8</td>\n",
       "      <td>0.340</td>\n",
       "      <td>27</td>\n",
       "    </tr>\n",
       "    <tr>\n",
       "      <th>765</th>\n",
       "      <td>5</td>\n",
       "      <td>121.0</td>\n",
       "      <td>72</td>\n",
       "      <td>23</td>\n",
       "      <td>112</td>\n",
       "      <td>26.2</td>\n",
       "      <td>0.245</td>\n",
       "      <td>30</td>\n",
       "    </tr>\n",
       "    <tr>\n",
       "      <th>766</th>\n",
       "      <td>1</td>\n",
       "      <td>126.0</td>\n",
       "      <td>60</td>\n",
       "      <td>0</td>\n",
       "      <td>0</td>\n",
       "      <td>30.1</td>\n",
       "      <td>0.349</td>\n",
       "      <td>47</td>\n",
       "    </tr>\n",
       "    <tr>\n",
       "      <th>767</th>\n",
       "      <td>1</td>\n",
       "      <td>93.0</td>\n",
       "      <td>70</td>\n",
       "      <td>31</td>\n",
       "      <td>0</td>\n",
       "      <td>30.4</td>\n",
       "      <td>0.315</td>\n",
       "      <td>23</td>\n",
       "    </tr>\n",
       "  </tbody>\n",
       "</table>\n",
       "<p>768 rows × 8 columns</p>\n",
       "</div>"
      ],
      "text/plain": [
       "     Pregnancies  Glucose  BloodPressure  ...   BMI  DiabetesPedigreeFunction  Age\n",
       "0              6    148.0             72  ...  33.6                     0.627   50\n",
       "1              1     85.0             66  ...  26.6                     0.351   31\n",
       "2              8    183.0             64  ...  23.3                     0.672   32\n",
       "3              1     89.0             66  ...  28.1                     0.167   21\n",
       "4              0    137.0             40  ...  43.1                     2.288   33\n",
       "..           ...      ...            ...  ...   ...                       ...  ...\n",
       "763           10    101.0             76  ...  32.9                     0.171   63\n",
       "764            2    122.0             70  ...  36.8                     0.340   27\n",
       "765            5    121.0             72  ...  26.2                     0.245   30\n",
       "766            1    126.0             60  ...  30.1                     0.349   47\n",
       "767            1     93.0             70  ...  30.4                     0.315   23\n",
       "\n",
       "[768 rows x 8 columns]"
      ]
     },
     "execution_count": 5,
     "metadata": {
      "tags": []
     },
     "output_type": "execute_result"
    }
   ],
   "source": [
    "pd.DataFrame(X,columns=df.columns[:-1])"
   ]
  },
  {
   "cell_type": "code",
   "execution_count": 13,
   "metadata": {
    "colab": {},
    "colab_type": "code",
    "id": "1duSKhrARnKw"
   },
   "outputs": [],
   "source": [
    "#### Train Test Split\n",
    "from sklearn.model_selection import train_test_split\n",
    "X_train,X_test,y_train,y_test=train_test_split(X,y,test_size=0.20,random_state=0)"
   ]
  },
  {
   "cell_type": "code",
   "execution_count": 14,
   "metadata": {
    "colab": {},
    "colab_type": "code",
    "id": "nS4rDudTRnLB"
   },
   "outputs": [],
   "source": [
    "from sklearn.ensemble import RandomForestClassifier\n",
    "rf_classifier=RandomForestClassifier(n_estimators=10).fit(X_train,y_train)\n",
    "prediction=rf_classifier.predict(X_test)"
   ]
  },
  {
   "cell_type": "code",
   "execution_count": 8,
   "metadata": {
    "colab": {
     "base_uri": "https://localhost:8080/",
     "height": 68
    },
    "colab_type": "code",
    "id": "s3dEUtLvRnLT",
    "outputId": "e9c21b2e-c624-4ef5-db1c-7c451c907625"
   },
   "outputs": [
    {
     "data": {
      "text/plain": [
       "0    500\n",
       "1    268\n",
       "Name: Outcome, dtype: int64"
      ]
     },
     "execution_count": 8,
     "metadata": {
      "tags": []
     },
     "output_type": "execute_result"
    }
   ],
   "source": [
    "y.value_counts()"
   ]
  },
  {
   "cell_type": "code",
   "execution_count": 15,
   "metadata": {
    "colab": {
     "base_uri": "https://localhost:8080/",
     "height": 221
    },
    "colab_type": "code",
    "id": "qQY8BNTmRnLk",
    "outputId": "0550c624-a9b8-4750-a39d-d064f7958afd"
   },
   "outputs": [
    {
     "name": "stdout",
     "output_type": "stream",
     "text": [
      "[[90 17]\n",
      " [24 23]]\n",
      "0.7337662337662337\n",
      "              precision    recall  f1-score   support\n",
      "\n",
      "           0       0.79      0.84      0.81       107\n",
      "           1       0.57      0.49      0.53        47\n",
      "\n",
      "    accuracy                           0.73       154\n",
      "   macro avg       0.68      0.67      0.67       154\n",
      "weighted avg       0.72      0.73      0.73       154\n",
      "\n"
     ]
    }
   ],
   "source": [
    "from sklearn.metrics import confusion_matrix,classification_report,accuracy_score\n",
    "print(confusion_matrix(y_test,prediction))\n",
    "print(accuracy_score(y_test,prediction))\n",
    "print(classification_report(y_test,prediction))"
   ]
  },
  {
   "cell_type": "markdown",
   "metadata": {
    "colab_type": "text",
    "id": "ORC2g6gBRnL0"
   },
   "source": [
    "The main parameters used by a Random Forest Classifier are:\n",
    "\n",
    "- criterion = the function used to evaluate the quality of a split.\n",
    "- max_depth = maximum number of levels allowed in each tree.\n",
    "- max_features = maximum number of features considered when splitting a node.\n",
    "- min_samples_leaf = minimum number of samples which can be stored in a tree leaf.\n",
    "- min_samples_split = minimum number of samples necessary in a node to cause node splitting.\n",
    "- n_estimators = number of trees in the ensamble."
   ]
  },
  {
   "cell_type": "code",
   "execution_count": 10,
   "metadata": {
    "colab": {
     "base_uri": "https://localhost:8080/",
     "height": 221
    },
    "colab_type": "code",
    "id": "hRlBfW2MRnL3",
    "outputId": "b62b494b-3a64-4fb6-a470-4cd2dd66b2b1"
   },
   "outputs": [
    {
     "name": "stdout",
     "output_type": "stream",
     "text": [
      "[[98  9]\n",
      " [18 29]]\n",
      "0.8246753246753247\n",
      "              precision    recall  f1-score   support\n",
      "\n",
      "           0       0.84      0.92      0.88       107\n",
      "           1       0.76      0.62      0.68        47\n",
      "\n",
      "    accuracy                           0.82       154\n",
      "   macro avg       0.80      0.77      0.78       154\n",
      "weighted avg       0.82      0.82      0.82       154\n",
      "\n"
     ]
    }
   ],
   "source": [
    "### Manual Hyperparameter Tuning\n",
    "model=RandomForestClassifier(n_estimators=300,criterion='entropy',\n",
    "                             max_features='sqrt',min_samples_leaf=10,random_state=100).fit(X_train,y_train)\n",
    "predictions=model.predict(X_test)\n",
    "print(confusion_matrix(y_test,predictions))\n",
    "print(accuracy_score(y_test,predictions))\n",
    "print(classification_report(y_test,predictions))"
   ]
  },
  {
   "cell_type": "markdown",
   "metadata": {
    "colab_type": "text",
    "id": "I0RLQtoFRnMH"
   },
   "source": [
    "## 1.Randomized Search Cv"
   ]
  },
  {
   "cell_type": "code",
   "execution_count": 11,
   "metadata": {
    "colab": {
     "base_uri": "https://localhost:8080/",
     "height": 54
    },
    "colab_type": "code",
    "id": "4Ig8vRnzRnMK",
    "outputId": "919d91a3-a33b-4144-f722-ab2602f8d7ce"
   },
   "outputs": [
    {
     "name": "stdout",
     "output_type": "stream",
     "text": [
      "{'n_estimators': [200, 400, 600, 800, 1000, 1200, 1400, 1600, 1800, 2000], 'max_features': ['auto', 'sqrt', 'log2'], 'max_depth': [10, 120, 230, 340, 450, 560, 670, 780, 890, 1000], 'min_samples_split': [2, 5, 10, 14], 'min_samples_leaf': [1, 2, 4, 6, 8], 'criterion': ['entropy', 'gini']}\n"
     ]
    }
   ],
   "source": [
    "import numpy as np\n",
    "from sklearn.model_selection import RandomizedSearchCV\n",
    "# Number of trees in random forest\n",
    "n_estimators = [int(x) for x in np.linspace(start = 200, stop = 2000, num = 10)]\n",
    "# Number of features to consider at every split\n",
    "max_features = ['auto', 'sqrt','log2']\n",
    "# Maximum number of levels in tree\n",
    "max_depth = [int(x) for x in np.linspace(10, 1000,10)]\n",
    "# Minimum number of samples required to split a node\n",
    "min_samples_split = [2, 5, 10,14]\n",
    "# Minimum number of samples required at each leaf node\n",
    "min_samples_leaf = [1, 2, 4,6,8]\n",
    "# Create the random grid\n",
    "random_grid = {'n_estimators': n_estimators,\n",
    "               'max_features': max_features,\n",
    "               'max_depth': max_depth,\n",
    "               'min_samples_split': min_samples_split,\n",
    "               'min_samples_leaf': min_samples_leaf,\n",
    "              'criterion':['entropy','gini']}\n",
    "print(random_grid)"
   ]
  },
  {
   "cell_type": "code",
   "execution_count": 13,
   "metadata": {
    "colab": {
     "base_uri": "https://localhost:8080/",
     "height": 1000
    },
    "colab_type": "code",
    "id": "P8FqAJfFRnMd",
    "outputId": "5c599aab-9bca-48c8-835f-3de4013ffc0f",
    "scrolled": true
   },
   "outputs": [
    {
     "name": "stdout",
     "output_type": "stream",
     "text": [
      "Fitting 3 folds for each of 100 candidates, totalling 300 fits\n",
      "[CV] n_estimators=200, min_samples_split=2, min_samples_leaf=2, max_features=sqrt, max_depth=1000, criterion=entropy \n"
     ]
    },
    {
     "name": "stderr",
     "output_type": "stream",
     "text": [
      "[Parallel(n_jobs=1)]: Using backend SequentialBackend with 1 concurrent workers.\n"
     ]
    },
    {
     "name": "stdout",
     "output_type": "stream",
     "text": [
      "[CV]  n_estimators=200, min_samples_split=2, min_samples_leaf=2, max_features=sqrt, max_depth=1000, criterion=entropy, total=   0.4s\n",
      "[CV] n_estimators=200, min_samples_split=2, min_samples_leaf=2, max_features=sqrt, max_depth=1000, criterion=entropy \n"
     ]
    },
    {
     "name": "stderr",
     "output_type": "stream",
     "text": [
      "[Parallel(n_jobs=1)]: Done   1 out of   1 | elapsed:    0.4s remaining:    0.0s\n"
     ]
    },
    {
     "name": "stdout",
     "output_type": "stream",
     "text": [
      "[CV]  n_estimators=200, min_samples_split=2, min_samples_leaf=2, max_features=sqrt, max_depth=1000, criterion=entropy, total=   0.4s\n",
      "[CV] n_estimators=200, min_samples_split=2, min_samples_leaf=2, max_features=sqrt, max_depth=1000, criterion=entropy \n",
      "[CV]  n_estimators=200, min_samples_split=2, min_samples_leaf=2, max_features=sqrt, max_depth=1000, criterion=entropy, total=   0.4s\n",
      "[CV] n_estimators=1400, min_samples_split=5, min_samples_leaf=6, max_features=sqrt, max_depth=120, criterion=gini \n",
      "[CV]  n_estimators=1400, min_samples_split=5, min_samples_leaf=6, max_features=sqrt, max_depth=120, criterion=gini, total=   2.2s\n",
      "[CV] n_estimators=1400, min_samples_split=5, min_samples_leaf=6, max_features=sqrt, max_depth=120, criterion=gini \n",
      "[CV]  n_estimators=1400, min_samples_split=5, min_samples_leaf=6, max_features=sqrt, max_depth=120, criterion=gini, total=   2.3s\n",
      "[CV] n_estimators=1400, min_samples_split=5, min_samples_leaf=6, max_features=sqrt, max_depth=120, criterion=gini \n",
      "[CV]  n_estimators=1400, min_samples_split=5, min_samples_leaf=6, max_features=sqrt, max_depth=120, criterion=gini, total=   2.2s\n",
      "[CV] n_estimators=2000, min_samples_split=14, min_samples_leaf=1, max_features=sqrt, max_depth=340, criterion=gini \n",
      "[CV]  n_estimators=2000, min_samples_split=14, min_samples_leaf=1, max_features=sqrt, max_depth=340, criterion=gini, total=   3.2s\n",
      "[CV] n_estimators=2000, min_samples_split=14, min_samples_leaf=1, max_features=sqrt, max_depth=340, criterion=gini \n",
      "[CV]  n_estimators=2000, min_samples_split=14, min_samples_leaf=1, max_features=sqrt, max_depth=340, criterion=gini, total=   3.1s\n",
      "[CV] n_estimators=2000, min_samples_split=14, min_samples_leaf=1, max_features=sqrt, max_depth=340, criterion=gini \n",
      "[CV]  n_estimators=2000, min_samples_split=14, min_samples_leaf=1, max_features=sqrt, max_depth=340, criterion=gini, total=   3.1s\n",
      "[CV] n_estimators=2000, min_samples_split=14, min_samples_leaf=2, max_features=auto, max_depth=10, criterion=entropy \n",
      "[CV]  n_estimators=2000, min_samples_split=14, min_samples_leaf=2, max_features=auto, max_depth=10, criterion=entropy, total=   3.5s\n",
      "[CV] n_estimators=2000, min_samples_split=14, min_samples_leaf=2, max_features=auto, max_depth=10, criterion=entropy \n",
      "[CV]  n_estimators=2000, min_samples_split=14, min_samples_leaf=2, max_features=auto, max_depth=10, criterion=entropy, total=   3.5s\n",
      "[CV] n_estimators=2000, min_samples_split=14, min_samples_leaf=2, max_features=auto, max_depth=10, criterion=entropy \n",
      "[CV]  n_estimators=2000, min_samples_split=14, min_samples_leaf=2, max_features=auto, max_depth=10, criterion=entropy, total=   3.5s\n",
      "[CV] n_estimators=200, min_samples_split=14, min_samples_leaf=6, max_features=sqrt, max_depth=10, criterion=entropy \n",
      "[CV]  n_estimators=200, min_samples_split=14, min_samples_leaf=6, max_features=sqrt, max_depth=10, criterion=entropy, total=   0.3s\n",
      "[CV] n_estimators=200, min_samples_split=14, min_samples_leaf=6, max_features=sqrt, max_depth=10, criterion=entropy \n",
      "[CV]  n_estimators=200, min_samples_split=14, min_samples_leaf=6, max_features=sqrt, max_depth=10, criterion=entropy, total=   0.3s\n",
      "[CV] n_estimators=200, min_samples_split=14, min_samples_leaf=6, max_features=sqrt, max_depth=10, criterion=entropy \n",
      "[CV]  n_estimators=200, min_samples_split=14, min_samples_leaf=6, max_features=sqrt, max_depth=10, criterion=entropy, total=   0.3s\n",
      "[CV] n_estimators=600, min_samples_split=2, min_samples_leaf=4, max_features=log2, max_depth=670, criterion=gini \n",
      "[CV]  n_estimators=600, min_samples_split=2, min_samples_leaf=4, max_features=log2, max_depth=670, criterion=gini, total=   1.0s\n",
      "[CV] n_estimators=600, min_samples_split=2, min_samples_leaf=4, max_features=log2, max_depth=670, criterion=gini \n",
      "[CV]  n_estimators=600, min_samples_split=2, min_samples_leaf=4, max_features=log2, max_depth=670, criterion=gini, total=   1.0s\n",
      "[CV] n_estimators=600, min_samples_split=2, min_samples_leaf=4, max_features=log2, max_depth=670, criterion=gini \n",
      "[CV]  n_estimators=600, min_samples_split=2, min_samples_leaf=4, max_features=log2, max_depth=670, criterion=gini, total=   1.0s\n",
      "[CV] n_estimators=2000, min_samples_split=10, min_samples_leaf=6, max_features=log2, max_depth=670, criterion=entropy \n",
      "[CV]  n_estimators=2000, min_samples_split=10, min_samples_leaf=6, max_features=log2, max_depth=670, criterion=entropy, total=   3.7s\n",
      "[CV] n_estimators=2000, min_samples_split=10, min_samples_leaf=6, max_features=log2, max_depth=670, criterion=entropy \n",
      "[CV]  n_estimators=2000, min_samples_split=10, min_samples_leaf=6, max_features=log2, max_depth=670, criterion=entropy, total=   3.7s\n",
      "[CV] n_estimators=2000, min_samples_split=10, min_samples_leaf=6, max_features=log2, max_depth=670, criterion=entropy \n",
      "[CV]  n_estimators=2000, min_samples_split=10, min_samples_leaf=6, max_features=log2, max_depth=670, criterion=entropy, total=   3.6s\n",
      "[CV] n_estimators=1400, min_samples_split=10, min_samples_leaf=4, max_features=auto, max_depth=340, criterion=gini \n",
      "[CV]  n_estimators=1400, min_samples_split=10, min_samples_leaf=4, max_features=auto, max_depth=340, criterion=gini, total=   2.2s\n",
      "[CV] n_estimators=1400, min_samples_split=10, min_samples_leaf=4, max_features=auto, max_depth=340, criterion=gini \n",
      "[CV]  n_estimators=1400, min_samples_split=10, min_samples_leaf=4, max_features=auto, max_depth=340, criterion=gini, total=   2.2s\n",
      "[CV] n_estimators=1400, min_samples_split=10, min_samples_leaf=4, max_features=auto, max_depth=340, criterion=gini \n",
      "[CV]  n_estimators=1400, min_samples_split=10, min_samples_leaf=4, max_features=auto, max_depth=340, criterion=gini, total=   2.3s\n",
      "[CV] n_estimators=1400, min_samples_split=2, min_samples_leaf=2, max_features=sqrt, max_depth=1000, criterion=entropy \n",
      "[CV]  n_estimators=1400, min_samples_split=2, min_samples_leaf=2, max_features=sqrt, max_depth=1000, criterion=entropy, total=   2.6s\n",
      "[CV] n_estimators=1400, min_samples_split=2, min_samples_leaf=2, max_features=sqrt, max_depth=1000, criterion=entropy \n",
      "[CV]  n_estimators=1400, min_samples_split=2, min_samples_leaf=2, max_features=sqrt, max_depth=1000, criterion=entropy, total=   2.6s\n",
      "[CV] n_estimators=1400, min_samples_split=2, min_samples_leaf=2, max_features=sqrt, max_depth=1000, criterion=entropy \n",
      "[CV]  n_estimators=1400, min_samples_split=2, min_samples_leaf=2, max_features=sqrt, max_depth=1000, criterion=entropy, total=   2.5s\n",
      "[CV] n_estimators=600, min_samples_split=2, min_samples_leaf=1, max_features=sqrt, max_depth=120, criterion=entropy \n",
      "[CV]  n_estimators=600, min_samples_split=2, min_samples_leaf=1, max_features=sqrt, max_depth=120, criterion=entropy, total=   1.1s\n",
      "[CV] n_estimators=600, min_samples_split=2, min_samples_leaf=1, max_features=sqrt, max_depth=120, criterion=entropy \n",
      "[CV]  n_estimators=600, min_samples_split=2, min_samples_leaf=1, max_features=sqrt, max_depth=120, criterion=entropy, total=   1.2s\n",
      "[CV] n_estimators=600, min_samples_split=2, min_samples_leaf=1, max_features=sqrt, max_depth=120, criterion=entropy \n",
      "[CV]  n_estimators=600, min_samples_split=2, min_samples_leaf=1, max_features=sqrt, max_depth=120, criterion=entropy, total=   1.1s\n",
      "[CV] n_estimators=600, min_samples_split=14, min_samples_leaf=8, max_features=auto, max_depth=890, criterion=gini \n",
      "[CV]  n_estimators=600, min_samples_split=14, min_samples_leaf=8, max_features=auto, max_depth=890, criterion=gini, total=   0.9s\n",
      "[CV] n_estimators=600, min_samples_split=14, min_samples_leaf=8, max_features=auto, max_depth=890, criterion=gini \n",
      "[CV]  n_estimators=600, min_samples_split=14, min_samples_leaf=8, max_features=auto, max_depth=890, criterion=gini, total=   0.9s\n",
      "[CV] n_estimators=600, min_samples_split=14, min_samples_leaf=8, max_features=auto, max_depth=890, criterion=gini \n",
      "[CV]  n_estimators=600, min_samples_split=14, min_samples_leaf=8, max_features=auto, max_depth=890, criterion=gini, total=   0.9s\n",
      "[CV] n_estimators=1400, min_samples_split=5, min_samples_leaf=8, max_features=auto, max_depth=780, criterion=entropy \n",
      "[CV]  n_estimators=1400, min_samples_split=5, min_samples_leaf=8, max_features=auto, max_depth=780, criterion=entropy, total=   2.3s\n",
      "[CV] n_estimators=1400, min_samples_split=5, min_samples_leaf=8, max_features=auto, max_depth=780, criterion=entropy \n",
      "[CV]  n_estimators=1400, min_samples_split=5, min_samples_leaf=8, max_features=auto, max_depth=780, criterion=entropy, total=   2.3s\n",
      "[CV] n_estimators=1400, min_samples_split=5, min_samples_leaf=8, max_features=auto, max_depth=780, criterion=entropy \n",
      "[CV]  n_estimators=1400, min_samples_split=5, min_samples_leaf=8, max_features=auto, max_depth=780, criterion=entropy, total=   2.4s\n",
      "[CV] n_estimators=400, min_samples_split=14, min_samples_leaf=2, max_features=sqrt, max_depth=670, criterion=gini \n",
      "[CV]  n_estimators=400, min_samples_split=14, min_samples_leaf=2, max_features=sqrt, max_depth=670, criterion=gini, total=   0.6s\n",
      "[CV] n_estimators=400, min_samples_split=14, min_samples_leaf=2, max_features=sqrt, max_depth=670, criterion=gini \n",
      "[CV]  n_estimators=400, min_samples_split=14, min_samples_leaf=2, max_features=sqrt, max_depth=670, criterion=gini, total=   0.6s\n",
      "[CV] n_estimators=400, min_samples_split=14, min_samples_leaf=2, max_features=sqrt, max_depth=670, criterion=gini \n",
      "[CV]  n_estimators=400, min_samples_split=14, min_samples_leaf=2, max_features=sqrt, max_depth=670, criterion=gini, total=   0.6s\n",
      "[CV] n_estimators=600, min_samples_split=5, min_samples_leaf=4, max_features=auto, max_depth=1000, criterion=gini \n",
      "[CV]  n_estimators=600, min_samples_split=5, min_samples_leaf=4, max_features=auto, max_depth=1000, criterion=gini, total=   1.0s\n",
      "[CV] n_estimators=600, min_samples_split=5, min_samples_leaf=4, max_features=auto, max_depth=1000, criterion=gini \n",
      "[CV]  n_estimators=600, min_samples_split=5, min_samples_leaf=4, max_features=auto, max_depth=1000, criterion=gini, total=   0.9s\n",
      "[CV] n_estimators=600, min_samples_split=5, min_samples_leaf=4, max_features=auto, max_depth=1000, criterion=gini \n",
      "[CV]  n_estimators=600, min_samples_split=5, min_samples_leaf=4, max_features=auto, max_depth=1000, criterion=gini, total=   1.0s\n",
      "[CV] n_estimators=400, min_samples_split=5, min_samples_leaf=4, max_features=log2, max_depth=670, criterion=gini \n",
      "[CV]  n_estimators=400, min_samples_split=5, min_samples_leaf=4, max_features=log2, max_depth=670, criterion=gini, total=   0.7s\n",
      "[CV] n_estimators=400, min_samples_split=5, min_samples_leaf=4, max_features=log2, max_depth=670, criterion=gini \n",
      "[CV]  n_estimators=400, min_samples_split=5, min_samples_leaf=4, max_features=log2, max_depth=670, criterion=gini, total=   0.7s\n",
      "[CV] n_estimators=400, min_samples_split=5, min_samples_leaf=4, max_features=log2, max_depth=670, criterion=gini \n",
      "[CV]  n_estimators=400, min_samples_split=5, min_samples_leaf=4, max_features=log2, max_depth=670, criterion=gini, total=   0.7s\n",
      "[CV] n_estimators=200, min_samples_split=10, min_samples_leaf=6, max_features=auto, max_depth=230, criterion=entropy \n",
      "[CV]  n_estimators=200, min_samples_split=10, min_samples_leaf=6, max_features=auto, max_depth=230, criterion=entropy, total=   0.3s\n",
      "[CV] n_estimators=200, min_samples_split=10, min_samples_leaf=6, max_features=auto, max_depth=230, criterion=entropy \n",
      "[CV]  n_estimators=200, min_samples_split=10, min_samples_leaf=6, max_features=auto, max_depth=230, criterion=entropy, total=   0.3s\n",
      "[CV] n_estimators=200, min_samples_split=10, min_samples_leaf=6, max_features=auto, max_depth=230, criterion=entropy \n",
      "[CV]  n_estimators=200, min_samples_split=10, min_samples_leaf=6, max_features=auto, max_depth=230, criterion=entropy, total=   0.3s\n",
      "[CV] n_estimators=1800, min_samples_split=5, min_samples_leaf=6, max_features=log2, max_depth=230, criterion=gini \n",
      "[CV]  n_estimators=1800, min_samples_split=5, min_samples_leaf=6, max_features=log2, max_depth=230, criterion=gini, total=   3.0s\n",
      "[CV] n_estimators=1800, min_samples_split=5, min_samples_leaf=6, max_features=log2, max_depth=230, criterion=gini \n",
      "[CV]  n_estimators=1800, min_samples_split=5, min_samples_leaf=6, max_features=log2, max_depth=230, criterion=gini, total=   2.9s\n",
      "[CV] n_estimators=1800, min_samples_split=5, min_samples_leaf=6, max_features=log2, max_depth=230, criterion=gini \n",
      "[CV]  n_estimators=1800, min_samples_split=5, min_samples_leaf=6, max_features=log2, max_depth=230, criterion=gini, total=   2.9s\n",
      "[CV] n_estimators=600, min_samples_split=14, min_samples_leaf=6, max_features=sqrt, max_depth=890, criterion=gini \n",
      "[CV]  n_estimators=600, min_samples_split=14, min_samples_leaf=6, max_features=sqrt, max_depth=890, criterion=gini, total=   0.9s\n",
      "[CV] n_estimators=600, min_samples_split=14, min_samples_leaf=6, max_features=sqrt, max_depth=890, criterion=gini \n",
      "[CV]  n_estimators=600, min_samples_split=14, min_samples_leaf=6, max_features=sqrt, max_depth=890, criterion=gini, total=   0.9s\n",
      "[CV] n_estimators=600, min_samples_split=14, min_samples_leaf=6, max_features=sqrt, max_depth=890, criterion=gini \n",
      "[CV]  n_estimators=600, min_samples_split=14, min_samples_leaf=6, max_features=sqrt, max_depth=890, criterion=gini, total=   0.9s\n",
      "[CV] n_estimators=800, min_samples_split=2, min_samples_leaf=6, max_features=auto, max_depth=670, criterion=gini \n",
      "[CV]  n_estimators=800, min_samples_split=2, min_samples_leaf=6, max_features=auto, max_depth=670, criterion=gini, total=   1.2s\n",
      "[CV] n_estimators=800, min_samples_split=2, min_samples_leaf=6, max_features=auto, max_depth=670, criterion=gini \n",
      "[CV]  n_estimators=800, min_samples_split=2, min_samples_leaf=6, max_features=auto, max_depth=670, criterion=gini, total=   1.3s\n",
      "[CV] n_estimators=800, min_samples_split=2, min_samples_leaf=6, max_features=auto, max_depth=670, criterion=gini \n",
      "[CV]  n_estimators=800, min_samples_split=2, min_samples_leaf=6, max_features=auto, max_depth=670, criterion=gini, total=   1.2s\n",
      "[CV] n_estimators=2000, min_samples_split=2, min_samples_leaf=8, max_features=sqrt, max_depth=1000, criterion=entropy \n",
      "[CV]  n_estimators=2000, min_samples_split=2, min_samples_leaf=8, max_features=sqrt, max_depth=1000, criterion=entropy, total=   3.3s\n",
      "[CV] n_estimators=2000, min_samples_split=2, min_samples_leaf=8, max_features=sqrt, max_depth=1000, criterion=entropy \n",
      "[CV]  n_estimators=2000, min_samples_split=2, min_samples_leaf=8, max_features=sqrt, max_depth=1000, criterion=entropy, total=   3.3s\n",
      "[CV] n_estimators=2000, min_samples_split=2, min_samples_leaf=8, max_features=sqrt, max_depth=1000, criterion=entropy \n",
      "[CV]  n_estimators=2000, min_samples_split=2, min_samples_leaf=8, max_features=sqrt, max_depth=1000, criterion=entropy, total=   3.3s\n",
      "[CV] n_estimators=200, min_samples_split=14, min_samples_leaf=1, max_features=sqrt, max_depth=10, criterion=gini \n",
      "[CV]  n_estimators=200, min_samples_split=14, min_samples_leaf=1, max_features=sqrt, max_depth=10, criterion=gini, total=   0.3s\n",
      "[CV] n_estimators=200, min_samples_split=14, min_samples_leaf=1, max_features=sqrt, max_depth=10, criterion=gini \n",
      "[CV]  n_estimators=200, min_samples_split=14, min_samples_leaf=1, max_features=sqrt, max_depth=10, criterion=gini, total=   0.3s\n",
      "[CV] n_estimators=200, min_samples_split=14, min_samples_leaf=1, max_features=sqrt, max_depth=10, criterion=gini \n",
      "[CV]  n_estimators=200, min_samples_split=14, min_samples_leaf=1, max_features=sqrt, max_depth=10, criterion=gini, total=   0.3s\n",
      "[CV] n_estimators=1000, min_samples_split=14, min_samples_leaf=1, max_features=auto, max_depth=450, criterion=entropy \n",
      "[CV]  n_estimators=1000, min_samples_split=14, min_samples_leaf=1, max_features=auto, max_depth=450, criterion=entropy, total=   1.8s\n",
      "[CV] n_estimators=1000, min_samples_split=14, min_samples_leaf=1, max_features=auto, max_depth=450, criterion=entropy \n",
      "[CV]  n_estimators=1000, min_samples_split=14, min_samples_leaf=1, max_features=auto, max_depth=450, criterion=entropy, total=   1.8s\n",
      "[CV] n_estimators=1000, min_samples_split=14, min_samples_leaf=1, max_features=auto, max_depth=450, criterion=entropy \n",
      "[CV]  n_estimators=1000, min_samples_split=14, min_samples_leaf=1, max_features=auto, max_depth=450, criterion=entropy, total=   1.8s\n",
      "[CV] n_estimators=1600, min_samples_split=10, min_samples_leaf=8, max_features=sqrt, max_depth=1000, criterion=entropy \n",
      "[CV]  n_estimators=1600, min_samples_split=10, min_samples_leaf=8, max_features=sqrt, max_depth=1000, criterion=entropy, total=   2.6s\n",
      "[CV] n_estimators=1600, min_samples_split=10, min_samples_leaf=8, max_features=sqrt, max_depth=1000, criterion=entropy \n",
      "[CV]  n_estimators=1600, min_samples_split=10, min_samples_leaf=8, max_features=sqrt, max_depth=1000, criterion=entropy, total=   2.6s\n",
      "[CV] n_estimators=1600, min_samples_split=10, min_samples_leaf=8, max_features=sqrt, max_depth=1000, criterion=entropy \n",
      "[CV]  n_estimators=1600, min_samples_split=10, min_samples_leaf=8, max_features=sqrt, max_depth=1000, criterion=entropy, total=   2.7s\n",
      "[CV] n_estimators=200, min_samples_split=10, min_samples_leaf=4, max_features=auto, max_depth=340, criterion=entropy \n",
      "[CV]  n_estimators=200, min_samples_split=10, min_samples_leaf=4, max_features=auto, max_depth=340, criterion=entropy, total=   0.4s\n",
      "[CV] n_estimators=200, min_samples_split=10, min_samples_leaf=4, max_features=auto, max_depth=340, criterion=entropy \n",
      "[CV]  n_estimators=200, min_samples_split=10, min_samples_leaf=4, max_features=auto, max_depth=340, criterion=entropy, total=   0.4s\n",
      "[CV] n_estimators=200, min_samples_split=10, min_samples_leaf=4, max_features=auto, max_depth=340, criterion=entropy \n",
      "[CV]  n_estimators=200, min_samples_split=10, min_samples_leaf=4, max_features=auto, max_depth=340, criterion=entropy, total=   0.4s\n",
      "[CV] n_estimators=1200, min_samples_split=5, min_samples_leaf=2, max_features=log2, max_depth=780, criterion=gini \n",
      "[CV]  n_estimators=1200, min_samples_split=5, min_samples_leaf=2, max_features=log2, max_depth=780, criterion=gini, total=   2.1s\n",
      "[CV] n_estimators=1200, min_samples_split=5, min_samples_leaf=2, max_features=log2, max_depth=780, criterion=gini \n",
      "[CV]  n_estimators=1200, min_samples_split=5, min_samples_leaf=2, max_features=log2, max_depth=780, criterion=gini, total=   2.0s\n",
      "[CV] n_estimators=1200, min_samples_split=5, min_samples_leaf=2, max_features=log2, max_depth=780, criterion=gini \n",
      "[CV]  n_estimators=1200, min_samples_split=5, min_samples_leaf=2, max_features=log2, max_depth=780, criterion=gini, total=   2.0s\n",
      "[CV] n_estimators=800, min_samples_split=14, min_samples_leaf=8, max_features=auto, max_depth=890, criterion=entropy \n",
      "[CV]  n_estimators=800, min_samples_split=14, min_samples_leaf=8, max_features=auto, max_depth=890, criterion=entropy, total=   1.3s\n",
      "[CV] n_estimators=800, min_samples_split=14, min_samples_leaf=8, max_features=auto, max_depth=890, criterion=entropy \n",
      "[CV]  n_estimators=800, min_samples_split=14, min_samples_leaf=8, max_features=auto, max_depth=890, criterion=entropy, total=   1.3s\n",
      "[CV] n_estimators=800, min_samples_split=14, min_samples_leaf=8, max_features=auto, max_depth=890, criterion=entropy \n",
      "[CV]  n_estimators=800, min_samples_split=14, min_samples_leaf=8, max_features=auto, max_depth=890, criterion=entropy, total=   1.3s\n",
      "[CV] n_estimators=800, min_samples_split=5, min_samples_leaf=1, max_features=sqrt, max_depth=560, criterion=entropy \n",
      "[CV]  n_estimators=800, min_samples_split=5, min_samples_leaf=1, max_features=sqrt, max_depth=560, criterion=entropy, total=   1.5s\n",
      "[CV] n_estimators=800, min_samples_split=5, min_samples_leaf=1, max_features=sqrt, max_depth=560, criterion=entropy \n",
      "[CV]  n_estimators=800, min_samples_split=5, min_samples_leaf=1, max_features=sqrt, max_depth=560, criterion=entropy, total=   1.5s\n",
      "[CV] n_estimators=800, min_samples_split=5, min_samples_leaf=1, max_features=sqrt, max_depth=560, criterion=entropy \n",
      "[CV]  n_estimators=800, min_samples_split=5, min_samples_leaf=1, max_features=sqrt, max_depth=560, criterion=entropy, total=   1.5s\n",
      "[CV] n_estimators=400, min_samples_split=10, min_samples_leaf=4, max_features=sqrt, max_depth=120, criterion=gini \n",
      "[CV]  n_estimators=400, min_samples_split=10, min_samples_leaf=4, max_features=sqrt, max_depth=120, criterion=gini, total=   0.7s\n",
      "[CV] n_estimators=400, min_samples_split=10, min_samples_leaf=4, max_features=sqrt, max_depth=120, criterion=gini \n",
      "[CV]  n_estimators=400, min_samples_split=10, min_samples_leaf=4, max_features=sqrt, max_depth=120, criterion=gini, total=   0.6s\n",
      "[CV] n_estimators=400, min_samples_split=10, min_samples_leaf=4, max_features=sqrt, max_depth=120, criterion=gini \n",
      "[CV]  n_estimators=400, min_samples_split=10, min_samples_leaf=4, max_features=sqrt, max_depth=120, criterion=gini, total=   0.6s\n",
      "[CV] n_estimators=800, min_samples_split=2, min_samples_leaf=2, max_features=log2, max_depth=1000, criterion=entropy \n",
      "[CV]  n_estimators=800, min_samples_split=2, min_samples_leaf=2, max_features=log2, max_depth=1000, criterion=entropy, total=   1.7s\n",
      "[CV] n_estimators=800, min_samples_split=2, min_samples_leaf=2, max_features=log2, max_depth=1000, criterion=entropy \n",
      "[CV]  n_estimators=800, min_samples_split=2, min_samples_leaf=2, max_features=log2, max_depth=1000, criterion=entropy, total=   1.6s\n",
      "[CV] n_estimators=800, min_samples_split=2, min_samples_leaf=2, max_features=log2, max_depth=1000, criterion=entropy \n",
      "[CV]  n_estimators=800, min_samples_split=2, min_samples_leaf=2, max_features=log2, max_depth=1000, criterion=entropy, total=   1.6s\n",
      "[CV] n_estimators=200, min_samples_split=10, min_samples_leaf=1, max_features=sqrt, max_depth=560, criterion=gini \n",
      "[CV]  n_estimators=200, min_samples_split=10, min_samples_leaf=1, max_features=sqrt, max_depth=560, criterion=gini, total=   0.3s\n",
      "[CV] n_estimators=200, min_samples_split=10, min_samples_leaf=1, max_features=sqrt, max_depth=560, criterion=gini \n",
      "[CV]  n_estimators=200, min_samples_split=10, min_samples_leaf=1, max_features=sqrt, max_depth=560, criterion=gini, total=   0.3s\n",
      "[CV] n_estimators=200, min_samples_split=10, min_samples_leaf=1, max_features=sqrt, max_depth=560, criterion=gini \n",
      "[CV]  n_estimators=200, min_samples_split=10, min_samples_leaf=1, max_features=sqrt, max_depth=560, criterion=gini, total=   0.3s\n",
      "[CV] n_estimators=800, min_samples_split=2, min_samples_leaf=2, max_features=auto, max_depth=890, criterion=gini \n",
      "[CV]  n_estimators=800, min_samples_split=2, min_samples_leaf=2, max_features=auto, max_depth=890, criterion=gini, total=   1.3s\n",
      "[CV] n_estimators=800, min_samples_split=2, min_samples_leaf=2, max_features=auto, max_depth=890, criterion=gini \n",
      "[CV]  n_estimators=800, min_samples_split=2, min_samples_leaf=2, max_features=auto, max_depth=890, criterion=gini, total=   1.3s\n",
      "[CV] n_estimators=800, min_samples_split=2, min_samples_leaf=2, max_features=auto, max_depth=890, criterion=gini \n",
      "[CV]  n_estimators=800, min_samples_split=2, min_samples_leaf=2, max_features=auto, max_depth=890, criterion=gini, total=   1.3s\n",
      "[CV] n_estimators=800, min_samples_split=2, min_samples_leaf=4, max_features=log2, max_depth=450, criterion=entropy \n",
      "[CV]  n_estimators=800, min_samples_split=2, min_samples_leaf=4, max_features=log2, max_depth=450, criterion=entropy, total=   1.5s\n",
      "[CV] n_estimators=800, min_samples_split=2, min_samples_leaf=4, max_features=log2, max_depth=450, criterion=entropy \n",
      "[CV]  n_estimators=800, min_samples_split=2, min_samples_leaf=4, max_features=log2, max_depth=450, criterion=entropy, total=   1.5s\n",
      "[CV] n_estimators=800, min_samples_split=2, min_samples_leaf=4, max_features=log2, max_depth=450, criterion=entropy \n",
      "[CV]  n_estimators=800, min_samples_split=2, min_samples_leaf=4, max_features=log2, max_depth=450, criterion=entropy, total=   1.5s\n",
      "[CV] n_estimators=400, min_samples_split=14, min_samples_leaf=1, max_features=auto, max_depth=780, criterion=entropy \n",
      "[CV]  n_estimators=400, min_samples_split=14, min_samples_leaf=1, max_features=auto, max_depth=780, criterion=entropy, total=   0.7s\n",
      "[CV] n_estimators=400, min_samples_split=14, min_samples_leaf=1, max_features=auto, max_depth=780, criterion=entropy \n",
      "[CV]  n_estimators=400, min_samples_split=14, min_samples_leaf=1, max_features=auto, max_depth=780, criterion=entropy, total=   0.7s\n",
      "[CV] n_estimators=400, min_samples_split=14, min_samples_leaf=1, max_features=auto, max_depth=780, criterion=entropy \n",
      "[CV]  n_estimators=400, min_samples_split=14, min_samples_leaf=1, max_features=auto, max_depth=780, criterion=entropy, total=   0.7s\n",
      "[CV] n_estimators=1200, min_samples_split=5, min_samples_leaf=4, max_features=sqrt, max_depth=1000, criterion=gini \n",
      "[CV]  n_estimators=1200, min_samples_split=5, min_samples_leaf=4, max_features=sqrt, max_depth=1000, criterion=gini, total=   1.9s\n",
      "[CV] n_estimators=1200, min_samples_split=5, min_samples_leaf=4, max_features=sqrt, max_depth=1000, criterion=gini \n",
      "[CV]  n_estimators=1200, min_samples_split=5, min_samples_leaf=4, max_features=sqrt, max_depth=1000, criterion=gini, total=   1.9s\n",
      "[CV] n_estimators=1200, min_samples_split=5, min_samples_leaf=4, max_features=sqrt, max_depth=1000, criterion=gini \n",
      "[CV]  n_estimators=1200, min_samples_split=5, min_samples_leaf=4, max_features=sqrt, max_depth=1000, criterion=gini, total=   1.9s\n",
      "[CV] n_estimators=2000, min_samples_split=2, min_samples_leaf=8, max_features=log2, max_depth=1000, criterion=gini \n",
      "[CV]  n_estimators=2000, min_samples_split=2, min_samples_leaf=8, max_features=log2, max_depth=1000, criterion=gini, total=   3.2s\n",
      "[CV] n_estimators=2000, min_samples_split=2, min_samples_leaf=8, max_features=log2, max_depth=1000, criterion=gini \n",
      "[CV]  n_estimators=2000, min_samples_split=2, min_samples_leaf=8, max_features=log2, max_depth=1000, criterion=gini, total=   3.2s\n",
      "[CV] n_estimators=2000, min_samples_split=2, min_samples_leaf=8, max_features=log2, max_depth=1000, criterion=gini \n",
      "[CV]  n_estimators=2000, min_samples_split=2, min_samples_leaf=8, max_features=log2, max_depth=1000, criterion=gini, total=   3.2s\n",
      "[CV] n_estimators=1600, min_samples_split=14, min_samples_leaf=6, max_features=sqrt, max_depth=780, criterion=gini \n",
      "[CV]  n_estimators=1600, min_samples_split=14, min_samples_leaf=6, max_features=sqrt, max_depth=780, criterion=gini, total=   2.5s\n",
      "[CV] n_estimators=1600, min_samples_split=14, min_samples_leaf=6, max_features=sqrt, max_depth=780, criterion=gini \n",
      "[CV]  n_estimators=1600, min_samples_split=14, min_samples_leaf=6, max_features=sqrt, max_depth=780, criterion=gini, total=   2.5s\n",
      "[CV] n_estimators=1600, min_samples_split=14, min_samples_leaf=6, max_features=sqrt, max_depth=780, criterion=gini \n",
      "[CV]  n_estimators=1600, min_samples_split=14, min_samples_leaf=6, max_features=sqrt, max_depth=780, criterion=gini, total=   2.5s\n",
      "[CV] n_estimators=1600, min_samples_split=2, min_samples_leaf=8, max_features=auto, max_depth=670, criterion=entropy \n",
      "[CV]  n_estimators=1600, min_samples_split=2, min_samples_leaf=8, max_features=auto, max_depth=670, criterion=entropy, total=   2.6s\n",
      "[CV] n_estimators=1600, min_samples_split=2, min_samples_leaf=8, max_features=auto, max_depth=670, criterion=entropy \n",
      "[CV]  n_estimators=1600, min_samples_split=2, min_samples_leaf=8, max_features=auto, max_depth=670, criterion=entropy, total=   2.6s\n",
      "[CV] n_estimators=1600, min_samples_split=2, min_samples_leaf=8, max_features=auto, max_depth=670, criterion=entropy \n",
      "[CV]  n_estimators=1600, min_samples_split=2, min_samples_leaf=8, max_features=auto, max_depth=670, criterion=entropy, total=   2.6s\n",
      "[CV] n_estimators=1600, min_samples_split=2, min_samples_leaf=1, max_features=log2, max_depth=890, criterion=gini \n",
      "[CV]  n_estimators=1600, min_samples_split=2, min_samples_leaf=1, max_features=log2, max_depth=890, criterion=gini, total=   2.8s\n",
      "[CV] n_estimators=1600, min_samples_split=2, min_samples_leaf=1, max_features=log2, max_depth=890, criterion=gini \n",
      "[CV]  n_estimators=1600, min_samples_split=2, min_samples_leaf=1, max_features=log2, max_depth=890, criterion=gini, total=   2.8s\n",
      "[CV] n_estimators=1600, min_samples_split=2, min_samples_leaf=1, max_features=log2, max_depth=890, criterion=gini \n",
      "[CV]  n_estimators=1600, min_samples_split=2, min_samples_leaf=1, max_features=log2, max_depth=890, criterion=gini, total=   2.8s\n",
      "[CV] n_estimators=2000, min_samples_split=5, min_samples_leaf=2, max_features=auto, max_depth=890, criterion=entropy \n",
      "[CV]  n_estimators=2000, min_samples_split=5, min_samples_leaf=2, max_features=auto, max_depth=890, criterion=entropy, total=   3.6s\n",
      "[CV] n_estimators=2000, min_samples_split=5, min_samples_leaf=2, max_features=auto, max_depth=890, criterion=entropy \n",
      "[CV]  n_estimators=2000, min_samples_split=5, min_samples_leaf=2, max_features=auto, max_depth=890, criterion=entropy, total=   3.7s\n",
      "[CV] n_estimators=2000, min_samples_split=5, min_samples_leaf=2, max_features=auto, max_depth=890, criterion=entropy \n",
      "[CV]  n_estimators=2000, min_samples_split=5, min_samples_leaf=2, max_features=auto, max_depth=890, criterion=entropy, total=   3.6s\n",
      "[CV] n_estimators=1800, min_samples_split=2, min_samples_leaf=1, max_features=log2, max_depth=560, criterion=entropy \n",
      "[CV]  n_estimators=1800, min_samples_split=2, min_samples_leaf=1, max_features=log2, max_depth=560, criterion=entropy, total=   3.7s\n",
      "[CV] n_estimators=1800, min_samples_split=2, min_samples_leaf=1, max_features=log2, max_depth=560, criterion=entropy \n",
      "[CV]  n_estimators=1800, min_samples_split=2, min_samples_leaf=1, max_features=log2, max_depth=560, criterion=entropy, total=   3.8s\n",
      "[CV] n_estimators=1800, min_samples_split=2, min_samples_leaf=1, max_features=log2, max_depth=560, criterion=entropy \n",
      "[CV]  n_estimators=1800, min_samples_split=2, min_samples_leaf=1, max_features=log2, max_depth=560, criterion=entropy, total=   3.7s\n",
      "[CV] n_estimators=600, min_samples_split=2, min_samples_leaf=1, max_features=auto, max_depth=10, criterion=entropy \n",
      "[CV]  n_estimators=600, min_samples_split=2, min_samples_leaf=1, max_features=auto, max_depth=10, criterion=entropy, total=   1.1s\n",
      "[CV] n_estimators=600, min_samples_split=2, min_samples_leaf=1, max_features=auto, max_depth=10, criterion=entropy \n",
      "[CV]  n_estimators=600, min_samples_split=2, min_samples_leaf=1, max_features=auto, max_depth=10, criterion=entropy, total=   1.1s\n",
      "[CV] n_estimators=600, min_samples_split=2, min_samples_leaf=1, max_features=auto, max_depth=10, criterion=entropy \n",
      "[CV]  n_estimators=600, min_samples_split=2, min_samples_leaf=1, max_features=auto, max_depth=10, criterion=entropy, total=   1.1s\n",
      "[CV] n_estimators=2000, min_samples_split=2, min_samples_leaf=4, max_features=sqrt, max_depth=120, criterion=entropy \n",
      "[CV]  n_estimators=2000, min_samples_split=2, min_samples_leaf=4, max_features=sqrt, max_depth=120, criterion=entropy, total=   3.5s\n",
      "[CV] n_estimators=2000, min_samples_split=2, min_samples_leaf=4, max_features=sqrt, max_depth=120, criterion=entropy \n",
      "[CV]  n_estimators=2000, min_samples_split=2, min_samples_leaf=4, max_features=sqrt, max_depth=120, criterion=entropy, total=   3.5s\n",
      "[CV] n_estimators=2000, min_samples_split=2, min_samples_leaf=4, max_features=sqrt, max_depth=120, criterion=entropy \n",
      "[CV]  n_estimators=2000, min_samples_split=2, min_samples_leaf=4, max_features=sqrt, max_depth=120, criterion=entropy, total=   3.5s\n",
      "[CV] n_estimators=800, min_samples_split=14, min_samples_leaf=4, max_features=log2, max_depth=780, criterion=entropy \n",
      "[CV]  n_estimators=800, min_samples_split=14, min_samples_leaf=4, max_features=log2, max_depth=780, criterion=entropy, total=   1.5s\n",
      "[CV] n_estimators=800, min_samples_split=14, min_samples_leaf=4, max_features=log2, max_depth=780, criterion=entropy \n",
      "[CV]  n_estimators=800, min_samples_split=14, min_samples_leaf=4, max_features=log2, max_depth=780, criterion=entropy, total=   1.5s\n",
      "[CV] n_estimators=800, min_samples_split=14, min_samples_leaf=4, max_features=log2, max_depth=780, criterion=entropy \n",
      "[CV]  n_estimators=800, min_samples_split=14, min_samples_leaf=4, max_features=log2, max_depth=780, criterion=entropy, total=   1.5s\n",
      "[CV] n_estimators=1400, min_samples_split=2, min_samples_leaf=6, max_features=auto, max_depth=450, criterion=entropy \n",
      "[CV]  n_estimators=1400, min_samples_split=2, min_samples_leaf=6, max_features=auto, max_depth=450, criterion=entropy, total=   2.4s\n",
      "[CV] n_estimators=1400, min_samples_split=2, min_samples_leaf=6, max_features=auto, max_depth=450, criterion=entropy \n",
      "[CV]  n_estimators=1400, min_samples_split=2, min_samples_leaf=6, max_features=auto, max_depth=450, criterion=entropy, total=   2.4s\n",
      "[CV] n_estimators=1400, min_samples_split=2, min_samples_leaf=6, max_features=auto, max_depth=450, criterion=entropy \n",
      "[CV]  n_estimators=1400, min_samples_split=2, min_samples_leaf=6, max_features=auto, max_depth=450, criterion=entropy, total=   2.3s\n",
      "[CV] n_estimators=2000, min_samples_split=5, min_samples_leaf=1, max_features=auto, max_depth=670, criterion=gini \n",
      "[CV]  n_estimators=2000, min_samples_split=5, min_samples_leaf=1, max_features=auto, max_depth=670, criterion=gini, total=   3.3s\n",
      "[CV] n_estimators=2000, min_samples_split=5, min_samples_leaf=1, max_features=auto, max_depth=670, criterion=gini \n",
      "[CV]  n_estimators=2000, min_samples_split=5, min_samples_leaf=1, max_features=auto, max_depth=670, criterion=gini, total=   3.2s\n",
      "[CV] n_estimators=2000, min_samples_split=5, min_samples_leaf=1, max_features=auto, max_depth=670, criterion=gini \n",
      "[CV]  n_estimators=2000, min_samples_split=5, min_samples_leaf=1, max_features=auto, max_depth=670, criterion=gini, total=   3.2s\n",
      "[CV] n_estimators=800, min_samples_split=10, min_samples_leaf=4, max_features=auto, max_depth=780, criterion=gini \n",
      "[CV]  n_estimators=800, min_samples_split=10, min_samples_leaf=4, max_features=auto, max_depth=780, criterion=gini, total=   1.3s\n",
      "[CV] n_estimators=800, min_samples_split=10, min_samples_leaf=4, max_features=auto, max_depth=780, criterion=gini \n",
      "[CV]  n_estimators=800, min_samples_split=10, min_samples_leaf=4, max_features=auto, max_depth=780, criterion=gini, total=   1.3s\n",
      "[CV] n_estimators=800, min_samples_split=10, min_samples_leaf=4, max_features=auto, max_depth=780, criterion=gini \n",
      "[CV]  n_estimators=800, min_samples_split=10, min_samples_leaf=4, max_features=auto, max_depth=780, criterion=gini, total=   1.3s\n",
      "[CV] n_estimators=800, min_samples_split=5, min_samples_leaf=2, max_features=sqrt, max_depth=560, criterion=entropy \n",
      "[CV]  n_estimators=800, min_samples_split=5, min_samples_leaf=2, max_features=sqrt, max_depth=560, criterion=entropy, total=   1.5s\n",
      "[CV] n_estimators=800, min_samples_split=5, min_samples_leaf=2, max_features=sqrt, max_depth=560, criterion=entropy \n",
      "[CV]  n_estimators=800, min_samples_split=5, min_samples_leaf=2, max_features=sqrt, max_depth=560, criterion=entropy, total=   1.5s\n",
      "[CV] n_estimators=800, min_samples_split=5, min_samples_leaf=2, max_features=sqrt, max_depth=560, criterion=entropy \n",
      "[CV]  n_estimators=800, min_samples_split=5, min_samples_leaf=2, max_features=sqrt, max_depth=560, criterion=entropy, total=   1.5s\n",
      "[CV] n_estimators=1400, min_samples_split=2, min_samples_leaf=1, max_features=sqrt, max_depth=230, criterion=gini \n",
      "[CV]  n_estimators=1400, min_samples_split=2, min_samples_leaf=1, max_features=sqrt, max_depth=230, criterion=gini, total=   2.3s\n",
      "[CV] n_estimators=1400, min_samples_split=2, min_samples_leaf=1, max_features=sqrt, max_depth=230, criterion=gini \n",
      "[CV]  n_estimators=1400, min_samples_split=2, min_samples_leaf=1, max_features=sqrt, max_depth=230, criterion=gini, total=   2.3s\n",
      "[CV] n_estimators=1400, min_samples_split=2, min_samples_leaf=1, max_features=sqrt, max_depth=230, criterion=gini \n",
      "[CV]  n_estimators=1400, min_samples_split=2, min_samples_leaf=1, max_features=sqrt, max_depth=230, criterion=gini, total=   2.3s\n",
      "[CV] n_estimators=1800, min_samples_split=14, min_samples_leaf=8, max_features=sqrt, max_depth=670, criterion=entropy \n",
      "[CV]  n_estimators=1800, min_samples_split=14, min_samples_leaf=8, max_features=sqrt, max_depth=670, criterion=entropy, total=   3.0s\n",
      "[CV] n_estimators=1800, min_samples_split=14, min_samples_leaf=8, max_features=sqrt, max_depth=670, criterion=entropy \n",
      "[CV]  n_estimators=1800, min_samples_split=14, min_samples_leaf=8, max_features=sqrt, max_depth=670, criterion=entropy, total=   3.0s\n",
      "[CV] n_estimators=1800, min_samples_split=14, min_samples_leaf=8, max_features=sqrt, max_depth=670, criterion=entropy \n",
      "[CV]  n_estimators=1800, min_samples_split=14, min_samples_leaf=8, max_features=sqrt, max_depth=670, criterion=entropy, total=   3.0s\n",
      "[CV] n_estimators=600, min_samples_split=14, min_samples_leaf=8, max_features=log2, max_depth=450, criterion=entropy \n",
      "[CV]  n_estimators=600, min_samples_split=14, min_samples_leaf=8, max_features=log2, max_depth=450, criterion=entropy, total=   1.1s\n",
      "[CV] n_estimators=600, min_samples_split=14, min_samples_leaf=8, max_features=log2, max_depth=450, criterion=entropy \n",
      "[CV]  n_estimators=600, min_samples_split=14, min_samples_leaf=8, max_features=log2, max_depth=450, criterion=entropy, total=   1.1s\n",
      "[CV] n_estimators=600, min_samples_split=14, min_samples_leaf=8, max_features=log2, max_depth=450, criterion=entropy \n",
      "[CV]  n_estimators=600, min_samples_split=14, min_samples_leaf=8, max_features=log2, max_depth=450, criterion=entropy, total=   1.0s\n",
      "[CV] n_estimators=1600, min_samples_split=2, min_samples_leaf=8, max_features=auto, max_depth=1000, criterion=gini \n",
      "[CV]  n_estimators=1600, min_samples_split=2, min_samples_leaf=8, max_features=auto, max_depth=1000, criterion=gini, total=   2.4s\n",
      "[CV] n_estimators=1600, min_samples_split=2, min_samples_leaf=8, max_features=auto, max_depth=1000, criterion=gini \n",
      "[CV]  n_estimators=1600, min_samples_split=2, min_samples_leaf=8, max_features=auto, max_depth=1000, criterion=gini, total=   2.4s\n",
      "[CV] n_estimators=1600, min_samples_split=2, min_samples_leaf=8, max_features=auto, max_depth=1000, criterion=gini \n",
      "[CV]  n_estimators=1600, min_samples_split=2, min_samples_leaf=8, max_features=auto, max_depth=1000, criterion=gini, total=   2.4s\n",
      "[CV] n_estimators=2000, min_samples_split=10, min_samples_leaf=6, max_features=sqrt, max_depth=670, criterion=entropy \n",
      "[CV]  n_estimators=2000, min_samples_split=10, min_samples_leaf=6, max_features=sqrt, max_depth=670, criterion=entropy, total=   3.4s\n",
      "[CV] n_estimators=2000, min_samples_split=10, min_samples_leaf=6, max_features=sqrt, max_depth=670, criterion=entropy \n",
      "[CV]  n_estimators=2000, min_samples_split=10, min_samples_leaf=6, max_features=sqrt, max_depth=670, criterion=entropy, total=   3.3s\n",
      "[CV] n_estimators=2000, min_samples_split=10, min_samples_leaf=6, max_features=sqrt, max_depth=670, criterion=entropy \n",
      "[CV]  n_estimators=2000, min_samples_split=10, min_samples_leaf=6, max_features=sqrt, max_depth=670, criterion=entropy, total=   3.4s\n",
      "[CV] n_estimators=1400, min_samples_split=2, min_samples_leaf=1, max_features=sqrt, max_depth=120, criterion=entropy \n",
      "[CV]  n_estimators=1400, min_samples_split=2, min_samples_leaf=1, max_features=sqrt, max_depth=120, criterion=entropy, total=   2.6s\n",
      "[CV] n_estimators=1400, min_samples_split=2, min_samples_leaf=1, max_features=sqrt, max_depth=120, criterion=entropy \n",
      "[CV]  n_estimators=1400, min_samples_split=2, min_samples_leaf=1, max_features=sqrt, max_depth=120, criterion=entropy, total=   2.6s\n",
      "[CV] n_estimators=1400, min_samples_split=2, min_samples_leaf=1, max_features=sqrt, max_depth=120, criterion=entropy \n",
      "[CV]  n_estimators=1400, min_samples_split=2, min_samples_leaf=1, max_features=sqrt, max_depth=120, criterion=entropy, total=   2.6s\n",
      "[CV] n_estimators=600, min_samples_split=5, min_samples_leaf=1, max_features=sqrt, max_depth=780, criterion=gini \n",
      "[CV]  n_estimators=600, min_samples_split=5, min_samples_leaf=1, max_features=sqrt, max_depth=780, criterion=gini, total=   1.0s\n",
      "[CV] n_estimators=600, min_samples_split=5, min_samples_leaf=1, max_features=sqrt, max_depth=780, criterion=gini \n",
      "[CV]  n_estimators=600, min_samples_split=5, min_samples_leaf=1, max_features=sqrt, max_depth=780, criterion=gini, total=   1.0s\n",
      "[CV] n_estimators=600, min_samples_split=5, min_samples_leaf=1, max_features=sqrt, max_depth=780, criterion=gini \n",
      "[CV]  n_estimators=600, min_samples_split=5, min_samples_leaf=1, max_features=sqrt, max_depth=780, criterion=gini, total=   1.0s\n",
      "[CV] n_estimators=1400, min_samples_split=10, min_samples_leaf=2, max_features=auto, max_depth=450, criterion=gini \n",
      "[CV]  n_estimators=1400, min_samples_split=10, min_samples_leaf=2, max_features=auto, max_depth=450, criterion=gini, total=   2.2s\n",
      "[CV] n_estimators=1400, min_samples_split=10, min_samples_leaf=2, max_features=auto, max_depth=450, criterion=gini \n",
      "[CV]  n_estimators=1400, min_samples_split=10, min_samples_leaf=2, max_features=auto, max_depth=450, criterion=gini, total=   2.2s\n",
      "[CV] n_estimators=1400, min_samples_split=10, min_samples_leaf=2, max_features=auto, max_depth=450, criterion=gini \n",
      "[CV]  n_estimators=1400, min_samples_split=10, min_samples_leaf=2, max_features=auto, max_depth=450, criterion=gini, total=   2.2s\n",
      "[CV] n_estimators=200, min_samples_split=2, min_samples_leaf=2, max_features=log2, max_depth=340, criterion=entropy \n",
      "[CV]  n_estimators=200, min_samples_split=2, min_samples_leaf=2, max_features=log2, max_depth=340, criterion=entropy, total=   0.4s\n",
      "[CV] n_estimators=200, min_samples_split=2, min_samples_leaf=2, max_features=log2, max_depth=340, criterion=entropy \n",
      "[CV]  n_estimators=200, min_samples_split=2, min_samples_leaf=2, max_features=log2, max_depth=340, criterion=entropy, total=   0.4s\n",
      "[CV] n_estimators=200, min_samples_split=2, min_samples_leaf=2, max_features=log2, max_depth=340, criterion=entropy \n",
      "[CV]  n_estimators=200, min_samples_split=2, min_samples_leaf=2, max_features=log2, max_depth=340, criterion=entropy, total=   0.4s\n",
      "[CV] n_estimators=1400, min_samples_split=5, min_samples_leaf=4, max_features=log2, max_depth=120, criterion=gini \n",
      "[CV]  n_estimators=1400, min_samples_split=5, min_samples_leaf=4, max_features=log2, max_depth=120, criterion=gini, total=   2.3s\n",
      "[CV] n_estimators=1400, min_samples_split=5, min_samples_leaf=4, max_features=log2, max_depth=120, criterion=gini \n",
      "[CV]  n_estimators=1400, min_samples_split=5, min_samples_leaf=4, max_features=log2, max_depth=120, criterion=gini, total=   2.4s\n",
      "[CV] n_estimators=1400, min_samples_split=5, min_samples_leaf=4, max_features=log2, max_depth=120, criterion=gini \n",
      "[CV]  n_estimators=1400, min_samples_split=5, min_samples_leaf=4, max_features=log2, max_depth=120, criterion=gini, total=   2.3s\n",
      "[CV] n_estimators=1000, min_samples_split=14, min_samples_leaf=2, max_features=log2, max_depth=120, criterion=gini \n",
      "[CV]  n_estimators=1000, min_samples_split=14, min_samples_leaf=2, max_features=log2, max_depth=120, criterion=gini, total=   1.6s\n",
      "[CV] n_estimators=1000, min_samples_split=14, min_samples_leaf=2, max_features=log2, max_depth=120, criterion=gini \n",
      "[CV]  n_estimators=1000, min_samples_split=14, min_samples_leaf=2, max_features=log2, max_depth=120, criterion=gini, total=   1.7s\n",
      "[CV] n_estimators=1000, min_samples_split=14, min_samples_leaf=2, max_features=log2, max_depth=120, criterion=gini \n",
      "[CV]  n_estimators=1000, min_samples_split=14, min_samples_leaf=2, max_features=log2, max_depth=120, criterion=gini, total=   1.7s\n",
      "[CV] n_estimators=800, min_samples_split=5, min_samples_leaf=6, max_features=sqrt, max_depth=780, criterion=entropy \n",
      "[CV]  n_estimators=800, min_samples_split=5, min_samples_leaf=6, max_features=sqrt, max_depth=780, criterion=entropy, total=   1.3s\n",
      "[CV] n_estimators=800, min_samples_split=5, min_samples_leaf=6, max_features=sqrt, max_depth=780, criterion=entropy \n",
      "[CV]  n_estimators=800, min_samples_split=5, min_samples_leaf=6, max_features=sqrt, max_depth=780, criterion=entropy, total=   1.3s\n",
      "[CV] n_estimators=800, min_samples_split=5, min_samples_leaf=6, max_features=sqrt, max_depth=780, criterion=entropy \n",
      "[CV]  n_estimators=800, min_samples_split=5, min_samples_leaf=6, max_features=sqrt, max_depth=780, criterion=entropy, total=   1.4s\n",
      "[CV] n_estimators=1800, min_samples_split=5, min_samples_leaf=6, max_features=log2, max_depth=230, criterion=entropy \n",
      "[CV]  n_estimators=1800, min_samples_split=5, min_samples_leaf=6, max_features=log2, max_depth=230, criterion=entropy, total=   3.3s\n",
      "[CV] n_estimators=1800, min_samples_split=5, min_samples_leaf=6, max_features=log2, max_depth=230, criterion=entropy \n",
      "[CV]  n_estimators=1800, min_samples_split=5, min_samples_leaf=6, max_features=log2, max_depth=230, criterion=entropy, total=   3.3s\n",
      "[CV] n_estimators=1800, min_samples_split=5, min_samples_leaf=6, max_features=log2, max_depth=230, criterion=entropy \n",
      "[CV]  n_estimators=1800, min_samples_split=5, min_samples_leaf=6, max_features=log2, max_depth=230, criterion=entropy, total=   3.2s\n",
      "[CV] n_estimators=2000, min_samples_split=2, min_samples_leaf=8, max_features=auto, max_depth=780, criterion=entropy \n",
      "[CV]  n_estimators=2000, min_samples_split=2, min_samples_leaf=8, max_features=auto, max_depth=780, criterion=entropy, total=   3.3s\n",
      "[CV] n_estimators=2000, min_samples_split=2, min_samples_leaf=8, max_features=auto, max_depth=780, criterion=entropy \n",
      "[CV]  n_estimators=2000, min_samples_split=2, min_samples_leaf=8, max_features=auto, max_depth=780, criterion=entropy, total=   3.3s\n",
      "[CV] n_estimators=2000, min_samples_split=2, min_samples_leaf=8, max_features=auto, max_depth=780, criterion=entropy \n",
      "[CV]  n_estimators=2000, min_samples_split=2, min_samples_leaf=8, max_features=auto, max_depth=780, criterion=entropy, total=   3.3s\n",
      "[CV] n_estimators=400, min_samples_split=10, min_samples_leaf=6, max_features=auto, max_depth=670, criterion=gini \n",
      "[CV]  n_estimators=400, min_samples_split=10, min_samples_leaf=6, max_features=auto, max_depth=670, criterion=gini, total=   0.6s\n",
      "[CV] n_estimators=400, min_samples_split=10, min_samples_leaf=6, max_features=auto, max_depth=670, criterion=gini \n",
      "[CV]  n_estimators=400, min_samples_split=10, min_samples_leaf=6, max_features=auto, max_depth=670, criterion=gini, total=   0.6s\n",
      "[CV] n_estimators=400, min_samples_split=10, min_samples_leaf=6, max_features=auto, max_depth=670, criterion=gini \n",
      "[CV]  n_estimators=400, min_samples_split=10, min_samples_leaf=6, max_features=auto, max_depth=670, criterion=gini, total=   0.6s\n",
      "[CV] n_estimators=200, min_samples_split=5, min_samples_leaf=1, max_features=log2, max_depth=450, criterion=gini \n",
      "[CV]  n_estimators=200, min_samples_split=5, min_samples_leaf=1, max_features=log2, max_depth=450, criterion=gini, total=   0.4s\n",
      "[CV] n_estimators=200, min_samples_split=5, min_samples_leaf=1, max_features=log2, max_depth=450, criterion=gini \n",
      "[CV]  n_estimators=200, min_samples_split=5, min_samples_leaf=1, max_features=log2, max_depth=450, criterion=gini, total=   0.4s\n",
      "[CV] n_estimators=200, min_samples_split=5, min_samples_leaf=1, max_features=log2, max_depth=450, criterion=gini \n",
      "[CV]  n_estimators=200, min_samples_split=5, min_samples_leaf=1, max_features=log2, max_depth=450, criterion=gini, total=   0.3s\n",
      "[CV] n_estimators=2000, min_samples_split=2, min_samples_leaf=1, max_features=log2, max_depth=340, criterion=gini \n",
      "[CV]  n_estimators=2000, min_samples_split=2, min_samples_leaf=1, max_features=log2, max_depth=340, criterion=gini, total=   3.5s\n",
      "[CV] n_estimators=2000, min_samples_split=2, min_samples_leaf=1, max_features=log2, max_depth=340, criterion=gini \n",
      "[CV]  n_estimators=2000, min_samples_split=2, min_samples_leaf=1, max_features=log2, max_depth=340, criterion=gini, total=   3.5s\n",
      "[CV] n_estimators=2000, min_samples_split=2, min_samples_leaf=1, max_features=log2, max_depth=340, criterion=gini \n",
      "[CV]  n_estimators=2000, min_samples_split=2, min_samples_leaf=1, max_features=log2, max_depth=340, criterion=gini, total=   3.5s\n",
      "[CV] n_estimators=400, min_samples_split=10, min_samples_leaf=1, max_features=auto, max_depth=230, criterion=gini \n",
      "[CV]  n_estimators=400, min_samples_split=10, min_samples_leaf=1, max_features=auto, max_depth=230, criterion=gini, total=   0.6s\n",
      "[CV] n_estimators=400, min_samples_split=10, min_samples_leaf=1, max_features=auto, max_depth=230, criterion=gini \n",
      "[CV]  n_estimators=400, min_samples_split=10, min_samples_leaf=1, max_features=auto, max_depth=230, criterion=gini, total=   0.6s\n",
      "[CV] n_estimators=400, min_samples_split=10, min_samples_leaf=1, max_features=auto, max_depth=230, criterion=gini \n",
      "[CV]  n_estimators=400, min_samples_split=10, min_samples_leaf=1, max_features=auto, max_depth=230, criterion=gini, total=   0.6s\n",
      "[CV] n_estimators=600, min_samples_split=5, min_samples_leaf=1, max_features=sqrt, max_depth=10, criterion=gini \n",
      "[CV]  n_estimators=600, min_samples_split=5, min_samples_leaf=1, max_features=sqrt, max_depth=10, criterion=gini, total=   1.0s\n",
      "[CV] n_estimators=600, min_samples_split=5, min_samples_leaf=1, max_features=sqrt, max_depth=10, criterion=gini \n",
      "[CV]  n_estimators=600, min_samples_split=5, min_samples_leaf=1, max_features=sqrt, max_depth=10, criterion=gini, total=   1.0s\n",
      "[CV] n_estimators=600, min_samples_split=5, min_samples_leaf=1, max_features=sqrt, max_depth=10, criterion=gini \n",
      "[CV]  n_estimators=600, min_samples_split=5, min_samples_leaf=1, max_features=sqrt, max_depth=10, criterion=gini, total=   1.0s\n",
      "[CV] n_estimators=1800, min_samples_split=2, min_samples_leaf=4, max_features=log2, max_depth=10, criterion=entropy \n",
      "[CV]  n_estimators=1800, min_samples_split=2, min_samples_leaf=4, max_features=log2, max_depth=10, criterion=entropy, total=   3.4s\n",
      "[CV] n_estimators=1800, min_samples_split=2, min_samples_leaf=4, max_features=log2, max_depth=10, criterion=entropy \n",
      "[CV]  n_estimators=1800, min_samples_split=2, min_samples_leaf=4, max_features=log2, max_depth=10, criterion=entropy, total=   3.4s\n",
      "[CV] n_estimators=1800, min_samples_split=2, min_samples_leaf=4, max_features=log2, max_depth=10, criterion=entropy \n",
      "[CV]  n_estimators=1800, min_samples_split=2, min_samples_leaf=4, max_features=log2, max_depth=10, criterion=entropy, total=   3.4s\n",
      "[CV] n_estimators=2000, min_samples_split=5, min_samples_leaf=1, max_features=log2, max_depth=560, criterion=entropy \n",
      "[CV]  n_estimators=2000, min_samples_split=5, min_samples_leaf=1, max_features=log2, max_depth=560, criterion=entropy, total=   4.1s\n",
      "[CV] n_estimators=2000, min_samples_split=5, min_samples_leaf=1, max_features=log2, max_depth=560, criterion=entropy \n",
      "[CV]  n_estimators=2000, min_samples_split=5, min_samples_leaf=1, max_features=log2, max_depth=560, criterion=entropy, total=   4.1s\n",
      "[CV] n_estimators=2000, min_samples_split=5, min_samples_leaf=1, max_features=log2, max_depth=560, criterion=entropy \n",
      "[CV]  n_estimators=2000, min_samples_split=5, min_samples_leaf=1, max_features=log2, max_depth=560, criterion=entropy, total=   4.0s\n",
      "[CV] n_estimators=800, min_samples_split=5, min_samples_leaf=6, max_features=auto, max_depth=890, criterion=gini \n",
      "[CV]  n_estimators=800, min_samples_split=5, min_samples_leaf=6, max_features=auto, max_depth=890, criterion=gini, total=   1.2s\n",
      "[CV] n_estimators=800, min_samples_split=5, min_samples_leaf=6, max_features=auto, max_depth=890, criterion=gini \n",
      "[CV]  n_estimators=800, min_samples_split=5, min_samples_leaf=6, max_features=auto, max_depth=890, criterion=gini, total=   1.2s\n",
      "[CV] n_estimators=800, min_samples_split=5, min_samples_leaf=6, max_features=auto, max_depth=890, criterion=gini \n",
      "[CV]  n_estimators=800, min_samples_split=5, min_samples_leaf=6, max_features=auto, max_depth=890, criterion=gini, total=   1.2s\n",
      "[CV] n_estimators=2000, min_samples_split=10, min_samples_leaf=4, max_features=log2, max_depth=670, criterion=entropy \n",
      "[CV]  n_estimators=2000, min_samples_split=10, min_samples_leaf=4, max_features=log2, max_depth=670, criterion=entropy, total=   3.8s\n",
      "[CV] n_estimators=2000, min_samples_split=10, min_samples_leaf=4, max_features=log2, max_depth=670, criterion=entropy \n",
      "[CV]  n_estimators=2000, min_samples_split=10, min_samples_leaf=4, max_features=log2, max_depth=670, criterion=entropy, total=   3.8s\n",
      "[CV] n_estimators=2000, min_samples_split=10, min_samples_leaf=4, max_features=log2, max_depth=670, criterion=entropy \n",
      "[CV]  n_estimators=2000, min_samples_split=10, min_samples_leaf=4, max_features=log2, max_depth=670, criterion=entropy, total=   3.7s\n",
      "[CV] n_estimators=1200, min_samples_split=10, min_samples_leaf=4, max_features=log2, max_depth=890, criterion=entropy \n",
      "[CV]  n_estimators=1200, min_samples_split=10, min_samples_leaf=4, max_features=log2, max_depth=890, criterion=entropy, total=   2.3s\n",
      "[CV] n_estimators=1200, min_samples_split=10, min_samples_leaf=4, max_features=log2, max_depth=890, criterion=entropy \n",
      "[CV]  n_estimators=1200, min_samples_split=10, min_samples_leaf=4, max_features=log2, max_depth=890, criterion=entropy, total=   2.3s\n",
      "[CV] n_estimators=1200, min_samples_split=10, min_samples_leaf=4, max_features=log2, max_depth=890, criterion=entropy \n",
      "[CV]  n_estimators=1200, min_samples_split=10, min_samples_leaf=4, max_features=log2, max_depth=890, criterion=entropy, total=   2.3s\n",
      "[CV] n_estimators=600, min_samples_split=2, min_samples_leaf=1, max_features=log2, max_depth=780, criterion=gini \n",
      "[CV]  n_estimators=600, min_samples_split=2, min_samples_leaf=1, max_features=log2, max_depth=780, criterion=gini, total=   1.1s\n",
      "[CV] n_estimators=600, min_samples_split=2, min_samples_leaf=1, max_features=log2, max_depth=780, criterion=gini \n",
      "[CV]  n_estimators=600, min_samples_split=2, min_samples_leaf=1, max_features=log2, max_depth=780, criterion=gini, total=   1.1s\n",
      "[CV] n_estimators=600, min_samples_split=2, min_samples_leaf=1, max_features=log2, max_depth=780, criterion=gini \n",
      "[CV]  n_estimators=600, min_samples_split=2, min_samples_leaf=1, max_features=log2, max_depth=780, criterion=gini, total=   1.0s\n",
      "[CV] n_estimators=1600, min_samples_split=10, min_samples_leaf=1, max_features=auto, max_depth=780, criterion=entropy \n",
      "[CV]  n_estimators=1600, min_samples_split=10, min_samples_leaf=1, max_features=auto, max_depth=780, criterion=entropy, total=   2.9s\n",
      "[CV] n_estimators=1600, min_samples_split=10, min_samples_leaf=1, max_features=auto, max_depth=780, criterion=entropy \n",
      "[CV]  n_estimators=1600, min_samples_split=10, min_samples_leaf=1, max_features=auto, max_depth=780, criterion=entropy, total=   2.9s\n",
      "[CV] n_estimators=1600, min_samples_split=10, min_samples_leaf=1, max_features=auto, max_depth=780, criterion=entropy \n",
      "[CV]  n_estimators=1600, min_samples_split=10, min_samples_leaf=1, max_features=auto, max_depth=780, criterion=entropy, total=   2.9s\n",
      "[CV] n_estimators=200, min_samples_split=14, min_samples_leaf=1, max_features=sqrt, max_depth=450, criterion=entropy \n",
      "[CV]  n_estimators=200, min_samples_split=14, min_samples_leaf=1, max_features=sqrt, max_depth=450, criterion=entropy, total=   0.4s\n",
      "[CV] n_estimators=200, min_samples_split=14, min_samples_leaf=1, max_features=sqrt, max_depth=450, criterion=entropy \n",
      "[CV]  n_estimators=200, min_samples_split=14, min_samples_leaf=1, max_features=sqrt, max_depth=450, criterion=entropy, total=   0.4s\n",
      "[CV] n_estimators=200, min_samples_split=14, min_samples_leaf=1, max_features=sqrt, max_depth=450, criterion=entropy \n",
      "[CV]  n_estimators=200, min_samples_split=14, min_samples_leaf=1, max_features=sqrt, max_depth=450, criterion=entropy, total=   0.4s\n",
      "[CV] n_estimators=1600, min_samples_split=10, min_samples_leaf=2, max_features=log2, max_depth=230, criterion=entropy \n",
      "[CV]  n_estimators=1600, min_samples_split=10, min_samples_leaf=2, max_features=log2, max_depth=230, criterion=entropy, total=   3.1s\n",
      "[CV] n_estimators=1600, min_samples_split=10, min_samples_leaf=2, max_features=log2, max_depth=230, criterion=entropy \n",
      "[CV]  n_estimators=1600, min_samples_split=10, min_samples_leaf=2, max_features=log2, max_depth=230, criterion=entropy, total=   3.2s\n",
      "[CV] n_estimators=1600, min_samples_split=10, min_samples_leaf=2, max_features=log2, max_depth=230, criterion=entropy \n",
      "[CV]  n_estimators=1600, min_samples_split=10, min_samples_leaf=2, max_features=log2, max_depth=230, criterion=entropy, total=   3.1s\n",
      "[CV] n_estimators=1800, min_samples_split=10, min_samples_leaf=1, max_features=log2, max_depth=560, criterion=gini \n",
      "[CV]  n_estimators=1800, min_samples_split=10, min_samples_leaf=1, max_features=log2, max_depth=560, criterion=gini, total=   3.1s\n",
      "[CV] n_estimators=1800, min_samples_split=10, min_samples_leaf=1, max_features=log2, max_depth=560, criterion=gini \n",
      "[CV]  n_estimators=1800, min_samples_split=10, min_samples_leaf=1, max_features=log2, max_depth=560, criterion=gini, total=   3.1s\n",
      "[CV] n_estimators=1800, min_samples_split=10, min_samples_leaf=1, max_features=log2, max_depth=560, criterion=gini \n",
      "[CV]  n_estimators=1800, min_samples_split=10, min_samples_leaf=1, max_features=log2, max_depth=560, criterion=gini, total=   3.1s\n",
      "[CV] n_estimators=1400, min_samples_split=10, min_samples_leaf=8, max_features=auto, max_depth=450, criterion=gini \n",
      "[CV]  n_estimators=1400, min_samples_split=10, min_samples_leaf=8, max_features=auto, max_depth=450, criterion=gini, total=   2.2s\n",
      "[CV] n_estimators=1400, min_samples_split=10, min_samples_leaf=8, max_features=auto, max_depth=450, criterion=gini \n",
      "[CV]  n_estimators=1400, min_samples_split=10, min_samples_leaf=8, max_features=auto, max_depth=450, criterion=gini, total=   2.1s\n",
      "[CV] n_estimators=1400, min_samples_split=10, min_samples_leaf=8, max_features=auto, max_depth=450, criterion=gini \n",
      "[CV]  n_estimators=1400, min_samples_split=10, min_samples_leaf=8, max_features=auto, max_depth=450, criterion=gini, total=   2.1s\n",
      "[CV] n_estimators=1400, min_samples_split=2, min_samples_leaf=8, max_features=sqrt, max_depth=1000, criterion=gini \n",
      "[CV]  n_estimators=1400, min_samples_split=2, min_samples_leaf=8, max_features=sqrt, max_depth=1000, criterion=gini, total=   2.1s\n",
      "[CV] n_estimators=1400, min_samples_split=2, min_samples_leaf=8, max_features=sqrt, max_depth=1000, criterion=gini \n",
      "[CV]  n_estimators=1400, min_samples_split=2, min_samples_leaf=8, max_features=sqrt, max_depth=1000, criterion=gini, total=   2.2s\n",
      "[CV] n_estimators=1400, min_samples_split=2, min_samples_leaf=8, max_features=sqrt, max_depth=1000, criterion=gini \n",
      "[CV]  n_estimators=1400, min_samples_split=2, min_samples_leaf=8, max_features=sqrt, max_depth=1000, criterion=gini, total=   2.1s\n",
      "[CV] n_estimators=400, min_samples_split=14, min_samples_leaf=8, max_features=sqrt, max_depth=780, criterion=entropy \n",
      "[CV]  n_estimators=400, min_samples_split=14, min_samples_leaf=8, max_features=sqrt, max_depth=780, criterion=entropy, total=   0.7s\n",
      "[CV] n_estimators=400, min_samples_split=14, min_samples_leaf=8, max_features=sqrt, max_depth=780, criterion=entropy \n",
      "[CV]  n_estimators=400, min_samples_split=14, min_samples_leaf=8, max_features=sqrt, max_depth=780, criterion=entropy, total=   0.7s\n",
      "[CV] n_estimators=400, min_samples_split=14, min_samples_leaf=8, max_features=sqrt, max_depth=780, criterion=entropy \n",
      "[CV]  n_estimators=400, min_samples_split=14, min_samples_leaf=8, max_features=sqrt, max_depth=780, criterion=entropy, total=   0.7s\n",
      "[CV] n_estimators=1200, min_samples_split=14, min_samples_leaf=1, max_features=log2, max_depth=450, criterion=gini \n",
      "[CV]  n_estimators=1200, min_samples_split=14, min_samples_leaf=1, max_features=log2, max_depth=450, criterion=gini, total=   2.0s\n",
      "[CV] n_estimators=1200, min_samples_split=14, min_samples_leaf=1, max_features=log2, max_depth=450, criterion=gini \n",
      "[CV]  n_estimators=1200, min_samples_split=14, min_samples_leaf=1, max_features=log2, max_depth=450, criterion=gini, total=   2.0s\n",
      "[CV] n_estimators=1200, min_samples_split=14, min_samples_leaf=1, max_features=log2, max_depth=450, criterion=gini \n",
      "[CV]  n_estimators=1200, min_samples_split=14, min_samples_leaf=1, max_features=log2, max_depth=450, criterion=gini, total=   2.0s\n",
      "[CV] n_estimators=400, min_samples_split=2, min_samples_leaf=6, max_features=log2, max_depth=450, criterion=entropy \n",
      "[CV]  n_estimators=400, min_samples_split=2, min_samples_leaf=6, max_features=log2, max_depth=450, criterion=entropy, total=   0.7s\n",
      "[CV] n_estimators=400, min_samples_split=2, min_samples_leaf=6, max_features=log2, max_depth=450, criterion=entropy \n",
      "[CV]  n_estimators=400, min_samples_split=2, min_samples_leaf=6, max_features=log2, max_depth=450, criterion=entropy, total=   0.7s\n",
      "[CV] n_estimators=400, min_samples_split=2, min_samples_leaf=6, max_features=log2, max_depth=450, criterion=entropy \n",
      "[CV]  n_estimators=400, min_samples_split=2, min_samples_leaf=6, max_features=log2, max_depth=450, criterion=entropy, total=   0.7s\n",
      "[CV] n_estimators=1000, min_samples_split=2, min_samples_leaf=2, max_features=auto, max_depth=1000, criterion=gini \n",
      "[CV]  n_estimators=1000, min_samples_split=2, min_samples_leaf=2, max_features=auto, max_depth=1000, criterion=gini, total=   1.6s\n",
      "[CV] n_estimators=1000, min_samples_split=2, min_samples_leaf=2, max_features=auto, max_depth=1000, criterion=gini \n",
      "[CV]  n_estimators=1000, min_samples_split=2, min_samples_leaf=2, max_features=auto, max_depth=1000, criterion=gini, total=   1.6s\n",
      "[CV] n_estimators=1000, min_samples_split=2, min_samples_leaf=2, max_features=auto, max_depth=1000, criterion=gini \n",
      "[CV]  n_estimators=1000, min_samples_split=2, min_samples_leaf=2, max_features=auto, max_depth=1000, criterion=gini, total=   1.6s\n",
      "[CV] n_estimators=1400, min_samples_split=14, min_samples_leaf=2, max_features=auto, max_depth=780, criterion=gini \n",
      "[CV]  n_estimators=1400, min_samples_split=14, min_samples_leaf=2, max_features=auto, max_depth=780, criterion=gini, total=   2.2s\n",
      "[CV] n_estimators=1400, min_samples_split=14, min_samples_leaf=2, max_features=auto, max_depth=780, criterion=gini \n",
      "[CV]  n_estimators=1400, min_samples_split=14, min_samples_leaf=2, max_features=auto, max_depth=780, criterion=gini, total=   2.2s\n",
      "[CV] n_estimators=1400, min_samples_split=14, min_samples_leaf=2, max_features=auto, max_depth=780, criterion=gini \n",
      "[CV]  n_estimators=1400, min_samples_split=14, min_samples_leaf=2, max_features=auto, max_depth=780, criterion=gini, total=   2.2s\n",
      "[CV] n_estimators=1600, min_samples_split=14, min_samples_leaf=8, max_features=log2, max_depth=230, criterion=entropy \n",
      "[CV]  n_estimators=1600, min_samples_split=14, min_samples_leaf=8, max_features=log2, max_depth=230, criterion=entropy, total=   2.8s\n",
      "[CV] n_estimators=1600, min_samples_split=14, min_samples_leaf=8, max_features=log2, max_depth=230, criterion=entropy \n",
      "[CV]  n_estimators=1600, min_samples_split=14, min_samples_leaf=8, max_features=log2, max_depth=230, criterion=entropy, total=   2.8s\n",
      "[CV] n_estimators=1600, min_samples_split=14, min_samples_leaf=8, max_features=log2, max_depth=230, criterion=entropy \n",
      "[CV]  n_estimators=1600, min_samples_split=14, min_samples_leaf=8, max_features=log2, max_depth=230, criterion=entropy, total=   2.8s\n",
      "[CV] n_estimators=2000, min_samples_split=14, min_samples_leaf=1, max_features=sqrt, max_depth=120, criterion=entropy \n",
      "[CV]  n_estimators=2000, min_samples_split=14, min_samples_leaf=1, max_features=sqrt, max_depth=120, criterion=entropy, total=   3.6s\n",
      "[CV] n_estimators=2000, min_samples_split=14, min_samples_leaf=1, max_features=sqrt, max_depth=120, criterion=entropy \n",
      "[CV]  n_estimators=2000, min_samples_split=14, min_samples_leaf=1, max_features=sqrt, max_depth=120, criterion=entropy, total=   3.6s\n",
      "[CV] n_estimators=2000, min_samples_split=14, min_samples_leaf=1, max_features=sqrt, max_depth=120, criterion=entropy \n",
      "[CV]  n_estimators=2000, min_samples_split=14, min_samples_leaf=1, max_features=sqrt, max_depth=120, criterion=entropy, total=   3.6s\n",
      "[CV] n_estimators=600, min_samples_split=10, min_samples_leaf=8, max_features=auto, max_depth=10, criterion=gini \n",
      "[CV]  n_estimators=600, min_samples_split=10, min_samples_leaf=8, max_features=auto, max_depth=10, criterion=gini, total=   0.9s\n",
      "[CV] n_estimators=600, min_samples_split=10, min_samples_leaf=8, max_features=auto, max_depth=10, criterion=gini \n",
      "[CV]  n_estimators=600, min_samples_split=10, min_samples_leaf=8, max_features=auto, max_depth=10, criterion=gini, total=   0.9s\n",
      "[CV] n_estimators=600, min_samples_split=10, min_samples_leaf=8, max_features=auto, max_depth=10, criterion=gini \n",
      "[CV]  n_estimators=600, min_samples_split=10, min_samples_leaf=8, max_features=auto, max_depth=10, criterion=gini, total=   0.9s\n",
      "[CV] n_estimators=1400, min_samples_split=2, min_samples_leaf=4, max_features=sqrt, max_depth=560, criterion=entropy \n",
      "[CV]  n_estimators=1400, min_samples_split=2, min_samples_leaf=4, max_features=sqrt, max_depth=560, criterion=entropy, total=   2.4s\n",
      "[CV] n_estimators=1400, min_samples_split=2, min_samples_leaf=4, max_features=sqrt, max_depth=560, criterion=entropy \n",
      "[CV]  n_estimators=1400, min_samples_split=2, min_samples_leaf=4, max_features=sqrt, max_depth=560, criterion=entropy, total=   2.5s\n",
      "[CV] n_estimators=1400, min_samples_split=2, min_samples_leaf=4, max_features=sqrt, max_depth=560, criterion=entropy \n",
      "[CV]  n_estimators=1400, min_samples_split=2, min_samples_leaf=4, max_features=sqrt, max_depth=560, criterion=entropy, total=   2.4s\n",
      "[CV] n_estimators=200, min_samples_split=5, min_samples_leaf=4, max_features=log2, max_depth=890, criterion=entropy \n",
      "[CV]  n_estimators=200, min_samples_split=5, min_samples_leaf=4, max_features=log2, max_depth=890, criterion=entropy, total=   0.4s\n",
      "[CV] n_estimators=200, min_samples_split=5, min_samples_leaf=4, max_features=log2, max_depth=890, criterion=entropy \n",
      "[CV]  n_estimators=200, min_samples_split=5, min_samples_leaf=4, max_features=log2, max_depth=890, criterion=entropy, total=   0.4s\n",
      "[CV] n_estimators=200, min_samples_split=5, min_samples_leaf=4, max_features=log2, max_depth=890, criterion=entropy \n",
      "[CV]  n_estimators=200, min_samples_split=5, min_samples_leaf=4, max_features=log2, max_depth=890, criterion=entropy, total=   0.4s\n",
      "[CV] n_estimators=600, min_samples_split=5, min_samples_leaf=4, max_features=sqrt, max_depth=890, criterion=gini \n",
      "[CV]  n_estimators=600, min_samples_split=5, min_samples_leaf=4, max_features=sqrt, max_depth=890, criterion=gini, total=   0.9s\n",
      "[CV] n_estimators=600, min_samples_split=5, min_samples_leaf=4, max_features=sqrt, max_depth=890, criterion=gini \n",
      "[CV]  n_estimators=600, min_samples_split=5, min_samples_leaf=4, max_features=sqrt, max_depth=890, criterion=gini, total=   0.9s\n",
      "[CV] n_estimators=600, min_samples_split=5, min_samples_leaf=4, max_features=sqrt, max_depth=890, criterion=gini \n",
      "[CV]  n_estimators=600, min_samples_split=5, min_samples_leaf=4, max_features=sqrt, max_depth=890, criterion=gini, total=   0.9s\n",
      "[CV] n_estimators=2000, min_samples_split=14, min_samples_leaf=1, max_features=sqrt, max_depth=10, criterion=gini \n",
      "[CV]  n_estimators=2000, min_samples_split=14, min_samples_leaf=1, max_features=sqrt, max_depth=10, criterion=gini, total=   3.1s\n",
      "[CV] n_estimators=2000, min_samples_split=14, min_samples_leaf=1, max_features=sqrt, max_depth=10, criterion=gini \n",
      "[CV]  n_estimators=2000, min_samples_split=14, min_samples_leaf=1, max_features=sqrt, max_depth=10, criterion=gini, total=   3.2s\n",
      "[CV] n_estimators=2000, min_samples_split=14, min_samples_leaf=1, max_features=sqrt, max_depth=10, criterion=gini \n",
      "[CV]  n_estimators=2000, min_samples_split=14, min_samples_leaf=1, max_features=sqrt, max_depth=10, criterion=gini, total=   3.1s\n",
      "[CV] n_estimators=1600, min_samples_split=14, min_samples_leaf=4, max_features=auto, max_depth=340, criterion=gini \n",
      "[CV]  n_estimators=1600, min_samples_split=14, min_samples_leaf=4, max_features=auto, max_depth=340, criterion=gini, total=   2.5s\n",
      "[CV] n_estimators=1600, min_samples_split=14, min_samples_leaf=4, max_features=auto, max_depth=340, criterion=gini \n",
      "[CV]  n_estimators=1600, min_samples_split=14, min_samples_leaf=4, max_features=auto, max_depth=340, criterion=gini, total=   2.5s\n",
      "[CV] n_estimators=1600, min_samples_split=14, min_samples_leaf=4, max_features=auto, max_depth=340, criterion=gini \n",
      "[CV]  n_estimators=1600, min_samples_split=14, min_samples_leaf=4, max_features=auto, max_depth=340, criterion=gini, total=   2.5s\n",
      "[CV] n_estimators=800, min_samples_split=10, min_samples_leaf=4, max_features=auto, max_depth=670, criterion=entropy \n",
      "[CV]  n_estimators=800, min_samples_split=10, min_samples_leaf=4, max_features=auto, max_depth=670, criterion=entropy, total=   1.4s\n",
      "[CV] n_estimators=800, min_samples_split=10, min_samples_leaf=4, max_features=auto, max_depth=670, criterion=entropy \n",
      "[CV]  n_estimators=800, min_samples_split=10, min_samples_leaf=4, max_features=auto, max_depth=670, criterion=entropy, total=   1.4s\n",
      "[CV] n_estimators=800, min_samples_split=10, min_samples_leaf=4, max_features=auto, max_depth=670, criterion=entropy \n",
      "[CV]  n_estimators=800, min_samples_split=10, min_samples_leaf=4, max_features=auto, max_depth=670, criterion=entropy, total=   1.4s\n",
      "[CV] n_estimators=2000, min_samples_split=2, min_samples_leaf=8, max_features=auto, max_depth=340, criterion=gini \n",
      "[CV]  n_estimators=2000, min_samples_split=2, min_samples_leaf=8, max_features=auto, max_depth=340, criterion=gini, total=   3.1s\n",
      "[CV] n_estimators=2000, min_samples_split=2, min_samples_leaf=8, max_features=auto, max_depth=340, criterion=gini \n",
      "[CV]  n_estimators=2000, min_samples_split=2, min_samples_leaf=8, max_features=auto, max_depth=340, criterion=gini, total=   3.1s\n",
      "[CV] n_estimators=2000, min_samples_split=2, min_samples_leaf=8, max_features=auto, max_depth=340, criterion=gini \n",
      "[CV]  n_estimators=2000, min_samples_split=2, min_samples_leaf=8, max_features=auto, max_depth=340, criterion=gini, total=   3.1s\n",
      "[CV] n_estimators=1000, min_samples_split=10, min_samples_leaf=1, max_features=sqrt, max_depth=230, criterion=gini \n",
      "[CV]  n_estimators=1000, min_samples_split=10, min_samples_leaf=1, max_features=sqrt, max_depth=230, criterion=gini, total=   1.6s\n",
      "[CV] n_estimators=1000, min_samples_split=10, min_samples_leaf=1, max_features=sqrt, max_depth=230, criterion=gini \n",
      "[CV]  n_estimators=1000, min_samples_split=10, min_samples_leaf=1, max_features=sqrt, max_depth=230, criterion=gini, total=   1.6s\n",
      "[CV] n_estimators=1000, min_samples_split=10, min_samples_leaf=1, max_features=sqrt, max_depth=230, criterion=gini \n",
      "[CV]  n_estimators=1000, min_samples_split=10, min_samples_leaf=1, max_features=sqrt, max_depth=230, criterion=gini, total=   1.6s\n",
      "[CV] n_estimators=600, min_samples_split=2, min_samples_leaf=1, max_features=sqrt, max_depth=890, criterion=gini \n",
      "[CV]  n_estimators=600, min_samples_split=2, min_samples_leaf=1, max_features=sqrt, max_depth=890, criterion=gini, total=   1.0s\n",
      "[CV] n_estimators=600, min_samples_split=2, min_samples_leaf=1, max_features=sqrt, max_depth=890, criterion=gini \n",
      "[CV]  n_estimators=600, min_samples_split=2, min_samples_leaf=1, max_features=sqrt, max_depth=890, criterion=gini, total=   1.0s\n",
      "[CV] n_estimators=600, min_samples_split=2, min_samples_leaf=1, max_features=sqrt, max_depth=890, criterion=gini \n",
      "[CV]  n_estimators=600, min_samples_split=2, min_samples_leaf=1, max_features=sqrt, max_depth=890, criterion=gini, total=   1.0s\n",
      "[CV] n_estimators=400, min_samples_split=14, min_samples_leaf=4, max_features=sqrt, max_depth=670, criterion=gini \n",
      "[CV]  n_estimators=400, min_samples_split=14, min_samples_leaf=4, max_features=sqrt, max_depth=670, criterion=gini, total=   0.6s\n",
      "[CV] n_estimators=400, min_samples_split=14, min_samples_leaf=4, max_features=sqrt, max_depth=670, criterion=gini \n",
      "[CV]  n_estimators=400, min_samples_split=14, min_samples_leaf=4, max_features=sqrt, max_depth=670, criterion=gini, total=   0.6s\n",
      "[CV] n_estimators=400, min_samples_split=14, min_samples_leaf=4, max_features=sqrt, max_depth=670, criterion=gini \n",
      "[CV]  n_estimators=400, min_samples_split=14, min_samples_leaf=4, max_features=sqrt, max_depth=670, criterion=gini, total=   0.6s\n",
      "[CV] n_estimators=1800, min_samples_split=5, min_samples_leaf=1, max_features=auto, max_depth=450, criterion=gini \n",
      "[CV]  n_estimators=1800, min_samples_split=5, min_samples_leaf=1, max_features=auto, max_depth=450, criterion=gini, total=   2.9s\n",
      "[CV] n_estimators=1800, min_samples_split=5, min_samples_leaf=1, max_features=auto, max_depth=450, criterion=gini \n",
      "[CV]  n_estimators=1800, min_samples_split=5, min_samples_leaf=1, max_features=auto, max_depth=450, criterion=gini, total=   2.9s\n",
      "[CV] n_estimators=1800, min_samples_split=5, min_samples_leaf=1, max_features=auto, max_depth=450, criterion=gini \n",
      "[CV]  n_estimators=1800, min_samples_split=5, min_samples_leaf=1, max_features=auto, max_depth=450, criterion=gini, total=   3.0s\n",
      "[CV] n_estimators=1600, min_samples_split=10, min_samples_leaf=4, max_features=auto, max_depth=560, criterion=gini \n",
      "[CV]  n_estimators=1600, min_samples_split=10, min_samples_leaf=4, max_features=auto, max_depth=560, criterion=gini, total=   2.5s\n",
      "[CV] n_estimators=1600, min_samples_split=10, min_samples_leaf=4, max_features=auto, max_depth=560, criterion=gini \n",
      "[CV]  n_estimators=1600, min_samples_split=10, min_samples_leaf=4, max_features=auto, max_depth=560, criterion=gini, total=   2.5s\n",
      "[CV] n_estimators=1600, min_samples_split=10, min_samples_leaf=4, max_features=auto, max_depth=560, criterion=gini \n",
      "[CV]  n_estimators=1600, min_samples_split=10, min_samples_leaf=4, max_features=auto, max_depth=560, criterion=gini, total=   2.5s\n",
      "[CV] n_estimators=1600, min_samples_split=14, min_samples_leaf=1, max_features=log2, max_depth=670, criterion=gini \n",
      "[CV]  n_estimators=1600, min_samples_split=14, min_samples_leaf=1, max_features=log2, max_depth=670, criterion=gini, total=   2.7s\n",
      "[CV] n_estimators=1600, min_samples_split=14, min_samples_leaf=1, max_features=log2, max_depth=670, criterion=gini \n",
      "[CV]  n_estimators=1600, min_samples_split=14, min_samples_leaf=1, max_features=log2, max_depth=670, criterion=gini, total=   2.7s\n",
      "[CV] n_estimators=1600, min_samples_split=14, min_samples_leaf=1, max_features=log2, max_depth=670, criterion=gini \n",
      "[CV]  n_estimators=1600, min_samples_split=14, min_samples_leaf=1, max_features=log2, max_depth=670, criterion=gini, total=   2.7s\n",
      "[CV] n_estimators=1000, min_samples_split=14, min_samples_leaf=4, max_features=auto, max_depth=890, criterion=entropy \n",
      "[CV]  n_estimators=1000, min_samples_split=14, min_samples_leaf=4, max_features=auto, max_depth=890, criterion=entropy, total=   1.7s\n",
      "[CV] n_estimators=1000, min_samples_split=14, min_samples_leaf=4, max_features=auto, max_depth=890, criterion=entropy \n",
      "[CV]  n_estimators=1000, min_samples_split=14, min_samples_leaf=4, max_features=auto, max_depth=890, criterion=entropy, total=   1.7s\n",
      "[CV] n_estimators=1000, min_samples_split=14, min_samples_leaf=4, max_features=auto, max_depth=890, criterion=entropy \n",
      "[CV]  n_estimators=1000, min_samples_split=14, min_samples_leaf=4, max_features=auto, max_depth=890, criterion=entropy, total=   1.7s\n"
     ]
    },
    {
     "name": "stderr",
     "output_type": "stream",
     "text": [
      "[Parallel(n_jobs=1)]: Done 300 out of 300 | elapsed:  9.6min finished\n"
     ]
    },
    {
     "data": {
      "text/plain": [
       "RandomizedSearchCV(cv=3, error_score=nan,\n",
       "                   estimator=RandomForestClassifier(bootstrap=True,\n",
       "                                                    ccp_alpha=0.0,\n",
       "                                                    class_weight=None,\n",
       "                                                    criterion='gini',\n",
       "                                                    max_depth=None,\n",
       "                                                    max_features='auto',\n",
       "                                                    max_leaf_nodes=None,\n",
       "                                                    max_samples=None,\n",
       "                                                    min_impurity_decrease=0.0,\n",
       "                                                    min_impurity_split=None,\n",
       "                                                    min_samples_leaf=1,\n",
       "                                                    min_samples_split=2,\n",
       "                                                    min_weight_fraction_leaf=0.0,\n",
       "                                                    n_estimators=100,\n",
       "                                                    n_jobs...\n",
       "                   param_distributions={'criterion': ['entropy', 'gini'],\n",
       "                                        'max_depth': [10, 120, 230, 340, 450,\n",
       "                                                      560, 670, 780, 890,\n",
       "                                                      1000],\n",
       "                                        'max_features': ['auto', 'sqrt',\n",
       "                                                         'log2'],\n",
       "                                        'min_samples_leaf': [1, 2, 4, 6, 8],\n",
       "                                        'min_samples_split': [2, 5, 10, 14],\n",
       "                                        'n_estimators': [200, 400, 600, 800,\n",
       "                                                         1000, 1200, 1400, 1600,\n",
       "                                                         1800, 2000]},\n",
       "                   pre_dispatch='2*n_jobs', random_state=100, refit=True,\n",
       "                   return_train_score=False, scoring=None, verbose=2)"
      ]
     },
     "execution_count": 13,
     "metadata": {
      "tags": []
     },
     "output_type": "execute_result"
    }
   ],
   "source": [
    "rf=RandomForestClassifier()\n",
    "rf_randomcv=RandomizedSearchCV(estimator=rf,param_distributions=random_grid,n_iter=100,cv=3,verbose=2,\n",
    "                               random_state=100,n_jobs=1)\n",
    "### fit the randomized model\n",
    "rf_randomcv.fit(X_train,y_train)"
   ]
  },
  {
   "cell_type": "code",
   "execution_count": 14,
   "metadata": {
    "colab": {
     "base_uri": "https://localhost:8080/",
     "height": 119
    },
    "colab_type": "code",
    "id": "eloUfav_RnMt",
    "outputId": "e5ff8bdc-4cfa-47ca-e8ab-919b31a4c296"
   },
   "outputs": [
    {
     "data": {
      "text/plain": [
       "{'criterion': 'gini',\n",
       " 'max_depth': 230,\n",
       " 'max_features': 'sqrt',\n",
       " 'min_samples_leaf': 1,\n",
       " 'min_samples_split': 2,\n",
       " 'n_estimators': 1400}"
      ]
     },
     "execution_count": 14,
     "metadata": {
      "tags": []
     },
     "output_type": "execute_result"
    }
   ],
   "source": [
    "rf_randomcv.best_params_"
   ]
  },
  {
   "cell_type": "code",
   "execution_count": 15,
   "metadata": {
    "colab": {
     "base_uri": "https://localhost:8080/",
     "height": 510
    },
    "colab_type": "code",
    "id": "JdwDvW6fRnM8",
    "outputId": "0f827148-8c36-4d7f-d175-1409307ab85a"
   },
   "outputs": [
    {
     "data": {
      "text/plain": [
       "RandomizedSearchCV(cv=3, error_score=nan,\n",
       "                   estimator=RandomForestClassifier(bootstrap=True,\n",
       "                                                    ccp_alpha=0.0,\n",
       "                                                    class_weight=None,\n",
       "                                                    criterion='gini',\n",
       "                                                    max_depth=None,\n",
       "                                                    max_features='auto',\n",
       "                                                    max_leaf_nodes=None,\n",
       "                                                    max_samples=None,\n",
       "                                                    min_impurity_decrease=0.0,\n",
       "                                                    min_impurity_split=None,\n",
       "                                                    min_samples_leaf=1,\n",
       "                                                    min_samples_split=2,\n",
       "                                                    min_weight_fraction_leaf=0.0,\n",
       "                                                    n_estimators=100,\n",
       "                                                    n_jobs...\n",
       "                   param_distributions={'criterion': ['entropy', 'gini'],\n",
       "                                        'max_depth': [10, 120, 230, 340, 450,\n",
       "                                                      560, 670, 780, 890,\n",
       "                                                      1000],\n",
       "                                        'max_features': ['auto', 'sqrt',\n",
       "                                                         'log2'],\n",
       "                                        'min_samples_leaf': [1, 2, 4, 6, 8],\n",
       "                                        'min_samples_split': [2, 5, 10, 14],\n",
       "                                        'n_estimators': [200, 400, 600, 800,\n",
       "                                                         1000, 1200, 1400, 1600,\n",
       "                                                         1800, 2000]},\n",
       "                   pre_dispatch='2*n_jobs', random_state=100, refit=True,\n",
       "                   return_train_score=False, scoring=None, verbose=2)"
      ]
     },
     "execution_count": 15,
     "metadata": {
      "tags": []
     },
     "output_type": "execute_result"
    }
   ],
   "source": [
    "rf_randomcv"
   ]
  },
  {
   "cell_type": "code",
   "execution_count": 16,
   "metadata": {
    "colab": {},
    "colab_type": "code",
    "id": "85UfAU_cRnNL"
   },
   "outputs": [],
   "source": [
    "best_random_grid=rf_randomcv.best_estimator_"
   ]
  },
  {
   "cell_type": "code",
   "execution_count": 17,
   "metadata": {
    "colab": {
     "base_uri": "https://localhost:8080/",
     "height": 221
    },
    "colab_type": "code",
    "id": "ENBZ0Hx8RnNg",
    "outputId": "491597f3-a7d9-4ca7-8f12-ee6633377374"
   },
   "outputs": [
    {
     "name": "stdout",
     "output_type": "stream",
     "text": [
      "[[95 12]\n",
      " [15 32]]\n",
      "Accuracy Score 0.8246753246753247\n",
      "Classification report:               precision    recall  f1-score   support\n",
      "\n",
      "           0       0.86      0.89      0.88       107\n",
      "           1       0.73      0.68      0.70        47\n",
      "\n",
      "    accuracy                           0.82       154\n",
      "   macro avg       0.80      0.78      0.79       154\n",
      "weighted avg       0.82      0.82      0.82       154\n",
      "\n"
     ]
    }
   ],
   "source": [
    "from sklearn.metrics import accuracy_score\n",
    "y_pred=best_random_grid.predict(X_test)\n",
    "print(confusion_matrix(y_test,y_pred))\n",
    "print(\"Accuracy Score {}\".format(accuracy_score(y_test,y_pred)))\n",
    "print(\"Classification report: {}\".format(classification_report(y_test,y_pred)))"
   ]
  },
  {
   "cell_type": "markdown",
   "metadata": {
    "colab_type": "text",
    "id": "Cf-OzQBnRnNu"
   },
   "source": [
    "## 2.GridSearch CV"
   ]
  },
  {
   "cell_type": "code",
   "execution_count": 18,
   "metadata": {
    "colab": {
     "base_uri": "https://localhost:8080/",
     "height": 119
    },
    "colab_type": "code",
    "id": "EOvp9LFSRnNx",
    "outputId": "a213274a-25c1-4a8c-b8f2-bb70a77b15f4"
   },
   "outputs": [
    {
     "data": {
      "text/plain": [
       "{'criterion': 'gini',\n",
       " 'max_depth': 230,\n",
       " 'max_features': 'sqrt',\n",
       " 'min_samples_leaf': 1,\n",
       " 'min_samples_split': 2,\n",
       " 'n_estimators': 1400}"
      ]
     },
     "execution_count": 18,
     "metadata": {
      "tags": []
     },
     "output_type": "execute_result"
    }
   ],
   "source": [
    "rf_randomcv.best_params_"
   ]
  },
  {
   "cell_type": "code",
   "execution_count": 19,
   "metadata": {
    "colab": {
     "base_uri": "https://localhost:8080/",
     "height": 54
    },
    "colab_type": "code",
    "id": "Q8GC26TlRnOD",
    "outputId": "6979fc7c-01d8-4ec1-fcb6-ce8a65802172"
   },
   "outputs": [
    {
     "name": "stdout",
     "output_type": "stream",
     "text": [
      "{'criterion': ['gini'], 'max_depth': [230], 'max_features': ['sqrt'], 'min_samples_leaf': [1, 3, 5], 'min_samples_split': [0, 1, 2, 3, 4], 'n_estimators': [1200, 1300, 1400, 1500, 1600]}\n"
     ]
    }
   ],
   "source": [
    "from sklearn.model_selection import GridSearchCV\n",
    "\n",
    "param_grid = {\n",
    "    'criterion': [rf_randomcv.best_params_['criterion']],\n",
    "    'max_depth': [rf_randomcv.best_params_['max_depth']],\n",
    "    'max_features': [rf_randomcv.best_params_['max_features']],\n",
    "    'min_samples_leaf': [rf_randomcv.best_params_['min_samples_leaf'], \n",
    "                         rf_randomcv.best_params_['min_samples_leaf']+2, \n",
    "                         rf_randomcv.best_params_['min_samples_leaf'] + 4],\n",
    "    'min_samples_split': [rf_randomcv.best_params_['min_samples_split'] - 2,\n",
    "                          rf_randomcv.best_params_['min_samples_split'] - 1,\n",
    "                          rf_randomcv.best_params_['min_samples_split'], \n",
    "                          rf_randomcv.best_params_['min_samples_split'] +1,\n",
    "                          rf_randomcv.best_params_['min_samples_split'] + 2],\n",
    "    'n_estimators': [rf_randomcv.best_params_['n_estimators'] - 200, rf_randomcv.best_params_['n_estimators'] - 100, \n",
    "                     rf_randomcv.best_params_['n_estimators'], \n",
    "                     rf_randomcv.best_params_['n_estimators'] + 100, rf_randomcv.best_params_['n_estimators'] + 200]\n",
    "}\n",
    "\n",
    "print(param_grid)"
   ]
  },
  {
   "cell_type": "code",
   "execution_count": 22,
   "metadata": {
    "colab": {
     "base_uri": "https://localhost:8080/",
     "height": 1000
    },
    "colab_type": "code",
    "id": "tZad9UqbRnOR",
    "outputId": "075ab6c2-d8d2-4ffb-c6c3-0a8c9e8a92e8"
   },
   "outputs": [
    {
     "name": "stdout",
     "output_type": "stream",
     "text": [
      "Fitting 2 folds for each of 75 candidates, totalling 150 fits\n",
      "[CV] criterion=gini, max_depth=230, max_features=sqrt, min_samples_leaf=1, min_samples_split=0, n_estimators=1200 \n"
     ]
    },
    {
     "name": "stderr",
     "output_type": "stream",
     "text": [
      "[Parallel(n_jobs=1)]: Using backend SequentialBackend with 1 concurrent workers.\n"
     ]
    },
    {
     "name": "stdout",
     "output_type": "stream",
     "text": [
      "[CV]  criterion=gini, max_depth=230, max_features=sqrt, min_samples_leaf=1, min_samples_split=0, n_estimators=1200, total=   0.5s\n",
      "[CV] criterion=gini, max_depth=230, max_features=sqrt, min_samples_leaf=1, min_samples_split=0, n_estimators=1200 \n"
     ]
    },
    {
     "name": "stderr",
     "output_type": "stream",
     "text": [
      "[Parallel(n_jobs=1)]: Done   1 out of   1 | elapsed:    0.5s remaining:    0.0s\n"
     ]
    },
    {
     "name": "stdout",
     "output_type": "stream",
     "text": [
      "[CV]  criterion=gini, max_depth=230, max_features=sqrt, min_samples_leaf=1, min_samples_split=0, n_estimators=1200, total=   0.4s\n",
      "[CV] criterion=gini, max_depth=230, max_features=sqrt, min_samples_leaf=1, min_samples_split=0, n_estimators=1300 \n",
      "[CV]  criterion=gini, max_depth=230, max_features=sqrt, min_samples_leaf=1, min_samples_split=0, n_estimators=1300, total=   0.5s\n",
      "[CV] criterion=gini, max_depth=230, max_features=sqrt, min_samples_leaf=1, min_samples_split=0, n_estimators=1300 \n",
      "[CV]  criterion=gini, max_depth=230, max_features=sqrt, min_samples_leaf=1, min_samples_split=0, n_estimators=1300, total=   0.5s\n",
      "[CV] criterion=gini, max_depth=230, max_features=sqrt, min_samples_leaf=1, min_samples_split=0, n_estimators=1400 \n",
      "[CV]  criterion=gini, max_depth=230, max_features=sqrt, min_samples_leaf=1, min_samples_split=0, n_estimators=1400, total=   0.5s\n",
      "[CV] criterion=gini, max_depth=230, max_features=sqrt, min_samples_leaf=1, min_samples_split=0, n_estimators=1400 \n",
      "[CV]  criterion=gini, max_depth=230, max_features=sqrt, min_samples_leaf=1, min_samples_split=0, n_estimators=1400, total=   0.5s\n",
      "[CV] criterion=gini, max_depth=230, max_features=sqrt, min_samples_leaf=1, min_samples_split=0, n_estimators=1500 \n",
      "[CV]  criterion=gini, max_depth=230, max_features=sqrt, min_samples_leaf=1, min_samples_split=0, n_estimators=1500, total=   0.5s\n",
      "[CV] criterion=gini, max_depth=230, max_features=sqrt, min_samples_leaf=1, min_samples_split=0, n_estimators=1500 \n",
      "[CV]  criterion=gini, max_depth=230, max_features=sqrt, min_samples_leaf=1, min_samples_split=0, n_estimators=1500, total=   0.5s\n",
      "[CV] criterion=gini, max_depth=230, max_features=sqrt, min_samples_leaf=1, min_samples_split=0, n_estimators=1600 \n",
      "[CV]  criterion=gini, max_depth=230, max_features=sqrt, min_samples_leaf=1, min_samples_split=0, n_estimators=1600, total=   0.6s\n",
      "[CV] criterion=gini, max_depth=230, max_features=sqrt, min_samples_leaf=1, min_samples_split=0, n_estimators=1600 \n",
      "[CV]  criterion=gini, max_depth=230, max_features=sqrt, min_samples_leaf=1, min_samples_split=0, n_estimators=1600, total=   0.6s\n",
      "[CV] criterion=gini, max_depth=230, max_features=sqrt, min_samples_leaf=1, min_samples_split=1, n_estimators=1200 \n",
      "[CV]  criterion=gini, max_depth=230, max_features=sqrt, min_samples_leaf=1, min_samples_split=1, n_estimators=1200, total=   0.4s\n",
      "[CV] criterion=gini, max_depth=230, max_features=sqrt, min_samples_leaf=1, min_samples_split=1, n_estimators=1200 \n",
      "[CV]  criterion=gini, max_depth=230, max_features=sqrt, min_samples_leaf=1, min_samples_split=1, n_estimators=1200, total=   0.4s\n",
      "[CV] criterion=gini, max_depth=230, max_features=sqrt, min_samples_leaf=1, min_samples_split=1, n_estimators=1300 \n",
      "[CV]  criterion=gini, max_depth=230, max_features=sqrt, min_samples_leaf=1, min_samples_split=1, n_estimators=1300, total=   0.5s\n",
      "[CV] criterion=gini, max_depth=230, max_features=sqrt, min_samples_leaf=1, min_samples_split=1, n_estimators=1300 \n",
      "[CV]  criterion=gini, max_depth=230, max_features=sqrt, min_samples_leaf=1, min_samples_split=1, n_estimators=1300, total=   0.5s\n",
      "[CV] criterion=gini, max_depth=230, max_features=sqrt, min_samples_leaf=1, min_samples_split=1, n_estimators=1400 \n",
      "[CV]  criterion=gini, max_depth=230, max_features=sqrt, min_samples_leaf=1, min_samples_split=1, n_estimators=1400, total=   0.5s\n",
      "[CV] criterion=gini, max_depth=230, max_features=sqrt, min_samples_leaf=1, min_samples_split=1, n_estimators=1400 \n",
      "[CV]  criterion=gini, max_depth=230, max_features=sqrt, min_samples_leaf=1, min_samples_split=1, n_estimators=1400, total=   0.5s\n",
      "[CV] criterion=gini, max_depth=230, max_features=sqrt, min_samples_leaf=1, min_samples_split=1, n_estimators=1500 \n",
      "[CV]  criterion=gini, max_depth=230, max_features=sqrt, min_samples_leaf=1, min_samples_split=1, n_estimators=1500, total=   0.5s\n",
      "[CV] criterion=gini, max_depth=230, max_features=sqrt, min_samples_leaf=1, min_samples_split=1, n_estimators=1500 \n",
      "[CV]  criterion=gini, max_depth=230, max_features=sqrt, min_samples_leaf=1, min_samples_split=1, n_estimators=1500, total=   0.5s\n",
      "[CV] criterion=gini, max_depth=230, max_features=sqrt, min_samples_leaf=1, min_samples_split=1, n_estimators=1600 \n",
      "[CV]  criterion=gini, max_depth=230, max_features=sqrt, min_samples_leaf=1, min_samples_split=1, n_estimators=1600, total=   0.6s\n",
      "[CV] criterion=gini, max_depth=230, max_features=sqrt, min_samples_leaf=1, min_samples_split=1, n_estimators=1600 \n",
      "[CV]  criterion=gini, max_depth=230, max_features=sqrt, min_samples_leaf=1, min_samples_split=1, n_estimators=1600, total=   0.6s\n",
      "[CV] criterion=gini, max_depth=230, max_features=sqrt, min_samples_leaf=1, min_samples_split=2, n_estimators=1200 \n",
      "[CV]  criterion=gini, max_depth=230, max_features=sqrt, min_samples_leaf=1, min_samples_split=2, n_estimators=1200, total=   1.9s\n",
      "[CV] criterion=gini, max_depth=230, max_features=sqrt, min_samples_leaf=1, min_samples_split=2, n_estimators=1200 \n",
      "[CV]  criterion=gini, max_depth=230, max_features=sqrt, min_samples_leaf=1, min_samples_split=2, n_estimators=1200, total=   1.9s\n",
      "[CV] criterion=gini, max_depth=230, max_features=sqrt, min_samples_leaf=1, min_samples_split=2, n_estimators=1300 \n",
      "[CV]  criterion=gini, max_depth=230, max_features=sqrt, min_samples_leaf=1, min_samples_split=2, n_estimators=1300, total=   2.0s\n",
      "[CV] criterion=gini, max_depth=230, max_features=sqrt, min_samples_leaf=1, min_samples_split=2, n_estimators=1300 \n",
      "[CV]  criterion=gini, max_depth=230, max_features=sqrt, min_samples_leaf=1, min_samples_split=2, n_estimators=1300, total=   2.0s\n",
      "[CV] criterion=gini, max_depth=230, max_features=sqrt, min_samples_leaf=1, min_samples_split=2, n_estimators=1400 \n",
      "[CV]  criterion=gini, max_depth=230, max_features=sqrt, min_samples_leaf=1, min_samples_split=2, n_estimators=1400, total=   2.2s\n",
      "[CV] criterion=gini, max_depth=230, max_features=sqrt, min_samples_leaf=1, min_samples_split=2, n_estimators=1400 \n",
      "[CV]  criterion=gini, max_depth=230, max_features=sqrt, min_samples_leaf=1, min_samples_split=2, n_estimators=1400, total=   2.1s\n",
      "[CV] criterion=gini, max_depth=230, max_features=sqrt, min_samples_leaf=1, min_samples_split=2, n_estimators=1500 \n",
      "[CV]  criterion=gini, max_depth=230, max_features=sqrt, min_samples_leaf=1, min_samples_split=2, n_estimators=1500, total=   2.4s\n",
      "[CV] criterion=gini, max_depth=230, max_features=sqrt, min_samples_leaf=1, min_samples_split=2, n_estimators=1500 \n",
      "[CV]  criterion=gini, max_depth=230, max_features=sqrt, min_samples_leaf=1, min_samples_split=2, n_estimators=1500, total=   2.3s\n",
      "[CV] criterion=gini, max_depth=230, max_features=sqrt, min_samples_leaf=1, min_samples_split=2, n_estimators=1600 \n",
      "[CV]  criterion=gini, max_depth=230, max_features=sqrt, min_samples_leaf=1, min_samples_split=2, n_estimators=1600, total=   2.5s\n",
      "[CV] criterion=gini, max_depth=230, max_features=sqrt, min_samples_leaf=1, min_samples_split=2, n_estimators=1600 \n",
      "[CV]  criterion=gini, max_depth=230, max_features=sqrt, min_samples_leaf=1, min_samples_split=2, n_estimators=1600, total=   2.5s\n",
      "[CV] criterion=gini, max_depth=230, max_features=sqrt, min_samples_leaf=1, min_samples_split=3, n_estimators=1200 \n",
      "[CV]  criterion=gini, max_depth=230, max_features=sqrt, min_samples_leaf=1, min_samples_split=3, n_estimators=1200, total=   1.9s\n",
      "[CV] criterion=gini, max_depth=230, max_features=sqrt, min_samples_leaf=1, min_samples_split=3, n_estimators=1200 \n",
      "[CV]  criterion=gini, max_depth=230, max_features=sqrt, min_samples_leaf=1, min_samples_split=3, n_estimators=1200, total=   1.9s\n",
      "[CV] criterion=gini, max_depth=230, max_features=sqrt, min_samples_leaf=1, min_samples_split=3, n_estimators=1300 \n",
      "[CV]  criterion=gini, max_depth=230, max_features=sqrt, min_samples_leaf=1, min_samples_split=3, n_estimators=1300, total=   2.0s\n",
      "[CV] criterion=gini, max_depth=230, max_features=sqrt, min_samples_leaf=1, min_samples_split=3, n_estimators=1300 \n",
      "[CV]  criterion=gini, max_depth=230, max_features=sqrt, min_samples_leaf=1, min_samples_split=3, n_estimators=1300, total=   2.0s\n",
      "[CV] criterion=gini, max_depth=230, max_features=sqrt, min_samples_leaf=1, min_samples_split=3, n_estimators=1400 \n",
      "[CV]  criterion=gini, max_depth=230, max_features=sqrt, min_samples_leaf=1, min_samples_split=3, n_estimators=1400, total=   2.2s\n",
      "[CV] criterion=gini, max_depth=230, max_features=sqrt, min_samples_leaf=1, min_samples_split=3, n_estimators=1400 \n",
      "[CV]  criterion=gini, max_depth=230, max_features=sqrt, min_samples_leaf=1, min_samples_split=3, n_estimators=1400, total=   2.2s\n",
      "[CV] criterion=gini, max_depth=230, max_features=sqrt, min_samples_leaf=1, min_samples_split=3, n_estimators=1500 \n",
      "[CV]  criterion=gini, max_depth=230, max_features=sqrt, min_samples_leaf=1, min_samples_split=3, n_estimators=1500, total=   2.3s\n",
      "[CV] criterion=gini, max_depth=230, max_features=sqrt, min_samples_leaf=1, min_samples_split=3, n_estimators=1500 \n",
      "[CV]  criterion=gini, max_depth=230, max_features=sqrt, min_samples_leaf=1, min_samples_split=3, n_estimators=1500, total=   2.3s\n",
      "[CV] criterion=gini, max_depth=230, max_features=sqrt, min_samples_leaf=1, min_samples_split=3, n_estimators=1600 \n",
      "[CV]  criterion=gini, max_depth=230, max_features=sqrt, min_samples_leaf=1, min_samples_split=3, n_estimators=1600, total=   2.5s\n",
      "[CV] criterion=gini, max_depth=230, max_features=sqrt, min_samples_leaf=1, min_samples_split=3, n_estimators=1600 \n",
      "[CV]  criterion=gini, max_depth=230, max_features=sqrt, min_samples_leaf=1, min_samples_split=3, n_estimators=1600, total=   2.5s\n",
      "[CV] criterion=gini, max_depth=230, max_features=sqrt, min_samples_leaf=1, min_samples_split=4, n_estimators=1200 \n",
      "[CV]  criterion=gini, max_depth=230, max_features=sqrt, min_samples_leaf=1, min_samples_split=4, n_estimators=1200, total=   1.9s\n",
      "[CV] criterion=gini, max_depth=230, max_features=sqrt, min_samples_leaf=1, min_samples_split=4, n_estimators=1200 \n",
      "[CV]  criterion=gini, max_depth=230, max_features=sqrt, min_samples_leaf=1, min_samples_split=4, n_estimators=1200, total=   1.9s\n",
      "[CV] criterion=gini, max_depth=230, max_features=sqrt, min_samples_leaf=1, min_samples_split=4, n_estimators=1300 \n",
      "[CV]  criterion=gini, max_depth=230, max_features=sqrt, min_samples_leaf=1, min_samples_split=4, n_estimators=1300, total=   2.0s\n",
      "[CV] criterion=gini, max_depth=230, max_features=sqrt, min_samples_leaf=1, min_samples_split=4, n_estimators=1300 \n",
      "[CV]  criterion=gini, max_depth=230, max_features=sqrt, min_samples_leaf=1, min_samples_split=4, n_estimators=1300, total=   2.1s\n",
      "[CV] criterion=gini, max_depth=230, max_features=sqrt, min_samples_leaf=1, min_samples_split=4, n_estimators=1400 \n",
      "[CV]  criterion=gini, max_depth=230, max_features=sqrt, min_samples_leaf=1, min_samples_split=4, n_estimators=1400, total=   2.2s\n",
      "[CV] criterion=gini, max_depth=230, max_features=sqrt, min_samples_leaf=1, min_samples_split=4, n_estimators=1400 \n",
      "[CV]  criterion=gini, max_depth=230, max_features=sqrt, min_samples_leaf=1, min_samples_split=4, n_estimators=1400, total=   2.2s\n",
      "[CV] criterion=gini, max_depth=230, max_features=sqrt, min_samples_leaf=1, min_samples_split=4, n_estimators=1500 \n",
      "[CV]  criterion=gini, max_depth=230, max_features=sqrt, min_samples_leaf=1, min_samples_split=4, n_estimators=1500, total=   2.3s\n",
      "[CV] criterion=gini, max_depth=230, max_features=sqrt, min_samples_leaf=1, min_samples_split=4, n_estimators=1500 \n",
      "[CV]  criterion=gini, max_depth=230, max_features=sqrt, min_samples_leaf=1, min_samples_split=4, n_estimators=1500, total=   2.3s\n",
      "[CV] criterion=gini, max_depth=230, max_features=sqrt, min_samples_leaf=1, min_samples_split=4, n_estimators=1600 \n",
      "[CV]  criterion=gini, max_depth=230, max_features=sqrt, min_samples_leaf=1, min_samples_split=4, n_estimators=1600, total=   2.5s\n",
      "[CV] criterion=gini, max_depth=230, max_features=sqrt, min_samples_leaf=1, min_samples_split=4, n_estimators=1600 \n",
      "[CV]  criterion=gini, max_depth=230, max_features=sqrt, min_samples_leaf=1, min_samples_split=4, n_estimators=1600, total=   2.5s\n",
      "[CV] criterion=gini, max_depth=230, max_features=sqrt, min_samples_leaf=3, min_samples_split=0, n_estimators=1200 \n",
      "[CV]  criterion=gini, max_depth=230, max_features=sqrt, min_samples_leaf=3, min_samples_split=0, n_estimators=1200, total=   0.4s\n",
      "[CV] criterion=gini, max_depth=230, max_features=sqrt, min_samples_leaf=3, min_samples_split=0, n_estimators=1200 \n",
      "[CV]  criterion=gini, max_depth=230, max_features=sqrt, min_samples_leaf=3, min_samples_split=0, n_estimators=1200, total=   0.4s\n",
      "[CV] criterion=gini, max_depth=230, max_features=sqrt, min_samples_leaf=3, min_samples_split=0, n_estimators=1300 \n",
      "[CV]  criterion=gini, max_depth=230, max_features=sqrt, min_samples_leaf=3, min_samples_split=0, n_estimators=1300, total=   0.5s\n",
      "[CV] criterion=gini, max_depth=230, max_features=sqrt, min_samples_leaf=3, min_samples_split=0, n_estimators=1300 \n",
      "[CV]  criterion=gini, max_depth=230, max_features=sqrt, min_samples_leaf=3, min_samples_split=0, n_estimators=1300, total=   0.5s\n",
      "[CV] criterion=gini, max_depth=230, max_features=sqrt, min_samples_leaf=3, min_samples_split=0, n_estimators=1400 \n",
      "[CV]  criterion=gini, max_depth=230, max_features=sqrt, min_samples_leaf=3, min_samples_split=0, n_estimators=1400, total=   0.5s\n",
      "[CV] criterion=gini, max_depth=230, max_features=sqrt, min_samples_leaf=3, min_samples_split=0, n_estimators=1400 \n",
      "[CV]  criterion=gini, max_depth=230, max_features=sqrt, min_samples_leaf=3, min_samples_split=0, n_estimators=1400, total=   0.5s\n",
      "[CV] criterion=gini, max_depth=230, max_features=sqrt, min_samples_leaf=3, min_samples_split=0, n_estimators=1500 \n",
      "[CV]  criterion=gini, max_depth=230, max_features=sqrt, min_samples_leaf=3, min_samples_split=0, n_estimators=1500, total=   0.5s\n",
      "[CV] criterion=gini, max_depth=230, max_features=sqrt, min_samples_leaf=3, min_samples_split=0, n_estimators=1500 \n",
      "[CV]  criterion=gini, max_depth=230, max_features=sqrt, min_samples_leaf=3, min_samples_split=0, n_estimators=1500, total=   0.5s\n",
      "[CV] criterion=gini, max_depth=230, max_features=sqrt, min_samples_leaf=3, min_samples_split=0, n_estimators=1600 \n",
      "[CV]  criterion=gini, max_depth=230, max_features=sqrt, min_samples_leaf=3, min_samples_split=0, n_estimators=1600, total=   0.6s\n",
      "[CV] criterion=gini, max_depth=230, max_features=sqrt, min_samples_leaf=3, min_samples_split=0, n_estimators=1600 \n",
      "[CV]  criterion=gini, max_depth=230, max_features=sqrt, min_samples_leaf=3, min_samples_split=0, n_estimators=1600, total=   0.6s\n",
      "[CV] criterion=gini, max_depth=230, max_features=sqrt, min_samples_leaf=3, min_samples_split=1, n_estimators=1200 \n",
      "[CV]  criterion=gini, max_depth=230, max_features=sqrt, min_samples_leaf=3, min_samples_split=1, n_estimators=1200, total=   0.4s\n",
      "[CV] criterion=gini, max_depth=230, max_features=sqrt, min_samples_leaf=3, min_samples_split=1, n_estimators=1200 \n",
      "[CV]  criterion=gini, max_depth=230, max_features=sqrt, min_samples_leaf=3, min_samples_split=1, n_estimators=1200, total=   0.4s\n",
      "[CV] criterion=gini, max_depth=230, max_features=sqrt, min_samples_leaf=3, min_samples_split=1, n_estimators=1300 \n",
      "[CV]  criterion=gini, max_depth=230, max_features=sqrt, min_samples_leaf=3, min_samples_split=1, n_estimators=1300, total=   0.5s\n",
      "[CV] criterion=gini, max_depth=230, max_features=sqrt, min_samples_leaf=3, min_samples_split=1, n_estimators=1300 \n",
      "[CV]  criterion=gini, max_depth=230, max_features=sqrt, min_samples_leaf=3, min_samples_split=1, n_estimators=1300, total=   0.5s\n",
      "[CV] criterion=gini, max_depth=230, max_features=sqrt, min_samples_leaf=3, min_samples_split=1, n_estimators=1400 \n",
      "[CV]  criterion=gini, max_depth=230, max_features=sqrt, min_samples_leaf=3, min_samples_split=1, n_estimators=1400, total=   0.5s\n",
      "[CV] criterion=gini, max_depth=230, max_features=sqrt, min_samples_leaf=3, min_samples_split=1, n_estimators=1400 \n",
      "[CV]  criterion=gini, max_depth=230, max_features=sqrt, min_samples_leaf=3, min_samples_split=1, n_estimators=1400, total=   0.5s\n",
      "[CV] criterion=gini, max_depth=230, max_features=sqrt, min_samples_leaf=3, min_samples_split=1, n_estimators=1500 \n",
      "[CV]  criterion=gini, max_depth=230, max_features=sqrt, min_samples_leaf=3, min_samples_split=1, n_estimators=1500, total=   0.5s\n",
      "[CV] criterion=gini, max_depth=230, max_features=sqrt, min_samples_leaf=3, min_samples_split=1, n_estimators=1500 \n",
      "[CV]  criterion=gini, max_depth=230, max_features=sqrt, min_samples_leaf=3, min_samples_split=1, n_estimators=1500, total=   0.5s\n",
      "[CV] criterion=gini, max_depth=230, max_features=sqrt, min_samples_leaf=3, min_samples_split=1, n_estimators=1600 \n",
      "[CV]  criterion=gini, max_depth=230, max_features=sqrt, min_samples_leaf=3, min_samples_split=1, n_estimators=1600, total=   0.6s\n",
      "[CV] criterion=gini, max_depth=230, max_features=sqrt, min_samples_leaf=3, min_samples_split=1, n_estimators=1600 \n",
      "[CV]  criterion=gini, max_depth=230, max_features=sqrt, min_samples_leaf=3, min_samples_split=1, n_estimators=1600, total=   0.6s\n",
      "[CV] criterion=gini, max_depth=230, max_features=sqrt, min_samples_leaf=3, min_samples_split=2, n_estimators=1200 \n",
      "[CV]  criterion=gini, max_depth=230, max_features=sqrt, min_samples_leaf=3, min_samples_split=2, n_estimators=1200, total=   1.9s\n",
      "[CV] criterion=gini, max_depth=230, max_features=sqrt, min_samples_leaf=3, min_samples_split=2, n_estimators=1200 \n",
      "[CV]  criterion=gini, max_depth=230, max_features=sqrt, min_samples_leaf=3, min_samples_split=2, n_estimators=1200, total=   1.8s\n",
      "[CV] criterion=gini, max_depth=230, max_features=sqrt, min_samples_leaf=3, min_samples_split=2, n_estimators=1300 \n",
      "[CV]  criterion=gini, max_depth=230, max_features=sqrt, min_samples_leaf=3, min_samples_split=2, n_estimators=1300, total=   2.0s\n",
      "[CV] criterion=gini, max_depth=230, max_features=sqrt, min_samples_leaf=3, min_samples_split=2, n_estimators=1300 \n",
      "[CV]  criterion=gini, max_depth=230, max_features=sqrt, min_samples_leaf=3, min_samples_split=2, n_estimators=1300, total=   2.0s\n",
      "[CV] criterion=gini, max_depth=230, max_features=sqrt, min_samples_leaf=3, min_samples_split=2, n_estimators=1400 \n",
      "[CV]  criterion=gini, max_depth=230, max_features=sqrt, min_samples_leaf=3, min_samples_split=2, n_estimators=1400, total=   2.1s\n",
      "[CV] criterion=gini, max_depth=230, max_features=sqrt, min_samples_leaf=3, min_samples_split=2, n_estimators=1400 \n",
      "[CV]  criterion=gini, max_depth=230, max_features=sqrt, min_samples_leaf=3, min_samples_split=2, n_estimators=1400, total=   2.1s\n",
      "[CV] criterion=gini, max_depth=230, max_features=sqrt, min_samples_leaf=3, min_samples_split=2, n_estimators=1500 \n",
      "[CV]  criterion=gini, max_depth=230, max_features=sqrt, min_samples_leaf=3, min_samples_split=2, n_estimators=1500, total=   2.3s\n",
      "[CV] criterion=gini, max_depth=230, max_features=sqrt, min_samples_leaf=3, min_samples_split=2, n_estimators=1500 \n",
      "[CV]  criterion=gini, max_depth=230, max_features=sqrt, min_samples_leaf=3, min_samples_split=2, n_estimators=1500, total=   2.3s\n",
      "[CV] criterion=gini, max_depth=230, max_features=sqrt, min_samples_leaf=3, min_samples_split=2, n_estimators=1600 \n",
      "[CV]  criterion=gini, max_depth=230, max_features=sqrt, min_samples_leaf=3, min_samples_split=2, n_estimators=1600, total=   2.4s\n",
      "[CV] criterion=gini, max_depth=230, max_features=sqrt, min_samples_leaf=3, min_samples_split=2, n_estimators=1600 \n",
      "[CV]  criterion=gini, max_depth=230, max_features=sqrt, min_samples_leaf=3, min_samples_split=2, n_estimators=1600, total=   2.5s\n",
      "[CV] criterion=gini, max_depth=230, max_features=sqrt, min_samples_leaf=3, min_samples_split=3, n_estimators=1200 \n",
      "[CV]  criterion=gini, max_depth=230, max_features=sqrt, min_samples_leaf=3, min_samples_split=3, n_estimators=1200, total=   1.8s\n",
      "[CV] criterion=gini, max_depth=230, max_features=sqrt, min_samples_leaf=3, min_samples_split=3, n_estimators=1200 \n",
      "[CV]  criterion=gini, max_depth=230, max_features=sqrt, min_samples_leaf=3, min_samples_split=3, n_estimators=1200, total=   1.8s\n",
      "[CV] criterion=gini, max_depth=230, max_features=sqrt, min_samples_leaf=3, min_samples_split=3, n_estimators=1300 \n",
      "[CV]  criterion=gini, max_depth=230, max_features=sqrt, min_samples_leaf=3, min_samples_split=3, n_estimators=1300, total=   2.0s\n",
      "[CV] criterion=gini, max_depth=230, max_features=sqrt, min_samples_leaf=3, min_samples_split=3, n_estimators=1300 \n",
      "[CV]  criterion=gini, max_depth=230, max_features=sqrt, min_samples_leaf=3, min_samples_split=3, n_estimators=1300, total=   2.0s\n",
      "[CV] criterion=gini, max_depth=230, max_features=sqrt, min_samples_leaf=3, min_samples_split=3, n_estimators=1400 \n",
      "[CV]  criterion=gini, max_depth=230, max_features=sqrt, min_samples_leaf=3, min_samples_split=3, n_estimators=1400, total=   2.1s\n",
      "[CV] criterion=gini, max_depth=230, max_features=sqrt, min_samples_leaf=3, min_samples_split=3, n_estimators=1400 \n",
      "[CV]  criterion=gini, max_depth=230, max_features=sqrt, min_samples_leaf=3, min_samples_split=3, n_estimators=1400, total=   2.1s\n",
      "[CV] criterion=gini, max_depth=230, max_features=sqrt, min_samples_leaf=3, min_samples_split=3, n_estimators=1500 \n",
      "[CV]  criterion=gini, max_depth=230, max_features=sqrt, min_samples_leaf=3, min_samples_split=3, n_estimators=1500, total=   2.3s\n",
      "[CV] criterion=gini, max_depth=230, max_features=sqrt, min_samples_leaf=3, min_samples_split=3, n_estimators=1500 \n",
      "[CV]  criterion=gini, max_depth=230, max_features=sqrt, min_samples_leaf=3, min_samples_split=3, n_estimators=1500, total=   2.3s\n",
      "[CV] criterion=gini, max_depth=230, max_features=sqrt, min_samples_leaf=3, min_samples_split=3, n_estimators=1600 \n",
      "[CV]  criterion=gini, max_depth=230, max_features=sqrt, min_samples_leaf=3, min_samples_split=3, n_estimators=1600, total=   2.4s\n",
      "[CV] criterion=gini, max_depth=230, max_features=sqrt, min_samples_leaf=3, min_samples_split=3, n_estimators=1600 \n",
      "[CV]  criterion=gini, max_depth=230, max_features=sqrt, min_samples_leaf=3, min_samples_split=3, n_estimators=1600, total=   2.4s\n",
      "[CV] criterion=gini, max_depth=230, max_features=sqrt, min_samples_leaf=3, min_samples_split=4, n_estimators=1200 \n",
      "[CV]  criterion=gini, max_depth=230, max_features=sqrt, min_samples_leaf=3, min_samples_split=4, n_estimators=1200, total=   1.8s\n",
      "[CV] criterion=gini, max_depth=230, max_features=sqrt, min_samples_leaf=3, min_samples_split=4, n_estimators=1200 \n",
      "[CV]  criterion=gini, max_depth=230, max_features=sqrt, min_samples_leaf=3, min_samples_split=4, n_estimators=1200, total=   1.8s\n",
      "[CV] criterion=gini, max_depth=230, max_features=sqrt, min_samples_leaf=3, min_samples_split=4, n_estimators=1300 \n",
      "[CV]  criterion=gini, max_depth=230, max_features=sqrt, min_samples_leaf=3, min_samples_split=4, n_estimators=1300, total=   2.0s\n",
      "[CV] criterion=gini, max_depth=230, max_features=sqrt, min_samples_leaf=3, min_samples_split=4, n_estimators=1300 \n",
      "[CV]  criterion=gini, max_depth=230, max_features=sqrt, min_samples_leaf=3, min_samples_split=4, n_estimators=1300, total=   1.9s\n",
      "[CV] criterion=gini, max_depth=230, max_features=sqrt, min_samples_leaf=3, min_samples_split=4, n_estimators=1400 \n",
      "[CV]  criterion=gini, max_depth=230, max_features=sqrt, min_samples_leaf=3, min_samples_split=4, n_estimators=1400, total=   2.1s\n",
      "[CV] criterion=gini, max_depth=230, max_features=sqrt, min_samples_leaf=3, min_samples_split=4, n_estimators=1400 \n",
      "[CV]  criterion=gini, max_depth=230, max_features=sqrt, min_samples_leaf=3, min_samples_split=4, n_estimators=1400, total=   2.1s\n",
      "[CV] criterion=gini, max_depth=230, max_features=sqrt, min_samples_leaf=3, min_samples_split=4, n_estimators=1500 \n",
      "[CV]  criterion=gini, max_depth=230, max_features=sqrt, min_samples_leaf=3, min_samples_split=4, n_estimators=1500, total=   2.3s\n",
      "[CV] criterion=gini, max_depth=230, max_features=sqrt, min_samples_leaf=3, min_samples_split=4, n_estimators=1500 \n",
      "[CV]  criterion=gini, max_depth=230, max_features=sqrt, min_samples_leaf=3, min_samples_split=4, n_estimators=1500, total=   2.3s\n",
      "[CV] criterion=gini, max_depth=230, max_features=sqrt, min_samples_leaf=3, min_samples_split=4, n_estimators=1600 \n",
      "[CV]  criterion=gini, max_depth=230, max_features=sqrt, min_samples_leaf=3, min_samples_split=4, n_estimators=1600, total=   2.4s\n",
      "[CV] criterion=gini, max_depth=230, max_features=sqrt, min_samples_leaf=3, min_samples_split=4, n_estimators=1600 \n",
      "[CV]  criterion=gini, max_depth=230, max_features=sqrt, min_samples_leaf=3, min_samples_split=4, n_estimators=1600, total=   2.4s\n",
      "[CV] criterion=gini, max_depth=230, max_features=sqrt, min_samples_leaf=5, min_samples_split=0, n_estimators=1200 \n",
      "[CV]  criterion=gini, max_depth=230, max_features=sqrt, min_samples_leaf=5, min_samples_split=0, n_estimators=1200, total=   0.4s\n",
      "[CV] criterion=gini, max_depth=230, max_features=sqrt, min_samples_leaf=5, min_samples_split=0, n_estimators=1200 \n",
      "[CV]  criterion=gini, max_depth=230, max_features=sqrt, min_samples_leaf=5, min_samples_split=0, n_estimators=1200, total=   0.4s\n",
      "[CV] criterion=gini, max_depth=230, max_features=sqrt, min_samples_leaf=5, min_samples_split=0, n_estimators=1300 \n",
      "[CV]  criterion=gini, max_depth=230, max_features=sqrt, min_samples_leaf=5, min_samples_split=0, n_estimators=1300, total=   0.5s\n",
      "[CV] criterion=gini, max_depth=230, max_features=sqrt, min_samples_leaf=5, min_samples_split=0, n_estimators=1300 \n",
      "[CV]  criterion=gini, max_depth=230, max_features=sqrt, min_samples_leaf=5, min_samples_split=0, n_estimators=1300, total=   0.5s\n",
      "[CV] criterion=gini, max_depth=230, max_features=sqrt, min_samples_leaf=5, min_samples_split=0, n_estimators=1400 \n",
      "[CV]  criterion=gini, max_depth=230, max_features=sqrt, min_samples_leaf=5, min_samples_split=0, n_estimators=1400, total=   0.5s\n",
      "[CV] criterion=gini, max_depth=230, max_features=sqrt, min_samples_leaf=5, min_samples_split=0, n_estimators=1400 \n",
      "[CV]  criterion=gini, max_depth=230, max_features=sqrt, min_samples_leaf=5, min_samples_split=0, n_estimators=1400, total=   0.5s\n",
      "[CV] criterion=gini, max_depth=230, max_features=sqrt, min_samples_leaf=5, min_samples_split=0, n_estimators=1500 \n",
      "[CV]  criterion=gini, max_depth=230, max_features=sqrt, min_samples_leaf=5, min_samples_split=0, n_estimators=1500, total=   0.5s\n",
      "[CV] criterion=gini, max_depth=230, max_features=sqrt, min_samples_leaf=5, min_samples_split=0, n_estimators=1500 \n",
      "[CV]  criterion=gini, max_depth=230, max_features=sqrt, min_samples_leaf=5, min_samples_split=0, n_estimators=1500, total=   0.5s\n",
      "[CV] criterion=gini, max_depth=230, max_features=sqrt, min_samples_leaf=5, min_samples_split=0, n_estimators=1600 \n",
      "[CV]  criterion=gini, max_depth=230, max_features=sqrt, min_samples_leaf=5, min_samples_split=0, n_estimators=1600, total=   0.6s\n",
      "[CV] criterion=gini, max_depth=230, max_features=sqrt, min_samples_leaf=5, min_samples_split=0, n_estimators=1600 \n",
      "[CV]  criterion=gini, max_depth=230, max_features=sqrt, min_samples_leaf=5, min_samples_split=0, n_estimators=1600, total=   0.6s\n",
      "[CV] criterion=gini, max_depth=230, max_features=sqrt, min_samples_leaf=5, min_samples_split=1, n_estimators=1200 \n",
      "[CV]  criterion=gini, max_depth=230, max_features=sqrt, min_samples_leaf=5, min_samples_split=1, n_estimators=1200, total=   0.4s\n",
      "[CV] criterion=gini, max_depth=230, max_features=sqrt, min_samples_leaf=5, min_samples_split=1, n_estimators=1200 \n",
      "[CV]  criterion=gini, max_depth=230, max_features=sqrt, min_samples_leaf=5, min_samples_split=1, n_estimators=1200, total=   0.4s\n",
      "[CV] criterion=gini, max_depth=230, max_features=sqrt, min_samples_leaf=5, min_samples_split=1, n_estimators=1300 \n",
      "[CV]  criterion=gini, max_depth=230, max_features=sqrt, min_samples_leaf=5, min_samples_split=1, n_estimators=1300, total=   0.5s\n",
      "[CV] criterion=gini, max_depth=230, max_features=sqrt, min_samples_leaf=5, min_samples_split=1, n_estimators=1300 \n",
      "[CV]  criterion=gini, max_depth=230, max_features=sqrt, min_samples_leaf=5, min_samples_split=1, n_estimators=1300, total=   0.5s\n",
      "[CV] criterion=gini, max_depth=230, max_features=sqrt, min_samples_leaf=5, min_samples_split=1, n_estimators=1400 \n",
      "[CV]  criterion=gini, max_depth=230, max_features=sqrt, min_samples_leaf=5, min_samples_split=1, n_estimators=1400, total=   0.5s\n",
      "[CV] criterion=gini, max_depth=230, max_features=sqrt, min_samples_leaf=5, min_samples_split=1, n_estimators=1400 \n",
      "[CV]  criterion=gini, max_depth=230, max_features=sqrt, min_samples_leaf=5, min_samples_split=1, n_estimators=1400, total=   0.5s\n",
      "[CV] criterion=gini, max_depth=230, max_features=sqrt, min_samples_leaf=5, min_samples_split=1, n_estimators=1500 \n",
      "[CV]  criterion=gini, max_depth=230, max_features=sqrt, min_samples_leaf=5, min_samples_split=1, n_estimators=1500, total=   0.5s\n",
      "[CV] criterion=gini, max_depth=230, max_features=sqrt, min_samples_leaf=5, min_samples_split=1, n_estimators=1500 \n",
      "[CV]  criterion=gini, max_depth=230, max_features=sqrt, min_samples_leaf=5, min_samples_split=1, n_estimators=1500, total=   0.6s\n",
      "[CV] criterion=gini, max_depth=230, max_features=sqrt, min_samples_leaf=5, min_samples_split=1, n_estimators=1600 \n",
      "[CV]  criterion=gini, max_depth=230, max_features=sqrt, min_samples_leaf=5, min_samples_split=1, n_estimators=1600, total=   0.6s\n",
      "[CV] criterion=gini, max_depth=230, max_features=sqrt, min_samples_leaf=5, min_samples_split=1, n_estimators=1600 \n",
      "[CV]  criterion=gini, max_depth=230, max_features=sqrt, min_samples_leaf=5, min_samples_split=1, n_estimators=1600, total=   0.6s\n",
      "[CV] criterion=gini, max_depth=230, max_features=sqrt, min_samples_leaf=5, min_samples_split=2, n_estimators=1200 \n",
      "[CV]  criterion=gini, max_depth=230, max_features=sqrt, min_samples_leaf=5, min_samples_split=2, n_estimators=1200, total=   1.8s\n",
      "[CV] criterion=gini, max_depth=230, max_features=sqrt, min_samples_leaf=5, min_samples_split=2, n_estimators=1200 \n",
      "[CV]  criterion=gini, max_depth=230, max_features=sqrt, min_samples_leaf=5, min_samples_split=2, n_estimators=1200, total=   1.8s\n",
      "[CV] criterion=gini, max_depth=230, max_features=sqrt, min_samples_leaf=5, min_samples_split=2, n_estimators=1300 \n",
      "[CV]  criterion=gini, max_depth=230, max_features=sqrt, min_samples_leaf=5, min_samples_split=2, n_estimators=1300, total=   1.9s\n",
      "[CV] criterion=gini, max_depth=230, max_features=sqrt, min_samples_leaf=5, min_samples_split=2, n_estimators=1300 \n",
      "[CV]  criterion=gini, max_depth=230, max_features=sqrt, min_samples_leaf=5, min_samples_split=2, n_estimators=1300, total=   1.9s\n",
      "[CV] criterion=gini, max_depth=230, max_features=sqrt, min_samples_leaf=5, min_samples_split=2, n_estimators=1400 \n",
      "[CV]  criterion=gini, max_depth=230, max_features=sqrt, min_samples_leaf=5, min_samples_split=2, n_estimators=1400, total=   2.1s\n",
      "[CV] criterion=gini, max_depth=230, max_features=sqrt, min_samples_leaf=5, min_samples_split=2, n_estimators=1400 \n",
      "[CV]  criterion=gini, max_depth=230, max_features=sqrt, min_samples_leaf=5, min_samples_split=2, n_estimators=1400, total=   2.1s\n",
      "[CV] criterion=gini, max_depth=230, max_features=sqrt, min_samples_leaf=5, min_samples_split=2, n_estimators=1500 \n",
      "[CV]  criterion=gini, max_depth=230, max_features=sqrt, min_samples_leaf=5, min_samples_split=2, n_estimators=1500, total=   2.3s\n",
      "[CV] criterion=gini, max_depth=230, max_features=sqrt, min_samples_leaf=5, min_samples_split=2, n_estimators=1500 \n",
      "[CV]  criterion=gini, max_depth=230, max_features=sqrt, min_samples_leaf=5, min_samples_split=2, n_estimators=1500, total=   2.2s\n",
      "[CV] criterion=gini, max_depth=230, max_features=sqrt, min_samples_leaf=5, min_samples_split=2, n_estimators=1600 \n",
      "[CV]  criterion=gini, max_depth=230, max_features=sqrt, min_samples_leaf=5, min_samples_split=2, n_estimators=1600, total=   2.4s\n",
      "[CV] criterion=gini, max_depth=230, max_features=sqrt, min_samples_leaf=5, min_samples_split=2, n_estimators=1600 \n",
      "[CV]  criterion=gini, max_depth=230, max_features=sqrt, min_samples_leaf=5, min_samples_split=2, n_estimators=1600, total=   2.3s\n",
      "[CV] criterion=gini, max_depth=230, max_features=sqrt, min_samples_leaf=5, min_samples_split=3, n_estimators=1200 \n",
      "[CV]  criterion=gini, max_depth=230, max_features=sqrt, min_samples_leaf=5, min_samples_split=3, n_estimators=1200, total=   1.8s\n",
      "[CV] criterion=gini, max_depth=230, max_features=sqrt, min_samples_leaf=5, min_samples_split=3, n_estimators=1200 \n",
      "[CV]  criterion=gini, max_depth=230, max_features=sqrt, min_samples_leaf=5, min_samples_split=3, n_estimators=1200, total=   1.8s\n",
      "[CV] criterion=gini, max_depth=230, max_features=sqrt, min_samples_leaf=5, min_samples_split=3, n_estimators=1300 \n",
      "[CV]  criterion=gini, max_depth=230, max_features=sqrt, min_samples_leaf=5, min_samples_split=3, n_estimators=1300, total=   1.9s\n",
      "[CV] criterion=gini, max_depth=230, max_features=sqrt, min_samples_leaf=5, min_samples_split=3, n_estimators=1300 \n",
      "[CV]  criterion=gini, max_depth=230, max_features=sqrt, min_samples_leaf=5, min_samples_split=3, n_estimators=1300, total=   1.9s\n",
      "[CV] criterion=gini, max_depth=230, max_features=sqrt, min_samples_leaf=5, min_samples_split=3, n_estimators=1400 \n",
      "[CV]  criterion=gini, max_depth=230, max_features=sqrt, min_samples_leaf=5, min_samples_split=3, n_estimators=1400, total=   2.1s\n",
      "[CV] criterion=gini, max_depth=230, max_features=sqrt, min_samples_leaf=5, min_samples_split=3, n_estimators=1400 \n",
      "[CV]  criterion=gini, max_depth=230, max_features=sqrt, min_samples_leaf=5, min_samples_split=3, n_estimators=1400, total=   2.1s\n",
      "[CV] criterion=gini, max_depth=230, max_features=sqrt, min_samples_leaf=5, min_samples_split=3, n_estimators=1500 \n",
      "[CV]  criterion=gini, max_depth=230, max_features=sqrt, min_samples_leaf=5, min_samples_split=3, n_estimators=1500, total=   2.2s\n",
      "[CV] criterion=gini, max_depth=230, max_features=sqrt, min_samples_leaf=5, min_samples_split=3, n_estimators=1500 \n",
      "[CV]  criterion=gini, max_depth=230, max_features=sqrt, min_samples_leaf=5, min_samples_split=3, n_estimators=1500, total=   2.2s\n",
      "[CV] criterion=gini, max_depth=230, max_features=sqrt, min_samples_leaf=5, min_samples_split=3, n_estimators=1600 \n",
      "[CV]  criterion=gini, max_depth=230, max_features=sqrt, min_samples_leaf=5, min_samples_split=3, n_estimators=1600, total=   2.4s\n",
      "[CV] criterion=gini, max_depth=230, max_features=sqrt, min_samples_leaf=5, min_samples_split=3, n_estimators=1600 \n",
      "[CV]  criterion=gini, max_depth=230, max_features=sqrt, min_samples_leaf=5, min_samples_split=3, n_estimators=1600, total=   2.3s\n",
      "[CV] criterion=gini, max_depth=230, max_features=sqrt, min_samples_leaf=5, min_samples_split=4, n_estimators=1200 \n",
      "[CV]  criterion=gini, max_depth=230, max_features=sqrt, min_samples_leaf=5, min_samples_split=4, n_estimators=1200, total=   1.8s\n",
      "[CV] criterion=gini, max_depth=230, max_features=sqrt, min_samples_leaf=5, min_samples_split=4, n_estimators=1200 \n",
      "[CV]  criterion=gini, max_depth=230, max_features=sqrt, min_samples_leaf=5, min_samples_split=4, n_estimators=1200, total=   1.8s\n",
      "[CV] criterion=gini, max_depth=230, max_features=sqrt, min_samples_leaf=5, min_samples_split=4, n_estimators=1300 \n",
      "[CV]  criterion=gini, max_depth=230, max_features=sqrt, min_samples_leaf=5, min_samples_split=4, n_estimators=1300, total=   1.9s\n",
      "[CV] criterion=gini, max_depth=230, max_features=sqrt, min_samples_leaf=5, min_samples_split=4, n_estimators=1300 \n",
      "[CV]  criterion=gini, max_depth=230, max_features=sqrt, min_samples_leaf=5, min_samples_split=4, n_estimators=1300, total=   2.0s\n",
      "[CV] criterion=gini, max_depth=230, max_features=sqrt, min_samples_leaf=5, min_samples_split=4, n_estimators=1400 \n",
      "[CV]  criterion=gini, max_depth=230, max_features=sqrt, min_samples_leaf=5, min_samples_split=4, n_estimators=1400, total=   2.1s\n",
      "[CV] criterion=gini, max_depth=230, max_features=sqrt, min_samples_leaf=5, min_samples_split=4, n_estimators=1400 \n",
      "[CV]  criterion=gini, max_depth=230, max_features=sqrt, min_samples_leaf=5, min_samples_split=4, n_estimators=1400, total=   2.1s\n",
      "[CV] criterion=gini, max_depth=230, max_features=sqrt, min_samples_leaf=5, min_samples_split=4, n_estimators=1500 \n",
      "[CV]  criterion=gini, max_depth=230, max_features=sqrt, min_samples_leaf=5, min_samples_split=4, n_estimators=1500, total=   2.3s\n",
      "[CV] criterion=gini, max_depth=230, max_features=sqrt, min_samples_leaf=5, min_samples_split=4, n_estimators=1500 \n",
      "[CV]  criterion=gini, max_depth=230, max_features=sqrt, min_samples_leaf=5, min_samples_split=4, n_estimators=1500, total=   2.2s\n",
      "[CV] criterion=gini, max_depth=230, max_features=sqrt, min_samples_leaf=5, min_samples_split=4, n_estimators=1600 \n",
      "[CV]  criterion=gini, max_depth=230, max_features=sqrt, min_samples_leaf=5, min_samples_split=4, n_estimators=1600, total=   2.4s\n",
      "[CV] criterion=gini, max_depth=230, max_features=sqrt, min_samples_leaf=5, min_samples_split=4, n_estimators=1600 \n",
      "[CV]  criterion=gini, max_depth=230, max_features=sqrt, min_samples_leaf=5, min_samples_split=4, n_estimators=1600, total=   2.4s\n"
     ]
    },
    {
     "name": "stderr",
     "output_type": "stream",
     "text": [
      "[Parallel(n_jobs=1)]: Done 150 out of 150 | elapsed:  3.7min finished\n"
     ]
    },
    {
     "data": {
      "text/plain": [
       "GridSearchCV(cv=2, error_score=nan,\n",
       "             estimator=RandomForestClassifier(bootstrap=True, ccp_alpha=0.0,\n",
       "                                              class_weight=None,\n",
       "                                              criterion='gini', max_depth=None,\n",
       "                                              max_features='auto',\n",
       "                                              max_leaf_nodes=None,\n",
       "                                              max_samples=None,\n",
       "                                              min_impurity_decrease=0.0,\n",
       "                                              min_impurity_split=None,\n",
       "                                              min_samples_leaf=1,\n",
       "                                              min_samples_split=2,\n",
       "                                              min_weight_fraction_leaf=0.0,\n",
       "                                              n_estimators=100, n_jobs=None,\n",
       "                                              oob_score=False,\n",
       "                                              random_state=None, verbose=0,\n",
       "                                              warm_start=False),\n",
       "             iid='deprecated', n_jobs=1,\n",
       "             param_grid={'criterion': ['gini'], 'max_depth': [230],\n",
       "                         'max_features': ['sqrt'],\n",
       "                         'min_samples_leaf': [1, 3, 5],\n",
       "                         'min_samples_split': [0, 1, 2, 3, 4],\n",
       "                         'n_estimators': [1200, 1300, 1400, 1500, 1600]},\n",
       "             pre_dispatch='2*n_jobs', refit=True, return_train_score=False,\n",
       "             scoring=None, verbose=2)"
      ]
     },
     "execution_count": 22,
     "metadata": {
      "tags": []
     },
     "output_type": "execute_result"
    }
   ],
   "source": [
    "#### Fit the grid_search to the data\n",
    "rf=RandomForestClassifier()\n",
    "grid_search=GridSearchCV(estimator=rf,param_grid=param_grid,cv=2,n_jobs=1,verbose=2)\n",
    "## cv=10\n",
    "grid_search.fit(X_train,y_train)\n"
   ]
  },
  {
   "cell_type": "code",
   "execution_count": 23,
   "metadata": {
    "colab": {
     "base_uri": "https://localhost:8080/",
     "height": 153
    },
    "colab_type": "code",
    "id": "Cm2DS7vNRnOf",
    "outputId": "35b3ec70-e49e-4b11-ee88-af3b311d03fb"
   },
   "outputs": [
    {
     "data": {
      "text/plain": [
       "RandomForestClassifier(bootstrap=True, ccp_alpha=0.0, class_weight=None,\n",
       "                       criterion='gini', max_depth=230, max_features='sqrt',\n",
       "                       max_leaf_nodes=None, max_samples=None,\n",
       "                       min_impurity_decrease=0.0, min_impurity_split=None,\n",
       "                       min_samples_leaf=5, min_samples_split=2,\n",
       "                       min_weight_fraction_leaf=0.0, n_estimators=1200,\n",
       "                       n_jobs=None, oob_score=False, random_state=None,\n",
       "                       verbose=0, warm_start=False)"
      ]
     },
     "execution_count": 23,
     "metadata": {
      "tags": []
     },
     "output_type": "execute_result"
    }
   ],
   "source": [
    "grid_search.best_estimator_"
   ]
  },
  {
   "cell_type": "code",
   "execution_count": 24,
   "metadata": {
    "colab": {},
    "colab_type": "code",
    "id": "soHr4YBzRnOu"
   },
   "outputs": [],
   "source": [
    "best_grid=grid_search.best_estimator_"
   ]
  },
  {
   "cell_type": "code",
   "execution_count": 25,
   "metadata": {
    "colab": {
     "base_uri": "https://localhost:8080/",
     "height": 153
    },
    "colab_type": "code",
    "id": "mvhB6B1nRnO6",
    "outputId": "07ee98bd-88ca-4cc7-f5fa-ea959e3d1a89"
   },
   "outputs": [
    {
     "data": {
      "text/plain": [
       "RandomForestClassifier(bootstrap=True, ccp_alpha=0.0, class_weight=None,\n",
       "                       criterion='gini', max_depth=230, max_features='sqrt',\n",
       "                       max_leaf_nodes=None, max_samples=None,\n",
       "                       min_impurity_decrease=0.0, min_impurity_split=None,\n",
       "                       min_samples_leaf=5, min_samples_split=2,\n",
       "                       min_weight_fraction_leaf=0.0, n_estimators=1200,\n",
       "                       n_jobs=None, oob_score=False, random_state=None,\n",
       "                       verbose=0, warm_start=False)"
      ]
     },
     "execution_count": 25,
     "metadata": {
      "tags": []
     },
     "output_type": "execute_result"
    }
   ],
   "source": [
    "best_grid"
   ]
  },
  {
   "cell_type": "code",
   "execution_count": 26,
   "metadata": {
    "colab": {
     "base_uri": "https://localhost:8080/",
     "height": 221
    },
    "colab_type": "code",
    "id": "_cBZPSvKRnPN",
    "outputId": "dccce402-1a71-402c-b543-7f68f2e86d93"
   },
   "outputs": [
    {
     "name": "stdout",
     "output_type": "stream",
     "text": [
      "[[97 10]\n",
      " [18 29]]\n",
      "Accuracy Score 0.8181818181818182\n",
      "Classification report:               precision    recall  f1-score   support\n",
      "\n",
      "           0       0.84      0.91      0.87       107\n",
      "           1       0.74      0.62      0.67        47\n",
      "\n",
      "    accuracy                           0.82       154\n",
      "   macro avg       0.79      0.76      0.77       154\n",
      "weighted avg       0.81      0.82      0.81       154\n",
      "\n"
     ]
    }
   ],
   "source": [
    "y_pred=best_grid.predict(X_test)\n",
    "print(confusion_matrix(y_test,y_pred))\n",
    "print(\"Accuracy Score {}\".format(accuracy_score(y_test,y_pred)))\n",
    "print(\"Classification report: {}\".format(classification_report(y_test,y_pred)))"
   ]
  },
  {
   "cell_type": "markdown",
   "metadata": {
    "colab_type": "text",
    "id": "Onp0CTR7RnPc"
   },
   "source": [
    "### Automated Hyperparameter Tuning\n",
    "Automated Hyperparameter Tuning can be done by using techniques such as \n",
    "- Bayesian Optimization\n",
    "- Gradient Descent\n",
    "- Evolutionary Algorithms"
   ]
  },
  {
   "cell_type": "markdown",
   "metadata": {
    "colab_type": "text",
    "id": "CqdudXbdRnPf"
   },
   "source": [
    "## 3.Bayesian Optimization\n",
    "Bayesian optimization uses probability to find the minimum of a function. The final aim is to find the input value to a function which can gives us the lowest possible output value.It usually performs better than random,grid and manual search providing better performance in the testing phase and reduced optimization time.\n",
    "In Hyperopt, Bayesian Optimization can be implemented giving 3 three main parameters to the function fmin.\n",
    "\n",
    "- Objective Function = defines the loss function to minimize.\n",
    "- Domain Space = defines the range of input values to test (in Bayesian Optimization this space creates a probability distribution for each of the used Hyperparameters).\n",
    "- Optimization Algorithm = defines the search algorithm to use to select the best input values to use in each new iteration."
   ]
  },
  {
   "cell_type": "code",
   "execution_count": 16,
   "metadata": {
    "colab": {},
    "colab_type": "code",
    "id": "b-YugqN_RnPh"
   },
   "outputs": [],
   "source": [
    "from hyperopt import hp,fmin,tpe,STATUS_OK,Trials"
   ]
  },
  {
   "cell_type": "code",
   "execution_count": 17,
   "metadata": {
    "colab": {},
    "colab_type": "code",
    "id": "EP2_lSkGRnPu"
   },
   "outputs": [],
   "source": [
    "space = {'criterion': hp.choice('criterion', ['entropy', 'gini']),\n",
    "        'max_depth': hp.quniform('max_depth', 10, 1200, 10),\n",
    "        'max_features': hp.choice('max_features', ['auto', 'sqrt','log2', None]),\n",
    "        'min_samples_leaf': hp.uniform('min_samples_leaf', 0, 0.5),\n",
    "        'min_samples_split' : hp.uniform ('min_samples_split', 0, 1),\n",
    "        'n_estimators' : hp.choice('n_estimators', [10, 50, 300, 750, 1200,1300,1500])\n",
    "    }"
   ]
  },
  {
   "cell_type": "code",
   "execution_count": 18,
   "metadata": {
    "colab": {
     "base_uri": "https://localhost:8080/",
     "height": 119
    },
    "colab_type": "code",
    "id": "q3RF5gADRnP-",
    "outputId": "3a9d6efb-8152-4fcb-f82e-0702dacdbda5"
   },
   "outputs": [
    {
     "data": {
      "text/plain": [
       "{'criterion': <hyperopt.pyll.base.Apply at 0x7fc6f7aadfd0>,\n",
       " 'max_depth': <hyperopt.pyll.base.Apply at 0x7fc6f7a53208>,\n",
       " 'max_features': <hyperopt.pyll.base.Apply at 0x7fc6f7a53320>,\n",
       " 'min_samples_leaf': <hyperopt.pyll.base.Apply at 0x7fc6f7a53550>,\n",
       " 'min_samples_split': <hyperopt.pyll.base.Apply at 0x7fc6f7a536a0>,\n",
       " 'n_estimators': <hyperopt.pyll.base.Apply at 0x7fc6f7a9fc18>}"
      ]
     },
     "execution_count": 18,
     "metadata": {
      "tags": []
     },
     "output_type": "execute_result"
    }
   ],
   "source": [
    "space"
   ]
  },
  {
   "cell_type": "code",
   "execution_count": 19,
   "metadata": {
    "colab": {},
    "colab_type": "code",
    "id": "ZXpslLtGRnQN"
   },
   "outputs": [],
   "source": [
    "\n",
    "def objective(space):\n",
    "    model = RandomForestClassifier(criterion = space['criterion'], max_depth = space['max_depth'],\n",
    "                                 max_features = space['max_features'],\n",
    "                                 min_samples_leaf = space['min_samples_leaf'],\n",
    "                                 min_samples_split = space['min_samples_split'],\n",
    "                                 n_estimators = space['n_estimators'], \n",
    "                                 )\n",
    "    \n",
    "    accuracy = cross_val_score(model, X_train, y_train, cv = 5).mean()\n",
    "\n",
    "    # We aim to maximize accuracy, therefore we return it as a negative value\n",
    "    return {'loss': -accuracy, 'status': STATUS_OK }"
   ]
  },
  {
   "cell_type": "code",
   "execution_count": 20,
   "metadata": {
    "colab": {
     "base_uri": "https://localhost:8080/",
     "height": 136
    },
    "colab_type": "code",
    "id": "cvMohopDX5lM",
    "outputId": "f08dc877-3f47-49cd-ffb8-501bb29d4b65"
   },
   "outputs": [
    {
     "name": "stdout",
     "output_type": "stream",
     "text": [
      "100%|██████████| 80/80 [08:28<00:00,  6.36s/it, best loss: -0.7655204584832733]\n"
     ]
    },
    {
     "data": {
      "text/plain": [
       "{'criterion': 1,\n",
       " 'max_depth': 320.0,\n",
       " 'max_features': 0,\n",
       " 'min_samples_leaf': 0.0009442949008620655,\n",
       " 'min_samples_split': 0.09593811228694041,\n",
       " 'n_estimators': 2}"
      ]
     },
     "execution_count": 20,
     "metadata": {
      "tags": []
     },
     "output_type": "execute_result"
    }
   ],
   "source": [
    "from sklearn.model_selection import cross_val_score\n",
    "trials = Trials()\n",
    "best = fmin(fn= objective,\n",
    "            space= space,\n",
    "            algo= tpe.suggest,\n",
    "            max_evals = 80,\n",
    "            trials= trials)\n",
    "best"
   ]
  },
  {
   "cell_type": "code",
   "execution_count": 21,
   "metadata": {
    "colab": {
     "base_uri": "https://localhost:8080/",
     "height": 68
    },
    "colab_type": "code",
    "id": "tFpY-HpwRnQ7",
    "outputId": "1676c2dc-c368-4073-a162-f6e65cad967c"
   },
   "outputs": [
    {
     "name": "stdout",
     "output_type": "stream",
     "text": [
      "gini\n",
      "auto\n",
      "300\n"
     ]
    }
   ],
   "source": [
    "crit = {0: 'entropy', 1: 'gini'}\n",
    "feat = {0: 'auto', 1: 'sqrt', 2: 'log2', 3: None}\n",
    "est = {0: 10, 1: 50, 2: 300, 3: 750, 4: 1200,5:1300,6:1500}\n",
    "\n",
    "\n",
    "print(crit[best['criterion']])\n",
    "print(feat[best['max_features']])\n",
    "print(est[best['n_estimators']])"
   ]
  },
  {
   "cell_type": "code",
   "execution_count": 22,
   "metadata": {
    "colab": {
     "base_uri": "https://localhost:8080/",
     "height": 34
    },
    "colab_type": "code",
    "id": "1MG2-uErRnRI",
    "outputId": "4ec421c2-4667-4731-c7dc-98f99ed4a089"
   },
   "outputs": [
    {
     "data": {
      "text/plain": [
       "0.0009442949008620655"
      ]
     },
     "execution_count": 22,
     "metadata": {
      "tags": []
     },
     "output_type": "execute_result"
    }
   ],
   "source": [
    "best['min_samples_leaf']"
   ]
  },
  {
   "cell_type": "code",
   "execution_count": 23,
   "metadata": {
    "colab": {
     "base_uri": "https://localhost:8080/",
     "height": 221
    },
    "colab_type": "code",
    "id": "S4P9tohcRnRa",
    "outputId": "d9acfc75-c03e-43bf-f2a2-1345bd6afb54"
   },
   "outputs": [
    {
     "name": "stdout",
     "output_type": "stream",
     "text": [
      "[[97 10]\n",
      " [19 28]]\n",
      "0.8116883116883117\n",
      "              precision    recall  f1-score   support\n",
      "\n",
      "           0       0.84      0.91      0.87       107\n",
      "           1       0.74      0.60      0.66        47\n",
      "\n",
      "    accuracy                           0.81       154\n",
      "   macro avg       0.79      0.75      0.76       154\n",
      "weighted avg       0.81      0.81      0.81       154\n",
      "\n"
     ]
    }
   ],
   "source": [
    "trainedforest = RandomForestClassifier(criterion = crit[best['criterion']], max_depth = best['max_depth'], \n",
    "                                       max_features = feat[best['max_features']], \n",
    "                                       min_samples_leaf = best['min_samples_leaf'], \n",
    "                                       min_samples_split = best['min_samples_split'], \n",
    "                                       n_estimators = est[best['n_estimators']]).fit(X_train,y_train)\n",
    "predictionforest = trainedforest.predict(X_test)\n",
    "print(confusion_matrix(y_test,predictionforest))\n",
    "print(accuracy_score(y_test,predictionforest))\n",
    "print(classification_report(y_test,predictionforest))\n",
    "acc5 = accuracy_score(y_test,predictionforest)"
   ]
  },
  {
   "cell_type": "markdown",
   "metadata": {
    "colab_type": "text",
    "id": "xr47zJ45RnRk"
   },
   "source": [
    "## 4.Genetic Algorithms\n",
    "Genetic Algorithms tries to apply natural selection mechanisms to Machine Learning contexts.\n",
    "\n",
    "Let's immagine we create a population of N Machine Learning models with some predifined Hyperparameters. We can then calculate the accuracy of each model and decide to keep just half of the models (the ones that performs best). We can now generate some offsprings having similar Hyperparameters to the ones of the best models so that go get again a population of N models. At this point we can again caltulate the accuracy of each model and repeate the cycle for a defined number of generations. In this way, just the best models will survive at the end of the process."
   ]
  },
  {
   "cell_type": "code",
   "execution_count": 24,
   "metadata": {
    "colab": {
     "base_uri": "https://localhost:8080/",
     "height": 54
    },
    "colab_type": "code",
    "id": "M8ZbEeWDRnRm",
    "outputId": "8defb1dd-6b26-4130-cf6f-60714b217c49"
   },
   "outputs": [
    {
     "name": "stdout",
     "output_type": "stream",
     "text": [
      "{'n_estimators': [200, 400, 600, 800, 1000, 1200, 1400, 1600, 1800, 2000], 'max_features': ['auto', 'sqrt', 'log2'], 'max_depth': [10, 120, 230, 340, 450, 560, 670, 780, 890, 1000], 'min_samples_split': [2, 5, 10, 14], 'min_samples_leaf': [1, 2, 4, 6, 8], 'criterion': ['entropy', 'gini']}\n"
     ]
    }
   ],
   "source": [
    "import numpy as np\n",
    "from sklearn.model_selection import RandomizedSearchCV\n",
    "# Number of trees in random forest\n",
    "n_estimators = [int(x) for x in np.linspace(start = 200, stop = 2000, num = 10)]\n",
    "# Number of features to consider at every split\n",
    "max_features = ['auto', 'sqrt','log2']\n",
    "# Maximum number of levels in tree\n",
    "max_depth = [int(x) for x in np.linspace(10, 1000,10)]\n",
    "# Minimum number of samples required to split a node\n",
    "min_samples_split = [2, 5, 10,14]\n",
    "# Minimum number of samples required at each leaf node\n",
    "min_samples_leaf = [1, 2, 4,6,8]\n",
    "# Create the random grid\n",
    "param = {'n_estimators': n_estimators,\n",
    "               'max_features': max_features,\n",
    "               'max_depth': max_depth,\n",
    "               'min_samples_split': min_samples_split,\n",
    "               'min_samples_leaf': min_samples_leaf,\n",
    "              'criterion':['entropy','gini']}\n",
    "print(param)"
   ]
  },
  {
   "cell_type": "code",
   "execution_count": 28,
   "metadata": {
    "colab": {
     "base_uri": "https://localhost:8080/",
     "height": 564
    },
    "colab_type": "code",
    "id": "EgxfIwqUtnDC",
    "outputId": "5d43fda0-9c05-426e-e3fc-4cf7fd7d29a6"
   },
   "outputs": [
    {
     "name": "stdout",
     "output_type": "stream",
     "text": [
      "Collecting tpot\n",
      "\u001b[?25l  Downloading https://files.pythonhosted.org/packages/14/5e/cb87b0257033a7a396e533a634079ee151a239d180efe2a8b1d2e3584d23/TPOT-0.11.5-py3-none-any.whl (82kB)\n",
      "\r",
      "\u001b[K     |████                            | 10kB 19.6MB/s eta 0:00:01\r",
      "\u001b[K     |████████                        | 20kB 1.7MB/s eta 0:00:01\r",
      "\u001b[K     |████████████                    | 30kB 2.3MB/s eta 0:00:01\r",
      "\u001b[K     |████████████████                | 40kB 2.6MB/s eta 0:00:01\r",
      "\u001b[K     |████████████████████            | 51kB 2.0MB/s eta 0:00:01\r",
      "\u001b[K     |████████████████████████        | 61kB 2.3MB/s eta 0:00:01\r",
      "\u001b[K     |████████████████████████████    | 71kB 2.6MB/s eta 0:00:01\r",
      "\u001b[K     |███████████████████████████████▉| 81kB 2.8MB/s eta 0:00:01\r",
      "\u001b[K     |████████████████████████████████| 92kB 2.3MB/s \n",
      "\u001b[?25hCollecting update-checker>=0.16\n",
      "  Downloading https://files.pythonhosted.org/packages/0c/ba/8dd7fa5f0b1c6a8ac62f8f57f7e794160c1f86f31c6d0fb00f582372a3e4/update_checker-0.18.0-py3-none-any.whl\n",
      "Requirement already satisfied: joblib>=0.13.2 in /usr/local/lib/python3.6/dist-packages (from tpot) (0.16.0)\n",
      "Collecting deap>=1.2\n",
      "\u001b[?25l  Downloading https://files.pythonhosted.org/packages/0a/eb/2bd0a32e3ce757fb26264765abbaedd6d4d3640d90219a513aeabd08ee2b/deap-1.3.1-cp36-cp36m-manylinux2010_x86_64.whl (157kB)\n",
      "\u001b[K     |████████████████████████████████| 163kB 8.5MB/s \n",
      "\u001b[?25hCollecting stopit>=1.1.1\n",
      "  Downloading https://files.pythonhosted.org/packages/35/58/e8bb0b0fb05baf07bbac1450c447d753da65f9701f551dca79823ce15d50/stopit-1.1.2.tar.gz\n",
      "Requirement already satisfied: pandas>=0.24.2 in /usr/local/lib/python3.6/dist-packages (from tpot) (1.0.5)\n",
      "Requirement already satisfied: scipy>=1.3.1 in /usr/local/lib/python3.6/dist-packages (from tpot) (1.4.1)\n",
      "Requirement already satisfied: scikit-learn>=0.22.0 in /usr/local/lib/python3.6/dist-packages (from tpot) (0.22.2.post1)\n",
      "Requirement already satisfied: tqdm>=4.36.1 in /usr/local/lib/python3.6/dist-packages (from tpot) (4.41.1)\n",
      "Requirement already satisfied: numpy>=1.16.3 in /usr/local/lib/python3.6/dist-packages (from tpot) (1.18.5)\n",
      "Requirement already satisfied: requests>=2.3.0 in /usr/local/lib/python3.6/dist-packages (from update-checker>=0.16->tpot) (2.23.0)\n",
      "Requirement already satisfied: python-dateutil>=2.6.1 in /usr/local/lib/python3.6/dist-packages (from pandas>=0.24.2->tpot) (2.8.1)\n",
      "Requirement already satisfied: pytz>=2017.2 in /usr/local/lib/python3.6/dist-packages (from pandas>=0.24.2->tpot) (2018.9)\n",
      "Requirement already satisfied: urllib3!=1.25.0,!=1.25.1,<1.26,>=1.21.1 in /usr/local/lib/python3.6/dist-packages (from requests>=2.3.0->update-checker>=0.16->tpot) (1.24.3)\n",
      "Requirement already satisfied: certifi>=2017.4.17 in /usr/local/lib/python3.6/dist-packages (from requests>=2.3.0->update-checker>=0.16->tpot) (2020.6.20)\n",
      "Requirement already satisfied: idna<3,>=2.5 in /usr/local/lib/python3.6/dist-packages (from requests>=2.3.0->update-checker>=0.16->tpot) (2.10)\n",
      "Requirement already satisfied: chardet<4,>=3.0.2 in /usr/local/lib/python3.6/dist-packages (from requests>=2.3.0->update-checker>=0.16->tpot) (3.0.4)\n",
      "Requirement already satisfied: six>=1.5 in /usr/local/lib/python3.6/dist-packages (from python-dateutil>=2.6.1->pandas>=0.24.2->tpot) (1.15.0)\n",
      "Building wheels for collected packages: stopit\n",
      "  Building wheel for stopit (setup.py) ... \u001b[?25l\u001b[?25hdone\n",
      "  Created wheel for stopit: filename=stopit-1.1.2-cp36-none-any.whl size=11956 sha256=d3a814495c8abae0c83b44141ee4b19670d7f9348ea50cf6a4c6bd85e3ed102d\n",
      "  Stored in directory: /root/.cache/pip/wheels/3c/85/2b/2580190404636bfc63e8de3dff629c03bb795021e1983a6cc7\n",
      "Successfully built stopit\n",
      "Installing collected packages: update-checker, deap, stopit, tpot\n",
      "Successfully installed deap-1.3.1 stopit-1.1.2 tpot-0.11.5 update-checker-0.18.0\n"
     ]
    }
   ],
   "source": [
    "pip install tpot"
   ]
  },
  {
   "cell_type": "code",
   "execution_count": 30,
   "metadata": {
    "colab": {},
    "colab_type": "code",
    "id": "4x2HVXT0uBvD"
   },
   "outputs": [],
   "source": [
    "from tpot import TPOTClassifier"
   ]
  },
  {
   "cell_type": "code",
   "execution_count": 33,
   "metadata": {
    "colab": {
     "base_uri": "https://localhost:8080/",
     "height": 870,
     "referenced_widgets": [
      "4f8f0c1517c0493f9c36ed807e418d18",
      "1e6bcec4fe7f4de2be84f8010f8e4497",
      "854c98689e254147bed6f4efe0720b63",
      "258bdd8fd96845fbb561a9fc1f6cff6a",
      "42e0476f39cd4ce1820d61c67ce1f0c3",
      "5436e124452f45838e55e514ceadbbe6",
      "ea365a69b7144638b6d8014d406ea56d",
      "275816583b8a41c78658780a5b07b1e1"
     ]
    },
    "colab_type": "code",
    "id": "32cBbYort9sj",
    "outputId": "2c6c67ef-0594-465d-a2f7-2735120e911a"
   },
   "outputs": [
    {
     "data": {
      "application/vnd.jupyter.widget-view+json": {
       "model_id": "4f8f0c1517c0493f9c36ed807e418d18",
       "version_major": 2,
       "version_minor": 0
      },
      "text/plain": [
       "HBox(children=(FloatProgress(value=0.0, description='Optimization Progress', max=84.0, style=ProgressStyle(des…"
      ]
     },
     "metadata": {
      "tags": []
     },
     "output_type": "display_data"
    },
    {
     "name": "stdout",
     "output_type": "stream",
     "text": [
      "\n",
      "Generation 1 - Current best internal CV score: 0.7654723127035831\n",
      "Generation 2 - Current best internal CV score: 0.7671009771986971\n",
      "Generation 3 - Current best internal CV score: 0.7671009771986971\n",
      "Generation 4 - Current best internal CV score: 0.7671009771986971\n",
      "\n",
      "Best pipeline: RandomForestClassifier(CombineDFs(input_matrix, input_matrix), criterion=entropy, max_depth=780, max_features=sqrt, min_samples_leaf=2, min_samples_split=2, n_estimators=400)\n"
     ]
    },
    {
     "data": {
      "text/plain": [
       "TPOTClassifier(config_dict={'sklearn.ensemble.RandomForestClassifier': {'criterion': ['entropy',\n",
       "                                                                                      'gini'],\n",
       "                                                                        'max_depth': [10,\n",
       "                                                                                      120,\n",
       "                                                                                      230,\n",
       "                                                                                      340,\n",
       "                                                                                      450,\n",
       "                                                                                      560,\n",
       "                                                                                      670,\n",
       "                                                                                      780,\n",
       "                                                                                      890,\n",
       "                                                                                      1000],\n",
       "                                                                        'max_features': ['auto',\n",
       "                                                                                         'sqrt',\n",
       "                                                                                         'log2'],\n",
       "                                                                        'min_samples_leaf': [1,\n",
       "                                                                                             2,\n",
       "                                                                                             4,\n",
       "                                                                                             6,\n",
       "                                                                                             8],\n",
       "                                                                        'min_samples_split': [2,\n",
       "                                                                                              5,\n",
       "                                                                                              10,\n",
       "                                                                                              14],\n",
       "                                                                        'n_estimators': [200,\n",
       "                                                                                         400,\n",
       "                                                                                         600,\n",
       "                                                                                         800,\n",
       "                                                                                         1000,\n",
       "                                                                                         1200,\n",
       "                                                                                         1400,\n",
       "                                                                                         1600,\n",
       "                                                                                         1800,\n",
       "                                                                                         2000]}},\n",
       "               crossover_rate=0.1, cv=2, disa...se,\n",
       "               early_stop=12, generations=5,\n",
       "               log_file=<ipykernel.iostream.OutStream object at 0x7fc70d3e9b00>,\n",
       "               max_eval_time_mins=5, max_time_mins=None, memory=None,\n",
       "               mutation_rate=0.9, n_jobs=1, offspring_size=12,\n",
       "               periodic_checkpoint_folder=None, population_size=24,\n",
       "               random_state=None, scoring='accuracy', subsample=1.0,\n",
       "               template=None, use_dask=False, verbosity=2, warm_start=False)"
      ]
     },
     "execution_count": 33,
     "metadata": {
      "tags": []
     },
     "output_type": "execute_result"
    }
   ],
   "source": [
    "tpot_classifier = TPOTClassifier(generations= 5, population_size= 24, offspring_size= 12,\n",
    "                                 verbosity= 2, early_stop= 12,\n",
    "                                 config_dict={'sklearn.ensemble.RandomForestClassifier': param}, \n",
    "                                 cv = 2, scoring = 'accuracy')\n",
    "## cv=4\n",
    "tpot_classifier.fit(X_train,y_train)"
   ]
  },
  {
   "cell_type": "code",
   "execution_count": 34,
   "metadata": {
    "colab": {
     "base_uri": "https://localhost:8080/",
     "height": 34
    },
    "colab_type": "code",
    "id": "mUjdwAxjRnSB",
    "outputId": "670f7b72-1246-44f6-a340-2cc29cf35e13"
   },
   "outputs": [
    {
     "name": "stdout",
     "output_type": "stream",
     "text": [
      "0.8246753246753247\n"
     ]
    }
   ],
   "source": [
    "\n",
    "accuracy = tpot_classifier.score(X_test, y_test)\n",
    "print(accuracy)"
   ]
  },
  {
   "cell_type": "markdown",
   "metadata": {
    "colab_type": "text",
    "id": "hKxs9Hv9RnSL"
   },
   "source": [
    "## 5.Optimize hyperparameters of the model using Optuna\n",
    "\n",
    "The hyperparameters of the above algorithm are `n_estimators` and `max_depth` for which we can try different values to see if the model accuracy can be improved. The `objective` function is modified to accept a trial object. This trial has several methods for sampling hyperparameters. We create a study to run the hyperparameter optimization and finally read the best hyperparameters."
   ]
  },
  {
   "cell_type": "code",
   "execution_count": 36,
   "metadata": {
    "colab": {
     "base_uri": "https://localhost:8080/",
     "height": 1000
    },
    "colab_type": "code",
    "id": "okvyIz6jyofq",
    "outputId": "53b476bf-0dde-4133-a999-7b09690273ee"
   },
   "outputs": [
    {
     "name": "stdout",
     "output_type": "stream",
     "text": [
      "Collecting optuna\n",
      "\u001b[?25l  Downloading https://files.pythonhosted.org/packages/06/b0/9a6313c78bca92abfacc08a2ad8b27bfe845256f615786ee2b6452ae1978/optuna-2.0.0.tar.gz (226kB)\n",
      "\r",
      "\u001b[K     |█▍                              | 10kB 20.7MB/s eta 0:00:01\r",
      "\u001b[K     |██▉                             | 20kB 1.7MB/s eta 0:00:01\r",
      "\u001b[K     |████▎                           | 30kB 2.2MB/s eta 0:00:01\r",
      "\u001b[K     |█████▊                          | 40kB 2.4MB/s eta 0:00:01\r",
      "\u001b[K     |███████▏                        | 51kB 1.9MB/s eta 0:00:01\r",
      "\u001b[K     |████████▋                       | 61kB 2.2MB/s eta 0:00:01\r",
      "\u001b[K     |██████████                      | 71kB 2.4MB/s eta 0:00:01\r",
      "\u001b[K     |███████████▌                    | 81kB 2.6MB/s eta 0:00:01\r",
      "\u001b[K     |█████████████                   | 92kB 2.8MB/s eta 0:00:01\r",
      "\u001b[K     |██████████████▍                 | 102kB 2.7MB/s eta 0:00:01\r",
      "\u001b[K     |███████████████▉                | 112kB 2.7MB/s eta 0:00:01\r",
      "\u001b[K     |█████████████████▎              | 122kB 2.7MB/s eta 0:00:01\r",
      "\u001b[K     |██████████████████▊             | 133kB 2.7MB/s eta 0:00:01\r",
      "\u001b[K     |████████████████████▏           | 143kB 2.7MB/s eta 0:00:01\r",
      "\u001b[K     |█████████████████████▋          | 153kB 2.7MB/s eta 0:00:01\r",
      "\u001b[K     |███████████████████████         | 163kB 2.7MB/s eta 0:00:01\r",
      "\u001b[K     |████████████████████████▌       | 174kB 2.7MB/s eta 0:00:01\r",
      "\u001b[K     |██████████████████████████      | 184kB 2.7MB/s eta 0:00:01\r",
      "\u001b[K     |███████████████████████████▍    | 194kB 2.7MB/s eta 0:00:01\r",
      "\u001b[K     |████████████████████████████▉   | 204kB 2.7MB/s eta 0:00:01\r",
      "\u001b[K     |██████████████████████████████▎ | 215kB 2.7MB/s eta 0:00:01\r",
      "\u001b[K     |███████████████████████████████▊| 225kB 2.7MB/s eta 0:00:01\r",
      "\u001b[K     |████████████████████████████████| 235kB 2.7MB/s \n",
      "\u001b[?25hCollecting alembic\n",
      "\u001b[?25l  Downloading https://files.pythonhosted.org/packages/60/1e/cabc75a189de0fbb2841d0975243e59bde8b7822bacbb95008ac6fe9ad47/alembic-1.4.2.tar.gz (1.1MB)\n",
      "\r",
      "\u001b[K     |▎                               | 10kB 23.4MB/s eta 0:00:01\r",
      "\u001b[K     |▋                               | 20kB 18.2MB/s eta 0:00:01\r",
      "\u001b[K     |█                               | 30kB 23.4MB/s eta 0:00:01\r",
      "\u001b[K     |█▏                              | 40kB 14.2MB/s eta 0:00:01\r",
      "\u001b[K     |█▌                              | 51kB 10.8MB/s eta 0:00:01\r",
      "\u001b[K     |█▉                              | 61kB 12.4MB/s eta 0:00:01\r",
      "\u001b[K     |██                              | 71kB 10.4MB/s eta 0:00:01\r",
      "\u001b[K     |██▍                             | 81kB 11.4MB/s eta 0:00:01\r",
      "\u001b[K     |██▊                             | 92kB 11.8MB/s eta 0:00:01\r",
      "\u001b[K     |███                             | 102kB 8.4MB/s eta 0:00:01\r",
      "\u001b[K     |███▎                            | 112kB 8.4MB/s eta 0:00:01\r",
      "\u001b[K     |███▋                            | 122kB 8.4MB/s eta 0:00:01\r",
      "\u001b[K     |████                            | 133kB 8.4MB/s eta 0:00:01\r",
      "\u001b[K     |████▏                           | 143kB 8.4MB/s eta 0:00:01\r",
      "\u001b[K     |████▌                           | 153kB 8.4MB/s eta 0:00:01\r",
      "\u001b[K     |████▉                           | 163kB 8.4MB/s eta 0:00:01\r",
      "\u001b[K     |█████                           | 174kB 8.4MB/s eta 0:00:01\r",
      "\u001b[K     |█████▍                          | 184kB 8.4MB/s eta 0:00:01\r",
      "\u001b[K     |█████▊                          | 194kB 8.4MB/s eta 0:00:01\r",
      "\u001b[K     |██████                          | 204kB 8.4MB/s eta 0:00:01\r",
      "\u001b[K     |██████▎                         | 215kB 8.4MB/s eta 0:00:01\r",
      "\u001b[K     |██████▋                         | 225kB 8.4MB/s eta 0:00:01\r",
      "\u001b[K     |███████                         | 235kB 8.4MB/s eta 0:00:01\r",
      "\u001b[K     |███████▏                        | 245kB 8.4MB/s eta 0:00:01\r",
      "\u001b[K     |███████▌                        | 256kB 8.4MB/s eta 0:00:01\r",
      "\u001b[K     |███████▉                        | 266kB 8.4MB/s eta 0:00:01\r",
      "\u001b[K     |████████                        | 276kB 8.4MB/s eta 0:00:01\r",
      "\u001b[K     |████████▍                       | 286kB 8.4MB/s eta 0:00:01\r",
      "\u001b[K     |████████▊                       | 296kB 8.4MB/s eta 0:00:01\r",
      "\u001b[K     |█████████                       | 307kB 8.4MB/s eta 0:00:01\r",
      "\u001b[K     |█████████▎                      | 317kB 8.4MB/s eta 0:00:01\r",
      "\u001b[K     |█████████▋                      | 327kB 8.4MB/s eta 0:00:01\r",
      "\u001b[K     |██████████                      | 337kB 8.4MB/s eta 0:00:01\r",
      "\u001b[K     |██████████▏                     | 348kB 8.4MB/s eta 0:00:01\r",
      "\u001b[K     |██████████▌                     | 358kB 8.4MB/s eta 0:00:01\r",
      "\u001b[K     |██████████▉                     | 368kB 8.4MB/s eta 0:00:01\r",
      "\u001b[K     |███████████                     | 378kB 8.4MB/s eta 0:00:01\r",
      "\u001b[K     |███████████▍                    | 389kB 8.4MB/s eta 0:00:01\r",
      "\u001b[K     |███████████▊                    | 399kB 8.4MB/s eta 0:00:01\r",
      "\u001b[K     |████████████                    | 409kB 8.4MB/s eta 0:00:01\r",
      "\u001b[K     |████████████▎                   | 419kB 8.4MB/s eta 0:00:01\r",
      "\u001b[K     |████████████▋                   | 430kB 8.4MB/s eta 0:00:01\r",
      "\u001b[K     |█████████████                   | 440kB 8.4MB/s eta 0:00:01\r",
      "\u001b[K     |█████████████▏                  | 450kB 8.4MB/s eta 0:00:01\r",
      "\u001b[K     |█████████████▌                  | 460kB 8.4MB/s eta 0:00:01\r",
      "\u001b[K     |█████████████▉                  | 471kB 8.4MB/s eta 0:00:01\r",
      "\u001b[K     |██████████████                  | 481kB 8.4MB/s eta 0:00:01\r",
      "\u001b[K     |██████████████▍                 | 491kB 8.4MB/s eta 0:00:01\r",
      "\u001b[K     |██████████████▊                 | 501kB 8.4MB/s eta 0:00:01\r",
      "\u001b[K     |███████████████                 | 512kB 8.4MB/s eta 0:00:01\r",
      "\u001b[K     |███████████████▎                | 522kB 8.4MB/s eta 0:00:01\r",
      "\u001b[K     |███████████████▋                | 532kB 8.4MB/s eta 0:00:01\r",
      "\u001b[K     |████████████████                | 542kB 8.4MB/s eta 0:00:01\r",
      "\u001b[K     |████████████████▏               | 552kB 8.4MB/s eta 0:00:01\r",
      "\u001b[K     |████████████████▌               | 563kB 8.4MB/s eta 0:00:01\r",
      "\u001b[K     |████████████████▉               | 573kB 8.4MB/s eta 0:00:01\r",
      "\u001b[K     |█████████████████               | 583kB 8.4MB/s eta 0:00:01\r",
      "\u001b[K     |█████████████████▍              | 593kB 8.4MB/s eta 0:00:01\r",
      "\u001b[K     |█████████████████▊              | 604kB 8.4MB/s eta 0:00:01\r",
      "\u001b[K     |██████████████████              | 614kB 8.4MB/s eta 0:00:01\r",
      "\u001b[K     |██████████████████▎             | 624kB 8.4MB/s eta 0:00:01\r",
      "\u001b[K     |██████████████████▋             | 634kB 8.4MB/s eta 0:00:01\r",
      "\u001b[K     |███████████████████             | 645kB 8.4MB/s eta 0:00:01\r",
      "\u001b[K     |███████████████████▏            | 655kB 8.4MB/s eta 0:00:01\r",
      "\u001b[K     |███████████████████▌            | 665kB 8.4MB/s eta 0:00:01\r",
      "\u001b[K     |███████████████████▉            | 675kB 8.4MB/s eta 0:00:01\r",
      "\u001b[K     |████████████████████            | 686kB 8.4MB/s eta 0:00:01\r",
      "\u001b[K     |████████████████████▍           | 696kB 8.4MB/s eta 0:00:01\r",
      "\u001b[K     |████████████████████▊           | 706kB 8.4MB/s eta 0:00:01\r",
      "\u001b[K     |█████████████████████           | 716kB 8.4MB/s eta 0:00:01\r",
      "\u001b[K     |█████████████████████▎          | 727kB 8.4MB/s eta 0:00:01\r",
      "\u001b[K     |█████████████████████▋          | 737kB 8.4MB/s eta 0:00:01\r",
      "\u001b[K     |██████████████████████          | 747kB 8.4MB/s eta 0:00:01\r",
      "\u001b[K     |██████████████████████▏         | 757kB 8.4MB/s eta 0:00:01\r",
      "\u001b[K     |██████████████████████▌         | 768kB 8.4MB/s eta 0:00:01\r",
      "\u001b[K     |██████████████████████▉         | 778kB 8.4MB/s eta 0:00:01\r",
      "\u001b[K     |███████████████████████         | 788kB 8.4MB/s eta 0:00:01\r",
      "\u001b[K     |███████████████████████▍        | 798kB 8.4MB/s eta 0:00:01\r",
      "\u001b[K     |███████████████████████▊        | 808kB 8.4MB/s eta 0:00:01\r",
      "\u001b[K     |████████████████████████        | 819kB 8.4MB/s eta 0:00:01\r",
      "\u001b[K     |████████████████████████▎       | 829kB 8.4MB/s eta 0:00:01\r",
      "\u001b[K     |████████████████████████▋       | 839kB 8.4MB/s eta 0:00:01\r",
      "\u001b[K     |█████████████████████████       | 849kB 8.4MB/s eta 0:00:01\r",
      "\u001b[K     |█████████████████████████▏      | 860kB 8.4MB/s eta 0:00:01\r",
      "\u001b[K     |█████████████████████████▌      | 870kB 8.4MB/s eta 0:00:01\r",
      "\u001b[K     |█████████████████████████▉      | 880kB 8.4MB/s eta 0:00:01\r",
      "\u001b[K     |██████████████████████████      | 890kB 8.4MB/s eta 0:00:01\r",
      "\u001b[K     |██████████████████████████▍     | 901kB 8.4MB/s eta 0:00:01\r",
      "\u001b[K     |██████████████████████████▊     | 911kB 8.4MB/s eta 0:00:01\r",
      "\u001b[K     |███████████████████████████     | 921kB 8.4MB/s eta 0:00:01\r",
      "\u001b[K     |███████████████████████████▎    | 931kB 8.4MB/s eta 0:00:01\r",
      "\u001b[K     |███████████████████████████▋    | 942kB 8.4MB/s eta 0:00:01\r",
      "\u001b[K     |████████████████████████████    | 952kB 8.4MB/s eta 0:00:01\r",
      "\u001b[K     |████████████████████████████▏   | 962kB 8.4MB/s eta 0:00:01\r",
      "\u001b[K     |████████████████████████████▌   | 972kB 8.4MB/s eta 0:00:01\r",
      "\u001b[K     |████████████████████████████▉   | 983kB 8.4MB/s eta 0:00:01\r",
      "\u001b[K     |█████████████████████████████   | 993kB 8.4MB/s eta 0:00:01\r",
      "\u001b[K     |█████████████████████████████▍  | 1.0MB 8.4MB/s eta 0:00:01\r",
      "\u001b[K     |█████████████████████████████▊  | 1.0MB 8.4MB/s eta 0:00:01\r",
      "\u001b[K     |██████████████████████████████  | 1.0MB 8.4MB/s eta 0:00:01\r",
      "\u001b[K     |██████████████████████████████▎ | 1.0MB 8.4MB/s eta 0:00:01\r",
      "\u001b[K     |██████████████████████████████▋ | 1.0MB 8.4MB/s eta 0:00:01\r",
      "\u001b[K     |███████████████████████████████ | 1.1MB 8.4MB/s eta 0:00:01\r",
      "\u001b[K     |███████████████████████████████▏| 1.1MB 8.4MB/s eta 0:00:01\r",
      "\u001b[K     |███████████████████████████████▌| 1.1MB 8.4MB/s eta 0:00:01\r",
      "\u001b[K     |███████████████████████████████▉| 1.1MB 8.4MB/s eta 0:00:01\r",
      "\u001b[K     |████████████████████████████████| 1.1MB 8.4MB/s \n",
      "\u001b[?25h  Installing build dependencies ... \u001b[?25l\u001b[?25hdone\n",
      "  Getting requirements to build wheel ... \u001b[?25l\u001b[?25hdone\n",
      "    Preparing wheel metadata ... \u001b[?25l\u001b[?25hdone\n",
      "Collecting cliff\n",
      "\u001b[?25l  Downloading https://files.pythonhosted.org/packages/71/06/03b1f92d46546a18eabf33ff7f37ef422c18c93d5a926bf590fee32ebe75/cliff-3.4.0-py3-none-any.whl (76kB)\n",
      "\u001b[K     |████████████████████████████████| 81kB 6.5MB/s \n",
      "\u001b[?25hCollecting cmaes>=0.5.1\n",
      "  Downloading https://files.pythonhosted.org/packages/63/88/d5e9b78151dce671d7e78ee4cc8905d83208254caa2a386b163ae0ab0027/cmaes-0.6.0-py3-none-any.whl\n",
      "Collecting colorlog\n",
      "  Downloading https://files.pythonhosted.org/packages/2a/81/12d77537c82c5d46aa2721dfee25a0e873ef5920ebd0827152f411effb57/colorlog-4.2.1-py2.py3-none-any.whl\n",
      "Requirement already satisfied: joblib in /usr/local/lib/python3.6/dist-packages (from optuna) (0.16.0)\n",
      "Requirement already satisfied: numpy in /usr/local/lib/python3.6/dist-packages (from optuna) (1.18.5)\n",
      "Requirement already satisfied: packaging in /usr/local/lib/python3.6/dist-packages (from optuna) (20.4)\n",
      "Requirement already satisfied: scipy!=1.4.0 in /usr/local/lib/python3.6/dist-packages (from optuna) (1.4.1)\n",
      "Requirement already satisfied: sqlalchemy>=1.1.0 in /usr/local/lib/python3.6/dist-packages (from optuna) (1.3.18)\n",
      "Requirement already satisfied: tqdm in /usr/local/lib/python3.6/dist-packages (from optuna) (4.41.1)\n",
      "Collecting python-editor>=0.3\n",
      "  Downloading https://files.pythonhosted.org/packages/c6/d3/201fc3abe391bbae6606e6f1d598c15d367033332bd54352b12f35513717/python_editor-1.0.4-py3-none-any.whl\n",
      "Requirement already satisfied: python-dateutil in /usr/local/lib/python3.6/dist-packages (from alembic->optuna) (2.8.1)\n",
      "Collecting Mako\n",
      "\u001b[?25l  Downloading https://files.pythonhosted.org/packages/a6/37/0e706200d22172eb8fa17d68a7ae22dec7631a0a92266634fb518a88a5b2/Mako-1.1.3-py2.py3-none-any.whl (75kB)\n",
      "\u001b[K     |████████████████████████████████| 81kB 7.9MB/s \n",
      "\u001b[?25hCollecting pbr!=2.1.0,>=2.0.0\n",
      "\u001b[?25l  Downloading https://files.pythonhosted.org/packages/96/ba/aa953a11ec014b23df057ecdbc922fdb40ca8463466b1193f3367d2711a6/pbr-5.4.5-py2.py3-none-any.whl (110kB)\n",
      "\u001b[K     |████████████████████████████████| 112kB 16.4MB/s \n",
      "\u001b[?25hCollecting stevedore>=2.0.1\n",
      "\u001b[?25l  Downloading https://files.pythonhosted.org/packages/d6/f4/041afc90e684f2b7d00a7f49abcbaf0b8c03e916bbc398ce49dce2a3c408/stevedore-3.2.0-py3-none-any.whl (42kB)\n",
      "\u001b[K     |████████████████████████████████| 51kB 6.8MB/s \n",
      "\u001b[?25hRequirement already satisfied: six>=1.10.0 in /usr/local/lib/python3.6/dist-packages (from cliff->optuna) (1.15.0)\n",
      "Requirement already satisfied: PrettyTable<0.8,>=0.7.2 in /usr/local/lib/python3.6/dist-packages (from cliff->optuna) (0.7.2)\n",
      "Collecting cmd2!=0.8.3,>=0.8.0\n",
      "\u001b[?25l  Downloading https://files.pythonhosted.org/packages/72/db/1d2e8ac038324b6b0ba3d5892185f91594152ad39e4b2fbff46792aaeac7/cmd2-1.3.3-py3-none-any.whl (130kB)\n",
      "\u001b[K     |████████████████████████████████| 133kB 16.4MB/s \n",
      "\u001b[?25hRequirement already satisfied: PyYAML>=3.12 in /usr/local/lib/python3.6/dist-packages (from cliff->optuna) (3.13)\n",
      "Requirement already satisfied: pyparsing>=2.1.0 in /usr/local/lib/python3.6/dist-packages (from cliff->optuna) (2.4.7)\n",
      "Requirement already satisfied: MarkupSafe>=0.9.2 in /usr/local/lib/python3.6/dist-packages (from Mako->alembic->optuna) (1.1.1)\n",
      "Requirement already satisfied: importlib-metadata>=1.7.0; python_version < \"3.8\" in /usr/local/lib/python3.6/dist-packages (from stevedore>=2.0.1->cliff->optuna) (1.7.0)\n",
      "Collecting colorama>=0.3.7\n",
      "  Downloading https://files.pythonhosted.org/packages/c9/dc/45cdef1b4d119eb96316b3117e6d5708a08029992b2fee2c143c7a0a5cc5/colorama-0.4.3-py2.py3-none-any.whl\n",
      "Requirement already satisfied: attrs>=16.3.0 in /usr/local/lib/python3.6/dist-packages (from cmd2!=0.8.3,>=0.8.0->cliff->optuna) (19.3.0)\n",
      "Requirement already satisfied: setuptools>=34.4 in /usr/local/lib/python3.6/dist-packages (from cmd2!=0.8.3,>=0.8.0->cliff->optuna) (49.2.0)\n",
      "Requirement already satisfied: wcwidth>=0.1.7 in /usr/local/lib/python3.6/dist-packages (from cmd2!=0.8.3,>=0.8.0->cliff->optuna) (0.2.5)\n",
      "Collecting pyperclip>=1.6\n",
      "  Downloading https://files.pythonhosted.org/packages/f6/5b/55866e1cde0f86f5eec59dab5de8a66628cb0d53da74b8dbc15ad8dabda3/pyperclip-1.8.0.tar.gz\n",
      "Requirement already satisfied: zipp>=0.5 in /usr/local/lib/python3.6/dist-packages (from importlib-metadata>=1.7.0; python_version < \"3.8\"->stevedore>=2.0.1->cliff->optuna) (3.1.0)\n",
      "Building wheels for collected packages: alembic\n",
      "  Building wheel for alembic (PEP 517) ... \u001b[?25l\u001b[?25hdone\n",
      "  Created wheel for alembic: filename=alembic-1.4.2-cp36-none-any.whl size=159543 sha256=13ccd173c31d6ca6105feb58cc24eddde0c0fe656b10caf777d39adfc297276b\n",
      "  Stored in directory: /root/.cache/pip/wheels/1f/04/83/76023f7a4c14688c0b5c2682a96392cfdd3ee4449eaaa287ef\n",
      "Successfully built alembic\n",
      "Building wheels for collected packages: optuna, pyperclip\n",
      "  Building wheel for optuna (setup.py) ... \u001b[?25l\u001b[?25hdone\n",
      "  Created wheel for optuna: filename=optuna-2.0.0-cp36-none-any.whl size=312964 sha256=42a714d987a996a5902af22c0d7d0a4d396683b284492748919081c4a0d16b2f\n",
      "  Stored in directory: /root/.cache/pip/wheels/b5/c9/03/c45484454bf657ffed0ed6af153bd3d213928df115eb2a56eb\n",
      "  Building wheel for pyperclip (setup.py) ... \u001b[?25l\u001b[?25hdone\n",
      "  Created wheel for pyperclip: filename=pyperclip-1.8.0-cp36-none-any.whl size=8693 sha256=557efdd8ef589a1755fb4da6ddabcd2f5d58f2b411b20662ae5f19f5d78f622e\n",
      "  Stored in directory: /root/.cache/pip/wheels/b2/ac/0a/b784f0afe26eaf52e88a7e15c7369090deea0354fa1c6fc689\n",
      "Successfully built optuna pyperclip\n",
      "Installing collected packages: python-editor, Mako, alembic, pbr, stevedore, colorama, pyperclip, cmd2, cliff, cmaes, colorlog, optuna\n",
      "Successfully installed Mako-1.1.3 alembic-1.4.2 cliff-3.4.0 cmaes-0.6.0 cmd2-1.3.3 colorama-0.4.3 colorlog-4.2.1 optuna-2.0.0 pbr-5.4.5 pyperclip-1.8.0 python-editor-1.0.4 stevedore-3.2.0\n"
     ]
    }
   ],
   "source": [
    "pip install optuna"
   ]
  },
  {
   "cell_type": "code",
   "execution_count": 37,
   "metadata": {
    "colab": {},
    "colab_type": "code",
    "id": "boxWT429RnSN"
   },
   "outputs": [],
   "source": [
    "import optuna\n",
    "import sklearn.svm\n",
    "def objective(trial):\n",
    "\n",
    "    classifier = trial.suggest_categorical('classifier', ['RandomForest', 'SVC'])\n",
    "    \n",
    "    if classifier == 'RandomForest':\n",
    "        n_estimators = trial.suggest_int('n_estimators', 200, 2000,10)\n",
    "        max_depth = int(trial.suggest_float('max_depth', 10, 100, log=True))\n",
    "\n",
    "        clf = sklearn.ensemble.RandomForestClassifier(\n",
    "            n_estimators=n_estimators, max_depth=max_depth)\n",
    "    else:\n",
    "        c = trial.suggest_float('svc_c', 1e-10, 1e10, log=True)\n",
    "        \n",
    "        clf = sklearn.svm.SVC(C=c, gamma='auto')\n",
    "\n",
    "    return sklearn.model_selection.cross_val_score(\n",
    "        clf,X_train,y_train, n_jobs=1, cv=3).mean()\n"
   ]
  },
  {
   "cell_type": "code",
   "execution_count": 39,
   "metadata": {
    "colab": {
     "base_uri": "https://localhost:8080/",
     "height": 1000
    },
    "colab_type": "code",
    "id": "3Hd24tsYRnSX",
    "outputId": "35b45d4b-8024-43f4-bffc-4649b7f5efbf"
   },
   "outputs": [
    {
     "name": "stderr",
     "output_type": "stream",
     "text": [
      "[I 2020-08-14 07:18:06,105] Trial 0 finished with value: 0.640068547744301 and parameters: {'classifier': 'SVC', 'svc_c': 224847.96406765285}. Best is trial 0 with value: 0.640068547744301.\n",
      "[I 2020-08-14 07:18:16,868] Trial 1 finished with value: 0.7475530049418141 and parameters: {'classifier': 'RandomForest', 'n_estimators': 1940, 'max_depth': 57.63539121918817}. Best is trial 1 with value: 0.7475530049418141.\n",
      "[I 2020-08-14 07:18:16,928] Trial 2 finished with value: 0.640068547744301 and parameters: {'classifier': 'SVC', 'svc_c': 0.2610625991964938}. Best is trial 1 with value: 0.7475530049418141.\n",
      "[I 2020-08-14 07:18:24,804] Trial 3 finished with value: 0.744293001753547 and parameters: {'classifier': 'RandomForest', 'n_estimators': 1400, 'max_depth': 17.41481092884378}. Best is trial 1 with value: 0.7475530049418141.\n",
      "[I 2020-08-14 07:18:24,850] Trial 4 finished with value: 0.640068547744301 and parameters: {'classifier': 'SVC', 'svc_c': 1.0315395799976322e-05}. Best is trial 1 with value: 0.7475530049418141.\n",
      "[I 2020-08-14 07:18:24,894] Trial 5 finished with value: 0.640068547744301 and parameters: {'classifier': 'SVC', 'svc_c': 3.167064714064089e-09}. Best is trial 1 with value: 0.7475530049418141.\n",
      "[I 2020-08-14 07:18:24,956] Trial 6 finished with value: 0.640068547744301 and parameters: {'classifier': 'SVC', 'svc_c': 5802604.090799495}. Best is trial 1 with value: 0.7475530049418141.\n",
      "[I 2020-08-14 07:18:25,013] Trial 7 finished with value: 0.640068547744301 and parameters: {'classifier': 'SVC', 'svc_c': 0.05196085581958837}. Best is trial 1 with value: 0.7475530049418141.\n",
      "[I 2020-08-14 07:18:31,280] Trial 8 finished with value: 0.7459190180137095 and parameters: {'classifier': 'RandomForest', 'n_estimators': 1120, 'max_depth': 21.673474761995216}. Best is trial 1 with value: 0.7475530049418141.\n",
      "[I 2020-08-14 07:18:31,352] Trial 9 finished with value: 0.640068547744301 and parameters: {'classifier': 'SVC', 'svc_c': 12099.76439613486}. Best is trial 1 with value: 0.7475530049418141.\n",
      "[I 2020-08-14 07:18:42,105] Trial 10 finished with value: 0.7508050374621393 and parameters: {'classifier': 'RandomForest', 'n_estimators': 1980, 'max_depth': 81.37056087192376}. Best is trial 10 with value: 0.7508050374621393.\n",
      "[I 2020-08-14 07:18:53,101] Trial 11 finished with value: 0.7540650406504065 and parameters: {'classifier': 'RandomForest', 'n_estimators': 1970, 'max_depth': 93.07389271040823}. Best is trial 11 with value: 0.7540650406504065.\n",
      "[I 2020-08-14 07:19:04,152] Trial 12 finished with value: 0.7508050374621393 and parameters: {'classifier': 'RandomForest', 'n_estimators': 1990, 'max_depth': 98.0671462392979}. Best is trial 11 with value: 0.7540650406504065.\n",
      "[I 2020-08-14 07:19:05,981] Trial 13 finished with value: 0.7459110473457676 and parameters: {'classifier': 'RandomForest', 'n_estimators': 320, 'max_depth': 94.4359571366923}. Best is trial 11 with value: 0.7540650406504065.\n",
      "[I 2020-08-14 07:19:15,733] Trial 14 finished with value: 0.7524310537223019 and parameters: {'classifier': 'RandomForest', 'n_estimators': 1760, 'max_depth': 48.45656393036446}. Best is trial 11 with value: 0.7540650406504065.\n",
      "[I 2020-08-14 07:19:24,535] Trial 15 finished with value: 0.7491790212019768 and parameters: {'classifier': 'RandomForest', 'n_estimators': 1580, 'max_depth': 40.788492103926565}. Best is trial 11 with value: 0.7540650406504065.\n",
      "[I 2020-08-14 07:19:26,660] Trial 16 finished with value: 0.7475370636059302 and parameters: {'classifier': 'RandomForest', 'n_estimators': 380, 'max_depth': 40.97598492095894}. Best is trial 11 with value: 0.7540650406504065.\n",
      "[I 2020-08-14 07:19:35,601] Trial 17 finished with value: 0.7540650406504065 and parameters: {'classifier': 'RandomForest', 'n_estimators': 1600, 'max_depth': 56.424309538358614}. Best is trial 11 with value: 0.7540650406504065.\n",
      "[I 2020-08-14 07:19:42,796] Trial 18 finished with value: 0.7573170731707317 and parameters: {'classifier': 'RandomForest', 'n_estimators': 1300, 'max_depth': 67.80741305578097}. Best is trial 18 with value: 0.7573170731707317.\n",
      "[I 2020-08-14 07:19:48,051] Trial 19 finished with value: 0.7507970667941973 and parameters: {'classifier': 'RandomForest', 'n_estimators': 960, 'max_depth': 10.535769589222502}. Best is trial 18 with value: 0.7573170731707317.\n",
      "[I 2020-08-14 07:19:54,509] Trial 20 finished with value: 0.7573091025027897 and parameters: {'classifier': 'RandomForest', 'n_estimators': 1160, 'max_depth': 63.831603999560286}. Best is trial 18 with value: 0.7573170731707317.\n",
      "[I 2020-08-14 07:20:00,867] Trial 21 finished with value: 0.7556910569105691 and parameters: {'classifier': 'RandomForest', 'n_estimators': 1150, 'max_depth': 65.50393423124251}. Best is trial 18 with value: 0.7573170731707317.\n",
      "[I 2020-08-14 07:20:06,480] Trial 22 finished with value: 0.7524390243902439 and parameters: {'classifier': 'RandomForest', 'n_estimators': 1020, 'max_depth': 69.32016765497889}. Best is trial 18 with value: 0.7573170731707317.\n",
      "[I 2020-08-14 07:20:10,311] Trial 23 finished with value: 0.7459269886816515 and parameters: {'classifier': 'RandomForest', 'n_estimators': 700, 'max_depth': 68.05328928260101}. Best is trial 18 with value: 0.7573170731707317.\n",
      "[I 2020-08-14 07:20:17,167] Trial 24 finished with value: 0.7540490993145226 and parameters: {'classifier': 'RandomForest', 'n_estimators': 1240, 'max_depth': 30.072812823807507}. Best is trial 18 with value: 0.7573170731707317.\n",
      "[I 2020-08-14 07:20:21,490] Trial 25 finished with value: 0.7508050374621393 and parameters: {'classifier': 'RandomForest', 'n_estimators': 770, 'max_depth': 68.27404981564011}. Best is trial 18 with value: 0.7573170731707317.\n",
      "[I 2020-08-14 07:20:29,044] Trial 26 finished with value: 0.7475530049418141 and parameters: {'classifier': 'RandomForest', 'n_estimators': 1350, 'max_depth': 32.504029721927886}. Best is trial 18 with value: 0.7573170731707317.\n",
      "[I 2020-08-14 07:20:33,629] Trial 27 finished with value: 0.7540650406504065 and parameters: {'classifier': 'RandomForest', 'n_estimators': 830, 'max_depth': 50.53715482616779}. Best is trial 18 with value: 0.7573170731707317.\n",
      "[I 2020-08-14 07:20:40,163] Trial 28 finished with value: 0.7491869918699187 and parameters: {'classifier': 'RandomForest', 'n_estimators': 1180, 'max_depth': 75.79867085635611}. Best is trial 18 with value: 0.7573170731707317.\n",
      "[I 2020-08-14 07:20:48,214] Trial 29 finished with value: 0.7475450342738722 and parameters: {'classifier': 'RandomForest', 'n_estimators': 1450, 'max_depth': 35.083000478389984}. Best is trial 18 with value: 0.7573170731707317.\n",
      "[I 2020-08-14 07:20:55,167] Trial 30 finished with value: 0.7540650406504065 and parameters: {'classifier': 'RandomForest', 'n_estimators': 1260, 'max_depth': 62.002871792829126}. Best is trial 18 with value: 0.7573170731707317.\n",
      "[I 2020-08-14 07:21:02,180] Trial 31 finished with value: 0.7524310537223019 and parameters: {'classifier': 'RandomForest', 'n_estimators': 1270, 'max_depth': 59.04667684734762}. Best is trial 18 with value: 0.7573170731707317.\n",
      "[I 2020-08-14 07:21:07,285] Trial 32 finished with value: 0.7508209787980232 and parameters: {'classifier': 'RandomForest', 'n_estimators': 900, 'max_depth': 45.61768625867142}. Best is trial 18 with value: 0.7573170731707317.\n",
      "[I 2020-08-14 07:21:13,104] Trial 33 finished with value: 0.7442770604176631 and parameters: {'classifier': 'RandomForest', 'n_estimators': 1040, 'max_depth': 83.42360239169402}. Best is trial 18 with value: 0.7573170731707317.\n",
      "[I 2020-08-14 07:21:21,547] Trial 34 finished with value: 0.7524310537223019 and parameters: {'classifier': 'RandomForest', 'n_estimators': 1530, 'max_depth': 62.044458584821776}. Best is trial 18 with value: 0.7573170731707317.\n",
      "[I 2020-08-14 07:21:29,878] Trial 35 finished with value: 0.7524310537223019 and parameters: {'classifier': 'RandomForest', 'n_estimators': 1520, 'max_depth': 53.49066312053467}. Best is trial 18 with value: 0.7573170731707317.\n",
      "[I 2020-08-14 07:21:38,819] Trial 36 finished with value: 0.7540650406504065 and parameters: {'classifier': 'RandomForest', 'n_estimators': 1620, 'max_depth': 80.4671887539867}. Best is trial 18 with value: 0.7573170731707317.\n",
      "[I 2020-08-14 07:21:42,058] Trial 37 finished with value: 0.7475609756097561 and parameters: {'classifier': 'RandomForest', 'n_estimators': 570, 'max_depth': 60.2327399079966}. Best is trial 18 with value: 0.7573170731707317.\n",
      "[I 2020-08-14 07:21:42,124] Trial 38 finished with value: 0.640068547744301 and parameters: {'classifier': 'SVC', 'svc_c': 9719647224.553757}. Best is trial 18 with value: 0.7573170731707317.\n",
      "[I 2020-08-14 07:21:49,297] Trial 39 finished with value: 0.7507970667941973 and parameters: {'classifier': 'RandomForest', 'n_estimators': 1270, 'max_depth': 41.201204654163604}. Best is trial 18 with value: 0.7573170731707317.\n",
      "[I 2020-08-14 07:21:49,350] Trial 40 finished with value: 0.640068547744301 and parameters: {'classifier': 'SVC', 'svc_c': 2.172079283321396e-09}. Best is trial 18 with value: 0.7573170731707317.\n",
      "[I 2020-08-14 07:21:53,987] Trial 41 finished with value: 0.7507970667941973 and parameters: {'classifier': 'RandomForest', 'n_estimators': 840, 'max_depth': 48.89869232634039}. Best is trial 18 with value: 0.7573170731707317.\n",
      "[I 2020-08-14 07:22:03,493] Trial 42 finished with value: 0.744293001753547 and parameters: {'classifier': 'RandomForest', 'n_estimators': 1730, 'max_depth': 81.3094196809051}. Best is trial 18 with value: 0.7573170731707317.\n",
      "[I 2020-08-14 07:22:09,706] Trial 43 finished with value: 0.7540650406504065 and parameters: {'classifier': 'RandomForest', 'n_estimators': 1120, 'max_depth': 51.626180669125574}. Best is trial 18 with value: 0.7573170731707317.\n",
      "[I 2020-08-14 07:22:17,403] Trial 44 finished with value: 0.7540570699824646 and parameters: {'classifier': 'RandomForest', 'n_estimators': 1380, 'max_depth': 74.49484522621087}. Best is trial 18 with value: 0.7573170731707317.\n",
      "[I 2020-08-14 07:22:27,114] Trial 45 finished with value: 0.7508130081300813 and parameters: {'classifier': 'RandomForest', 'n_estimators': 1750, 'max_depth': 99.56936228715911}. Best is trial 18 with value: 0.7573170731707317.\n",
      "[I 2020-08-14 07:22:30,351] Trial 46 finished with value: 0.7524310537223019 and parameters: {'classifier': 'RandomForest', 'n_estimators': 590, 'max_depth': 90.21158245956245}. Best is trial 18 with value: 0.7573170731707317.\n",
      "[I 2020-08-14 07:22:36,515] Trial 47 finished with value: 0.7459190180137095 and parameters: {'classifier': 'RandomForest', 'n_estimators': 1120, 'max_depth': 25.50118774634734}. Best is trial 18 with value: 0.7573170731707317.\n",
      "[I 2020-08-14 07:22:36,562] Trial 48 finished with value: 0.640068547744301 and parameters: {'classifier': 'SVC', 'svc_c': 0.00010525596766885178}. Best is trial 18 with value: 0.7573170731707317.\n",
      "[I 2020-08-14 07:22:45,500] Trial 49 finished with value: 0.7475370636059302 and parameters: {'classifier': 'RandomForest', 'n_estimators': 1610, 'max_depth': 84.70973153592935}. Best is trial 18 with value: 0.7573170731707317.\n",
      "[I 2020-08-14 07:22:51,150] Trial 50 finished with value: 0.75242308305436 and parameters: {'classifier': 'RandomForest', 'n_estimators': 1020, 'max_depth': 62.34371039080809}. Best is trial 18 with value: 0.7573170731707317.\n",
      "[I 2020-08-14 07:23:00,283] Trial 51 finished with value: 0.7507970667941973 and parameters: {'classifier': 'RandomForest', 'n_estimators': 1650, 'max_depth': 54.67994925700325}. Best is trial 18 with value: 0.7573170731707317.\n",
      "[I 2020-08-14 07:23:07,618] Trial 52 finished with value: 0.744300972421489 and parameters: {'classifier': 'RandomForest', 'n_estimators': 1330, 'max_depth': 65.05059672963206}. Best is trial 18 with value: 0.7573170731707317.\n",
      "[I 2020-08-14 07:23:17,911] Trial 53 finished with value: 0.7508050374621393 and parameters: {'classifier': 'RandomForest', 'n_estimators': 1870, 'max_depth': 98.01379493825485}. Best is trial 18 with value: 0.7573170731707317.\n",
      "[I 2020-08-14 07:23:28,652] Trial 54 finished with value: 0.7540570699824646 and parameters: {'classifier': 'RandomForest', 'n_estimators': 1930, 'max_depth': 76.6384644131964}. Best is trial 18 with value: 0.7573170731707317.\n",
      "[I 2020-08-14 07:23:35,040] Trial 55 finished with value: 0.7524390243902439 and parameters: {'classifier': 'RandomForest', 'n_estimators': 1140, 'max_depth': 50.3001227289916}. Best is trial 18 with value: 0.7573170731707317.\n",
      "[I 2020-08-14 07:23:40,190] Trial 56 finished with value: 0.7442770604176631 and parameters: {'classifier': 'RandomForest', 'n_estimators': 930, 'max_depth': 44.842144019122145}. Best is trial 18 with value: 0.7573170731707317.\n",
      "[I 2020-08-14 07:23:48,106] Trial 57 finished with value: 0.7507970667941973 and parameters: {'classifier': 'RandomForest', 'n_estimators': 1430, 'max_depth': 70.40779339473816}. Best is trial 18 with value: 0.7573170731707317.\n",
      "[I 2020-08-14 07:23:56,199] Trial 58 finished with value: 0.7589430894308943 and parameters: {'classifier': 'RandomForest', 'n_estimators': 1470, 'max_depth': 13.682332246140488}. Best is trial 58 with value: 0.7589430894308943.\n",
      "[I 2020-08-14 07:24:02,876] Trial 59 finished with value: 0.7524310537223019 and parameters: {'classifier': 'RandomForest', 'n_estimators': 1210, 'max_depth': 18.423297868033067}. Best is trial 58 with value: 0.7589430894308943.\n",
      "[I 2020-08-14 07:24:12,897] Trial 60 finished with value: 0.7540570699824646 and parameters: {'classifier': 'RandomForest', 'n_estimators': 1830, 'max_depth': 10.924651816568657}. Best is trial 58 with value: 0.7589430894308943.\n",
      "[I 2020-08-14 07:24:18,804] Trial 61 finished with value: 0.75242308305436 and parameters: {'classifier': 'RandomForest', 'n_estimators': 1070, 'max_depth': 14.521582041973183}. Best is trial 58 with value: 0.7589430894308943.\n",
      "[I 2020-08-14 07:24:26,209] Trial 62 finished with value: 0.7508050374621393 and parameters: {'classifier': 'RandomForest', 'n_estimators': 1310, 'max_depth': 57.42472852856816}. Best is trial 58 with value: 0.7589430894308943.\n",
      "[I 2020-08-14 07:24:34,311] Trial 63 finished with value: 0.7475370636059302 and parameters: {'classifier': 'RandomForest', 'n_estimators': 1470, 'max_depth': 69.75303051447904}. Best is trial 58 with value: 0.7589430894308943.\n",
      "[I 2020-08-14 07:24:40,837] Trial 64 finished with value: 0.7540570699824646 and parameters: {'classifier': 'RandomForest', 'n_estimators': 1180, 'max_depth': 76.09814071323476}. Best is trial 58 with value: 0.7589430894308943.\n",
      "[I 2020-08-14 07:24:50,095] Trial 65 finished with value: 0.7524310537223019 and parameters: {'classifier': 'RandomForest', 'n_estimators': 1670, 'max_depth': 88.55994427169733}. Best is trial 58 with value: 0.7589430894308943.\n",
      "[I 2020-08-14 07:24:58,637] Trial 66 finished with value: 0.7507970667941973 and parameters: {'classifier': 'RandomForest', 'n_estimators': 1530, 'max_depth': 57.089865195786025}. Best is trial 58 with value: 0.7589430894308943.\n",
      "[I 2020-08-14 07:25:04,842] Trial 67 finished with value: 0.7524310537223019 and parameters: {'classifier': 'RandomForest', 'n_estimators': 1120, 'max_depth': 53.63009767905695}. Best is trial 58 with value: 0.7589430894308943.\n",
      "[I 2020-08-14 07:25:04,912] Trial 68 finished with value: 0.640068547744301 and parameters: {'classifier': 'SVC', 'svc_c': 6025038414.233346}. Best is trial 58 with value: 0.7589430894308943.\n",
      "[I 2020-08-14 07:25:10,390] Trial 69 finished with value: 0.7507970667941973 and parameters: {'classifier': 'RandomForest', 'n_estimators': 980, 'max_depth': 34.409621299220944}. Best is trial 58 with value: 0.7589430894308943.\n",
      "[I 2020-08-14 07:25:21,514] Trial 70 finished with value: 0.7524390243902439 and parameters: {'classifier': 'RandomForest', 'n_estimators': 2000, 'max_depth': 12.20933769538883}. Best is trial 58 with value: 0.7589430894308943.\n",
      "[I 2020-08-14 07:25:28,555] Trial 71 finished with value: 0.7459190180137095 and parameters: {'classifier': 'RandomForest', 'n_estimators': 1260, 'max_depth': 65.02496591354341}. Best is trial 58 with value: 0.7589430894308943.\n",
      "[I 2020-08-14 07:25:36,385] Trial 72 finished with value: 0.7475530049418141 and parameters: {'classifier': 'RandomForest', 'n_estimators': 1400, 'max_depth': 73.47831481247445}. Best is trial 58 with value: 0.7589430894308943.\n",
      "[I 2020-08-14 07:25:43,024] Trial 73 finished with value: 0.7491790212019768 and parameters: {'classifier': 'RandomForest', 'n_estimators': 1190, 'max_depth': 44.64286300894928}. Best is trial 58 with value: 0.7589430894308943.\n",
      "[I 2020-08-14 07:25:50,444] Trial 74 finished with value: 0.7524310537223019 and parameters: {'classifier': 'RandomForest', 'n_estimators': 1340, 'max_depth': 37.365586187885924}. Best is trial 58 with value: 0.7589430894308943.\n",
      "[I 2020-08-14 07:25:55,130] Trial 75 finished with value: 0.7508050374621393 and parameters: {'classifier': 'RandomForest', 'n_estimators': 840, 'max_depth': 28.43609940716107}. Best is trial 58 with value: 0.7589430894308943.\n",
      "[I 2020-08-14 07:26:02,135] Trial 76 finished with value: 0.7491869918699187 and parameters: {'classifier': 'RandomForest', 'n_estimators': 1260, 'max_depth': 81.92698929784154}. Best is trial 58 with value: 0.7589430894308943.\n",
      "[I 2020-08-14 07:26:11,134] Trial 77 finished with value: 0.7524390243902439 and parameters: {'classifier': 'RandomForest', 'n_estimators': 1600, 'max_depth': 63.07193260412511}. Best is trial 58 with value: 0.7589430894308943.\n",
      "[I 2020-08-14 07:26:19,336] Trial 78 finished with value: 0.7524310537223019 and parameters: {'classifier': 'RandomForest', 'n_estimators': 1480, 'max_depth': 47.97288895307021}. Best is trial 58 with value: 0.7589430894308943.\n",
      "[I 2020-08-14 07:26:27,170] Trial 79 finished with value: 0.7524390243902439 and parameters: {'classifier': 'RandomForest', 'n_estimators': 1410, 'max_depth': 58.667489316354036}. Best is trial 58 with value: 0.7589430894308943.\n",
      "[I 2020-08-14 07:26:35,784] Trial 80 finished with value: 0.7475450342738722 and parameters: {'classifier': 'RandomForest', 'n_estimators': 1550, 'max_depth': 65.520595397353}. Best is trial 58 with value: 0.7589430894308943.\n",
      "[I 2020-08-14 07:26:43,016] Trial 81 finished with value: 0.760561135023115 and parameters: {'classifier': 'RandomForest', 'n_estimators': 1310, 'max_depth': 89.86793682682733}. Best is trial 81 with value: 0.760561135023115.\n",
      "[I 2020-08-14 07:26:49,992] Trial 82 finished with value: 0.7459190180137095 and parameters: {'classifier': 'RandomForest', 'n_estimators': 1220, 'max_depth': 93.11409989768842}. Best is trial 81 with value: 0.760561135023115.\n",
      "[I 2020-08-14 07:26:51,167] Trial 83 finished with value: 0.7507811254583134 and parameters: {'classifier': 'RandomForest', 'n_estimators': 200, 'max_depth': 70.59277521227462}. Best is trial 81 with value: 0.760561135023115.\n",
      "[I 2020-08-14 07:26:57,356] Trial 84 finished with value: 0.7540570699824646 and parameters: {'classifier': 'RandomForest', 'n_estimators': 1100, 'max_depth': 50.79990948610697}. Best is trial 81 with value: 0.760561135023115.\n",
      "[I 2020-08-14 07:27:06,446] Trial 85 finished with value: 0.7573170731707317 and parameters: {'classifier': 'RandomForest', 'n_estimators': 1670, 'max_depth': 80.33921593147853}. Best is trial 81 with value: 0.760561135023115.\n",
      "[I 2020-08-14 07:27:15,897] Trial 86 finished with value: 0.7459190180137095 and parameters: {'classifier': 'RandomForest', 'n_estimators': 1700, 'max_depth': 79.31301497391189}. Best is trial 81 with value: 0.760561135023115.\n",
      "[I 2020-08-14 07:27:15,964] Trial 87 finished with value: 0.640068547744301 and parameters: {'classifier': 'SVC', 'svc_c': 356.3717327220329}. Best is trial 81 with value: 0.760561135023115.\n",
      "[I 2020-08-14 07:27:26,205] Trial 88 finished with value: 0.7475609756097561 and parameters: {'classifier': 'RandomForest', 'n_estimators': 1830, 'max_depth': 88.51864928194775}. Best is trial 81 with value: 0.760561135023115.\n",
      "[I 2020-08-14 07:27:32,097] Trial 89 finished with value: 0.7524310537223019 and parameters: {'classifier': 'RandomForest', 'n_estimators': 1060, 'max_depth': 98.21015944821029}. Best is trial 81 with value: 0.760561135023115.\n",
      "[I 2020-08-14 07:27:37,709] Trial 90 finished with value: 0.7491790212019768 and parameters: {'classifier': 'RandomForest', 'n_estimators': 1000, 'max_depth': 82.58090415621024}. Best is trial 81 with value: 0.760561135023115.\n",
      "[I 2020-08-14 07:27:45,037] Trial 91 finished with value: 0.7540570699824646 and parameters: {'classifier': 'RandomForest', 'n_estimators': 1310, 'max_depth': 67.97430208213193}. Best is trial 81 with value: 0.760561135023115.\n",
      "[I 2020-08-14 07:27:54,154] Trial 92 finished with value: 0.7508050374621393 and parameters: {'classifier': 'RandomForest', 'n_estimators': 1640, 'max_depth': 59.99925668754887}. Best is trial 81 with value: 0.760561135023115.\n",
      "[I 2020-08-14 07:28:01,841] Trial 93 finished with value: 0.7524469950581859 and parameters: {'classifier': 'RandomForest', 'n_estimators': 1370, 'max_depth': 73.74805267725694}. Best is trial 81 with value: 0.760561135023115.\n",
      "[I 2020-08-14 07:28:08,530] Trial 94 finished with value: 0.7508130081300813 and parameters: {'classifier': 'RandomForest', 'n_estimators': 1180, 'max_depth': 95.54206963786386}. Best is trial 81 with value: 0.760561135023115.\n",
      "[I 2020-08-14 07:28:15,047] Trial 95 finished with value: 0.7540570699824646 and parameters: {'classifier': 'RandomForest', 'n_estimators': 1160, 'max_depth': 52.61956217965624}. Best is trial 81 with value: 0.760561135023115.\n",
      "[I 2020-08-14 07:28:23,342] Trial 96 finished with value: 0.7573091025027897 and parameters: {'classifier': 'RandomForest', 'n_estimators': 1480, 'max_depth': 56.61656072776037}. Best is trial 81 with value: 0.760561135023115.\n",
      "[I 2020-08-14 07:28:31,730] Trial 97 finished with value: 0.7491869918699187 and parameters: {'classifier': 'RandomForest', 'n_estimators': 1510, 'max_depth': 78.40127826375662}. Best is trial 81 with value: 0.760561135023115.\n",
      "[I 2020-08-14 07:28:40,534] Trial 98 finished with value: 0.7540570699824646 and parameters: {'classifier': 'RandomForest', 'n_estimators': 1570, 'max_depth': 86.1473919745394}. Best is trial 81 with value: 0.760561135023115.\n",
      "[I 2020-08-14 07:28:47,665] Trial 99 finished with value: 0.7556910569105691 and parameters: {'classifier': 'RandomForest', 'n_estimators': 1280, 'max_depth': 62.41165712555515}. Best is trial 81 with value: 0.760561135023115.\n"
     ]
    },
    {
     "name": "stdout",
     "output_type": "stream",
     "text": [
      "Accuracy: 0.760561135023115\n",
      "Best hyperparameters: {'classifier': 'RandomForest', 'n_estimators': 1310, 'max_depth': 89.86793682682733}\n"
     ]
    }
   ],
   "source": [
    "study = optuna.create_study(direction='maximize')\n",
    "study.optimize(objective, n_trials=100)\n",
    "\n",
    "trial = study.best_trial\n",
    "\n",
    "print('Accuracy: {}'.format(trial.value))\n",
    "print(\"Best hyperparameters: {}\".format(trial.params))"
   ]
  },
  {
   "cell_type": "code",
   "execution_count": 40,
   "metadata": {
    "colab": {
     "base_uri": "https://localhost:8080/",
     "height": 54
    },
    "colab_type": "code",
    "id": "ncuf4ieYRnSi",
    "outputId": "57f6af83-c149-47d1-cb76-9ccb0c0e6717"
   },
   "outputs": [
    {
     "data": {
      "text/plain": [
       "FrozenTrial(number=81, value=0.760561135023115, datetime_start=datetime.datetime(2020, 8, 14, 7, 26, 35, 788011), datetime_complete=datetime.datetime(2020, 8, 14, 7, 26, 43, 16456), params={'classifier': 'RandomForest', 'n_estimators': 1310, 'max_depth': 89.86793682682733}, distributions={'classifier': CategoricalDistribution(choices=('RandomForest', 'SVC')), 'n_estimators': IntUniformDistribution(high=2000, low=200, step=10), 'max_depth': LogUniformDistribution(high=100, low=10)}, user_attrs={}, system_attrs={}, intermediate_values={}, trial_id=81, state=TrialState.COMPLETE)"
      ]
     },
     "execution_count": 40,
     "metadata": {
      "tags": []
     },
     "output_type": "execute_result"
    }
   ],
   "source": [
    "trial"
   ]
  },
  {
   "cell_type": "code",
   "execution_count": 41,
   "metadata": {
    "colab": {
     "base_uri": "https://localhost:8080/",
     "height": 68
    },
    "colab_type": "code",
    "id": "h3_p1g1PRnSt",
    "outputId": "b784761a-8897-43a5-892a-b2630186ea7b"
   },
   "outputs": [
    {
     "data": {
      "text/plain": [
       "{'classifier': 'RandomForest',\n",
       " 'max_depth': 89.86793682682733,\n",
       " 'n_estimators': 1310}"
      ]
     },
     "execution_count": 41,
     "metadata": {
      "tags": []
     },
     "output_type": "execute_result"
    }
   ],
   "source": [
    "study.best_params"
   ]
  },
  {
   "cell_type": "code",
   "execution_count": 42,
   "metadata": {
    "colab": {
     "base_uri": "https://localhost:8080/",
     "height": 153
    },
    "colab_type": "code",
    "id": "WAttrpArRnS4",
    "outputId": "6918ffae-93aa-4f50-d05d-b5547f56ea4b"
   },
   "outputs": [
    {
     "data": {
      "text/plain": [
       "RandomForestClassifier(bootstrap=True, ccp_alpha=0.0, class_weight=None,\n",
       "                       criterion='gini', max_depth=30, max_features='auto',\n",
       "                       max_leaf_nodes=None, max_samples=None,\n",
       "                       min_impurity_decrease=0.0, min_impurity_split=None,\n",
       "                       min_samples_leaf=1, min_samples_split=2,\n",
       "                       min_weight_fraction_leaf=0.0, n_estimators=330,\n",
       "                       n_jobs=None, oob_score=False, random_state=None,\n",
       "                       verbose=0, warm_start=False)"
      ]
     },
     "execution_count": 42,
     "metadata": {
      "tags": []
     },
     "output_type": "execute_result"
    }
   ],
   "source": [
    "rf=RandomForestClassifier(n_estimators=330,max_depth=30)\n",
    "rf.fit(X_train,y_train)"
   ]
  },
  {
   "cell_type": "code",
   "execution_count": 43,
   "metadata": {
    "colab": {
     "base_uri": "https://localhost:8080/",
     "height": 221
    },
    "colab_type": "code",
    "id": "10KzUy4YRnTF",
    "outputId": "47cb9ab0-676b-4dbd-e73e-ea87bb1732e7"
   },
   "outputs": [
    {
     "name": "stdout",
     "output_type": "stream",
     "text": [
      "[[94 13]\n",
      " [16 31]]\n",
      "0.8116883116883117\n",
      "              precision    recall  f1-score   support\n",
      "\n",
      "           0       0.85      0.88      0.87       107\n",
      "           1       0.70      0.66      0.68        47\n",
      "\n",
      "    accuracy                           0.81       154\n",
      "   macro avg       0.78      0.77      0.77       154\n",
      "weighted avg       0.81      0.81      0.81       154\n",
      "\n"
     ]
    }
   ],
   "source": [
    "y_pred=rf.predict(X_test)\n",
    "print(confusion_matrix(y_test,y_pred))\n",
    "print(accuracy_score(y_test,y_pred))\n",
    "print(classification_report(y_test,y_pred))"
   ]
  }
 ],
 "metadata": {
  "accelerator": "GPU",
  "colab": {
   "collapsed_sections": [],
   "name": "Hyper Parameter Optimization.ipynb",
   "provenance": [],
   "toc_visible": true
  },
  "kernelspec": {
   "display_name": "Python 3",
   "language": "python",
   "name": "python3"
  },
  "language_info": {
   "codemirror_mode": {
    "name": "ipython",
    "version": 3
   },
   "file_extension": ".py",
   "mimetype": "text/x-python",
   "name": "python",
   "nbconvert_exporter": "python",
   "pygments_lexer": "ipython3",
   "version": "3.7.4"
  },
  "widgets": {
   "application/vnd.jupyter.widget-state+json": {
    "1e6bcec4fe7f4de2be84f8010f8e4497": {
     "model_module": "@jupyter-widgets/base",
     "model_name": "LayoutModel",
     "state": {
      "_model_module": "@jupyter-widgets/base",
      "_model_module_version": "1.2.0",
      "_model_name": "LayoutModel",
      "_view_count": null,
      "_view_module": "@jupyter-widgets/base",
      "_view_module_version": "1.2.0",
      "_view_name": "LayoutView",
      "align_content": null,
      "align_items": null,
      "align_self": null,
      "border": null,
      "bottom": null,
      "display": null,
      "flex": null,
      "flex_flow": null,
      "grid_area": null,
      "grid_auto_columns": null,
      "grid_auto_flow": null,
      "grid_auto_rows": null,
      "grid_column": null,
      "grid_gap": null,
      "grid_row": null,
      "grid_template_areas": null,
      "grid_template_columns": null,
      "grid_template_rows": null,
      "height": null,
      "justify_content": null,
      "justify_items": null,
      "left": null,
      "margin": null,
      "max_height": null,
      "max_width": null,
      "min_height": null,
      "min_width": null,
      "object_fit": null,
      "object_position": null,
      "order": null,
      "overflow": null,
      "overflow_x": null,
      "overflow_y": null,
      "padding": null,
      "right": null,
      "top": null,
      "visibility": null,
      "width": null
     }
    },
    "258bdd8fd96845fbb561a9fc1f6cff6a": {
     "model_module": "@jupyter-widgets/controls",
     "model_name": "HTMLModel",
     "state": {
      "_dom_classes": [],
      "_model_module": "@jupyter-widgets/controls",
      "_model_module_version": "1.5.0",
      "_model_name": "HTMLModel",
      "_view_count": null,
      "_view_module": "@jupyter-widgets/controls",
      "_view_module_version": "1.5.0",
      "_view_name": "HTMLView",
      "description": "",
      "description_tooltip": null,
      "layout": "IPY_MODEL_275816583b8a41c78658780a5b07b1e1",
      "placeholder": "​",
      "style": "IPY_MODEL_ea365a69b7144638b6d8014d406ea56d",
      "value": " 84/84 [09:37&lt;00:00,  5.65s/pipeline]"
     }
    },
    "275816583b8a41c78658780a5b07b1e1": {
     "model_module": "@jupyter-widgets/base",
     "model_name": "LayoutModel",
     "state": {
      "_model_module": "@jupyter-widgets/base",
      "_model_module_version": "1.2.0",
      "_model_name": "LayoutModel",
      "_view_count": null,
      "_view_module": "@jupyter-widgets/base",
      "_view_module_version": "1.2.0",
      "_view_name": "LayoutView",
      "align_content": null,
      "align_items": null,
      "align_self": null,
      "border": null,
      "bottom": null,
      "display": null,
      "flex": null,
      "flex_flow": null,
      "grid_area": null,
      "grid_auto_columns": null,
      "grid_auto_flow": null,
      "grid_auto_rows": null,
      "grid_column": null,
      "grid_gap": null,
      "grid_row": null,
      "grid_template_areas": null,
      "grid_template_columns": null,
      "grid_template_rows": null,
      "height": null,
      "justify_content": null,
      "justify_items": null,
      "left": null,
      "margin": null,
      "max_height": null,
      "max_width": null,
      "min_height": null,
      "min_width": null,
      "object_fit": null,
      "object_position": null,
      "order": null,
      "overflow": null,
      "overflow_x": null,
      "overflow_y": null,
      "padding": null,
      "right": null,
      "top": null,
      "visibility": null,
      "width": null
     }
    },
    "42e0476f39cd4ce1820d61c67ce1f0c3": {
     "model_module": "@jupyter-widgets/controls",
     "model_name": "ProgressStyleModel",
     "state": {
      "_model_module": "@jupyter-widgets/controls",
      "_model_module_version": "1.5.0",
      "_model_name": "ProgressStyleModel",
      "_view_count": null,
      "_view_module": "@jupyter-widgets/base",
      "_view_module_version": "1.2.0",
      "_view_name": "StyleView",
      "bar_color": null,
      "description_width": "initial"
     }
    },
    "4f8f0c1517c0493f9c36ed807e418d18": {
     "model_module": "@jupyter-widgets/controls",
     "model_name": "HBoxModel",
     "state": {
      "_dom_classes": [],
      "_model_module": "@jupyter-widgets/controls",
      "_model_module_version": "1.5.0",
      "_model_name": "HBoxModel",
      "_view_count": null,
      "_view_module": "@jupyter-widgets/controls",
      "_view_module_version": "1.5.0",
      "_view_name": "HBoxView",
      "box_style": "",
      "children": [
       "IPY_MODEL_854c98689e254147bed6f4efe0720b63",
       "IPY_MODEL_258bdd8fd96845fbb561a9fc1f6cff6a"
      ],
      "layout": "IPY_MODEL_1e6bcec4fe7f4de2be84f8010f8e4497"
     }
    },
    "5436e124452f45838e55e514ceadbbe6": {
     "model_module": "@jupyter-widgets/base",
     "model_name": "LayoutModel",
     "state": {
      "_model_module": "@jupyter-widgets/base",
      "_model_module_version": "1.2.0",
      "_model_name": "LayoutModel",
      "_view_count": null,
      "_view_module": "@jupyter-widgets/base",
      "_view_module_version": "1.2.0",
      "_view_name": "LayoutView",
      "align_content": null,
      "align_items": null,
      "align_self": null,
      "border": null,
      "bottom": null,
      "display": null,
      "flex": null,
      "flex_flow": null,
      "grid_area": null,
      "grid_auto_columns": null,
      "grid_auto_flow": null,
      "grid_auto_rows": null,
      "grid_column": null,
      "grid_gap": null,
      "grid_row": null,
      "grid_template_areas": null,
      "grid_template_columns": null,
      "grid_template_rows": null,
      "height": null,
      "justify_content": null,
      "justify_items": null,
      "left": null,
      "margin": null,
      "max_height": null,
      "max_width": null,
      "min_height": null,
      "min_width": null,
      "object_fit": null,
      "object_position": null,
      "order": null,
      "overflow": null,
      "overflow_x": null,
      "overflow_y": null,
      "padding": null,
      "right": null,
      "top": null,
      "visibility": null,
      "width": null
     }
    },
    "854c98689e254147bed6f4efe0720b63": {
     "model_module": "@jupyter-widgets/controls",
     "model_name": "FloatProgressModel",
     "state": {
      "_dom_classes": [],
      "_model_module": "@jupyter-widgets/controls",
      "_model_module_version": "1.5.0",
      "_model_name": "FloatProgressModel",
      "_view_count": null,
      "_view_module": "@jupyter-widgets/controls",
      "_view_module_version": "1.5.0",
      "_view_name": "ProgressView",
      "bar_style": "",
      "description": "Optimization Progress: 100%",
      "description_tooltip": null,
      "layout": "IPY_MODEL_5436e124452f45838e55e514ceadbbe6",
      "max": 84,
      "min": 0,
      "orientation": "horizontal",
      "style": "IPY_MODEL_42e0476f39cd4ce1820d61c67ce1f0c3",
      "value": 84
     }
    },
    "ea365a69b7144638b6d8014d406ea56d": {
     "model_module": "@jupyter-widgets/controls",
     "model_name": "DescriptionStyleModel",
     "state": {
      "_model_module": "@jupyter-widgets/controls",
      "_model_module_version": "1.5.0",
      "_model_name": "DescriptionStyleModel",
      "_view_count": null,
      "_view_module": "@jupyter-widgets/base",
      "_view_module_version": "1.2.0",
      "_view_name": "StyleView",
      "description_width": ""
     }
    }
   }
  }
 },
 "nbformat": 4,
 "nbformat_minor": 1
}
